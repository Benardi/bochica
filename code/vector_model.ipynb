{
 "cells": [
  {
   "cell_type": "code",
   "execution_count": null,
   "metadata": {},
   "outputs": [],
   "source": [
    "from IPython.display import HTML\n",
    "\n",
    "HTML('''<script>\n",
    "code_show=true; \n",
    "function code_toggle() {\n",
    " if (code_show){\n",
    " $('div.input').hide();\n",
    " } else {\n",
    " $('div.input').show();\n",
    " }\n",
    " code_show = !code_show\n",
    "} \n",
    "$( document ).ready(code_toggle);\n",
    "</script>\n",
    "<form action=\"javascript:code_toggle()\"><input type=\"submit\" value=\"Click here to toggle on/off the raw code.\"></form>''')"
   ]
  },
  {
   "cell_type": "markdown",
   "metadata": {},
   "source": [
    "# Vector Model"
   ]
  },
  {
   "cell_type": "code",
   "execution_count": 1,
   "metadata": {},
   "outputs": [],
   "source": [
    "from ast import literal_eval\n",
    "from math import log\n",
    "\n",
    "from IPython.display import Markdown, display, HTML\n",
    "import pandas as pd"
   ]
  },
  {
   "cell_type": "markdown",
   "metadata": {},
   "source": [
    "## Load Data"
   ]
  },
  {
   "cell_type": "code",
   "execution_count": 2,
   "metadata": {},
   "outputs": [
    {
     "data": {
      "text/markdown": [
       "## Inverted Index"
      ],
      "text/plain": [
       "<IPython.core.display.Markdown object>"
      ]
     },
     "metadata": {},
     "output_type": "display_data"
    },
    {
     "data": {
      "text/html": [
       "<div>\n",
       "<style scoped>\n",
       "    .dataframe tbody tr th:only-of-type {\n",
       "        vertical-align: middle;\n",
       "    }\n",
       "\n",
       "    .dataframe tbody tr th {\n",
       "        vertical-align: top;\n",
       "    }\n",
       "\n",
       "    .dataframe thead th {\n",
       "        text-align: right;\n",
       "    }\n",
       "</style>\n",
       "<table border=\"1\" class=\"dataframe\">\n",
       "  <thead>\n",
       "    <tr style=\"text-align: right;\">\n",
       "      <th></th>\n",
       "      <th>doc_id:freq</th>\n",
       "    </tr>\n",
       "    <tr>\n",
       "      <th>word</th>\n",
       "      <th></th>\n",
       "    </tr>\n",
       "  </thead>\n",
       "  <tbody>\n",
       "    <tr>\n",
       "      <th>juíza</th>\n",
       "      <td>[(0, 2), (1, 1)]</td>\n",
       "    </tr>\n",
       "    <tr>\n",
       "      <th>federal</th>\n",
       "      <td>[(0, 1), (1, 1), (2, 1), (6, 2), (14, 1), (36,...</td>\n",
       "    </tr>\n",
       "    <tr>\n",
       "      <th>Ivani</th>\n",
       "      <td>[(0, 1), (1, 1)]</td>\n",
       "    </tr>\n",
       "    <tr>\n",
       "      <th>Silva</th>\n",
       "      <td>[(0, 3), (1, 1), (5, 1), (13, 2), (25, 1), (72...</td>\n",
       "    </tr>\n",
       "    <tr>\n",
       "      <th>Luz</th>\n",
       "      <td>[(0, 3), (1, 1), (124, 1)]</td>\n",
       "    </tr>\n",
       "  </tbody>\n",
       "</table>\n",
       "</div>"
      ],
      "text/plain": [
       "                                               doc_id:freq\n",
       "word                                                      \n",
       "juíza                                     [(0, 2), (1, 1)]\n",
       "federal  [(0, 1), (1, 1), (2, 1), (6, 2), (14, 1), (36,...\n",
       "Ivani                                     [(0, 1), (1, 1)]\n",
       "Silva    [(0, 3), (1, 1), (5, 1), (13, 2), (25, 1), (72...\n",
       "Luz                             [(0, 3), (1, 1), (124, 1)]"
      ]
     },
     "execution_count": 2,
     "metadata": {},
     "output_type": "execute_result"
    }
   ],
   "source": [
    "inv_index = pd.read_csv(\"../output/inverted_index.csv\").set_index(['word'])\\\n",
    "            .drop('vivoÉ').drop('ônibusFoi') #remove nltk tokenization mistake\n",
    "inv_index[\"doc_id:freq\"] = inv_index[\"doc_id:freq\"].apply(lambda x: literal_eval(x))\n",
    "display(Markdown(\"## Inverted Index\"))\n",
    "\n",
    "inv_index.head(5)"
   ]
  },
  {
   "cell_type": "markdown",
   "metadata": {},
   "source": [
    "## Adding Inverse Document Frequency  (IDF)"
   ]
  },
  {
   "cell_type": "code",
   "execution_count": 3,
   "metadata": {},
   "outputs": [
    {
     "data": {
      "text/markdown": [
       "* Let's employ the number  of documents in this particular                   collection (N=249) in our calculations"
      ],
      "text/plain": [
       "<IPython.core.display.Markdown object>"
      ]
     },
     "metadata": {},
     "output_type": "display_data"
    }
   ],
   "source": [
    "# number of documents in the collection\n",
    "n_docs = inv_index[\"doc_id:freq\"].apply(lambda x: list(i[0] for i in x)).sum()\n",
    "n_docs = len(set(n_docs))\n",
    "display(Markdown(\"* Let's employ the number  of documents in this particular \\\n",
    "                  collection (N={}) in our calculations\".format(n_docs)))"
   ]
  },
  {
   "cell_type": "code",
   "execution_count": 5,
   "metadata": {},
   "outputs": [
    {
     "data": {
      "text/html": [
       "<div>\n",
       "<style scoped>\n",
       "    .dataframe tbody tr th:only-of-type {\n",
       "        vertical-align: middle;\n",
       "    }\n",
       "\n",
       "    .dataframe tbody tr th {\n",
       "        vertical-align: top;\n",
       "    }\n",
       "\n",
       "    .dataframe thead th {\n",
       "        text-align: right;\n",
       "    }\n",
       "</style>\n",
       "<table border=\"1\" class=\"dataframe\">\n",
       "  <thead>\n",
       "    <tr style=\"text-align: right;\">\n",
       "      <th></th>\n",
       "      <th>doc_id:freq</th>\n",
       "      <th>IDF</th>\n",
       "    </tr>\n",
       "    <tr>\n",
       "      <th>word</th>\n",
       "      <th></th>\n",
       "      <th></th>\n",
       "    </tr>\n",
       "  </thead>\n",
       "  <tbody>\n",
       "    <tr>\n",
       "      <th>discutem</th>\n",
       "      <td>[(93, 1)]</td>\n",
       "      <td>5.521461</td>\n",
       "    </tr>\n",
       "    <tr>\n",
       "      <th>gastos</th>\n",
       "      <td>[(10, 1), (27, 2), (36, 7), (46, 1), (114, 1),...</td>\n",
       "      <td>3.123566</td>\n",
       "    </tr>\n",
       "    <tr>\n",
       "      <th>digamos</th>\n",
       "      <td>[(12, 1), (24, 2)]</td>\n",
       "      <td>4.828314</td>\n",
       "    </tr>\n",
       "    <tr>\n",
       "      <th>projetou</th>\n",
       "      <td>[(143, 1)]</td>\n",
       "      <td>5.521461</td>\n",
       "    </tr>\n",
       "    <tr>\n",
       "      <th>extraditado</th>\n",
       "      <td>[(62, 1), (72, 1)]</td>\n",
       "      <td>4.828314</td>\n",
       "    </tr>\n",
       "  </tbody>\n",
       "</table>\n",
       "</div>"
      ],
      "text/plain": [
       "                                                   doc_id:freq       IDF\n",
       "word                                                                    \n",
       "discutem                                             [(93, 1)]  5.521461\n",
       "gastos       [(10, 1), (27, 2), (36, 7), (46, 1), (114, 1),...  3.123566\n",
       "digamos                                     [(12, 1), (24, 2)]  4.828314\n",
       "projetou                                            [(143, 1)]  5.521461\n",
       "extraditado                                 [(62, 1), (72, 1)]  4.828314"
      ]
     },
     "execution_count": 5,
     "metadata": {},
     "output_type": "execute_result"
    }
   ],
   "source": [
    "inv_index[\"IDF\"] = inv_index[\"doc_id:freq\"].apply(lambda x: log((n_docs + 1)/len(x)))\n",
    "inv_index.sample(5)"
   ]
  },
  {
   "cell_type": "markdown",
   "metadata": {},
   "source": [
    "## Strategy Implementations"
   ]
  },
  {
   "cell_type": "markdown",
   "metadata": {},
   "source": [
    "### Binary Vector Model"
   ]
  },
  {
   "cell_type": "code",
   "execution_count": 10,
   "metadata": {},
   "outputs": [],
   "source": [
    "query = [\"1964\",\"golpe\",\"ditadura\"]\n",
    "\n",
    "def binary_vector_model(index, query, doc_id):\n",
    "    result = inv_index.loc[set(query)][\"doc_id:freq\"]\n",
    "    result = result.apply(lambda x: 0 if not list(w for w in x if w[0] == doc_id) else 1)\n",
    "    result = result.sum()\n",
    "    \n",
    "    return result\n",
    "\n",
    "def term_frequency(index, query, doc_id):\n",
    "    \n",
    "    # Calculate frequency in query\n",
    "    query_fd = {}\n",
    "    for term in query:\n",
    "        if term not in query_fd:\n",
    "            query_fd[term] = 0\n",
    "\n",
    "        query_fd[term] += 1\n",
    "\n",
    "    \n",
    "    # Get document frequency from inverted index\n",
    "    term_f_in_doc = index.loc[set(query)][\"doc_id:freq\"]\\\n",
    "                      .apply(lambda x: list(w for w in x if w[0] == doc_id))\\\n",
    "                      .apply(lambda x: x[0][1]) # Extract freq \n",
    "\n",
    "    # Combine doc freq and query frequency to make score\n",
    "    score = 0\n",
    "    for term, freq in query_fd.items():\n",
    "        query_score = freq \n",
    "        doc_score = term_f_in_doc.xs(term)\n",
    "        score += query_score * doc_score\n",
    "\n",
    "    return score\n",
    "\n",
    "def tf_idf(index, query, doc_id):\n",
    "    query_fd = {}\n",
    "    for term in query:\n",
    "        if term not in query_fd:\n",
    "            query_fd[term] = 0\n",
    "\n",
    "        query_fd[term] += 1\n",
    "\n",
    "    term_f_in_doc = index.loc[set(query)]\n",
    "    term_f_in_doc[\"doc_id:freq\"] = term_f_in_doc[\"doc_id:freq\"].\\\n",
    "                                   apply(lambda x: list(w for w in x if w[0] == doc_id))\n",
    "    term_f_in_doc[\"doc_id:freq\"] = term_f_in_doc[\"doc_id:freq\"].\\\n",
    "                                   apply(lambda x: x[0][1] if not (len(x) == 0) else 0)\n",
    "\n",
    "    score = 0\n",
    "    for term, freq in query_fd.items():\n",
    "        query_score = freq \n",
    "        doc_score = term_f_in_doc.xs(term)['doc_id:freq']\n",
    "        idf_score = term_f_in_doc.xs(term)['IDF']\n",
    "        score += query_score * doc_score * idf_score\n",
    "        \n",
    "    return score"
   ]
  },
  {
   "cell_type": "code",
   "execution_count": 11,
   "metadata": {},
   "outputs": [
    {
     "data": {
      "text/plain": [
       "7.870424748852292"
      ]
     },
     "execution_count": 11,
     "metadata": {},
     "output_type": "execute_result"
    }
   ],
   "source": [
    "query = [\"1964\",\"golpe\",\"ditadura\",\"Bolsonaro\",\"militar\"]\n",
    "\n",
    "tf_idf(inv_index, query, 1)"
   ]
  }
 ],
 "metadata": {
  "kernelspec": {
   "display_name": "Python 3",
   "language": "python",
   "name": "python3"
  },
  "language_info": {
   "codemirror_mode": {
    "name": "ipython",
    "version": 3
   },
   "file_extension": ".py",
   "mimetype": "text/x-python",
   "name": "python",
   "nbconvert_exporter": "python",
   "pygments_lexer": "ipython3",
   "version": "3.7.1"
  }
 },
 "nbformat": 4,
 "nbformat_minor": 2
}
