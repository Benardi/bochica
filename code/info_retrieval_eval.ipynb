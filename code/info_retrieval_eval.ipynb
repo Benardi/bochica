{
 "cells": [
  {
   "cell_type": "code",
   "execution_count": 1,
   "metadata": {},
   "outputs": [
    {
     "data": {
      "text/html": [
       "<script>\n",
       "code_show=true; \n",
       "function code_toggle() {\n",
       " if (code_show){\n",
       " $('div.input').hide();\n",
       " } else {\n",
       " $('div.input').show();\n",
       " }\n",
       " code_show = !code_show\n",
       "} \n",
       "$( document ).ready(code_toggle);\n",
       "</script>\n",
       "<form action=\"javascript:code_toggle()\"><input type=\"submit\" value=\"Click here to toggle on/off the raw code.\"></form>"
      ],
      "text/plain": [
       "<IPython.core.display.HTML object>"
      ]
     },
     "execution_count": 1,
     "metadata": {},
     "output_type": "execute_result"
    }
   ],
   "source": [
    "from IPython.display import HTML\n",
    "\n",
    "HTML('''<script>\n",
    "code_show=true; \n",
    "function code_toggle() {\n",
    " if (code_show){\n",
    " $('div.input').hide();\n",
    " } else {\n",
    " $('div.input').show();\n",
    " }\n",
    " code_show = !code_show\n",
    "} \n",
    "$( document ).ready(code_toggle);\n",
    "</script>\n",
    "<form action=\"javascript:code_toggle()\"><input type=\"submit\" value=\"Click here to toggle on/off the raw code.\"></form>''')"
   ]
  },
  {
   "cell_type": "code",
   "execution_count": 2,
   "metadata": {},
   "outputs": [],
   "source": [
    "from ast import literal_eval\n",
    "from math import log\n",
    "\n",
    "from IPython.display import Markdown, display, HTML\n",
    "import pandas as pd"
   ]
  },
  {
   "cell_type": "markdown",
   "metadata": {},
   "source": [
    "## Load Data"
   ]
  },
  {
   "cell_type": "code",
   "execution_count": 3,
   "metadata": {},
   "outputs": [
    {
     "data": {
      "text/markdown": [
       "## Inverted Index"
      ],
      "text/plain": [
       "<IPython.core.display.Markdown object>"
      ]
     },
     "metadata": {},
     "output_type": "display_data"
    },
    {
     "data": {
      "text/html": [
       "<table border=\"1\" class=\"dataframe\">\n",
       "  <thead>\n",
       "    <tr style=\"text-align: right;\">\n",
       "      <th></th>\n",
       "      <th>doc_id:freq</th>\n",
       "    </tr>\n",
       "    <tr>\n",
       "      <th>word</th>\n",
       "      <th></th>\n",
       "    </tr>\n",
       "  </thead>\n",
       "  <tbody>\n",
       "    <tr>\n",
       "      <th>juíza</th>\n",
       "      <td>[(0, 2), (1, 1)]</td>\n",
       "    </tr>\n",
       "    <tr>\n",
       "      <th>federal</th>\n",
       "      <td>[(0, 1), (1, 1), (2, 1), (6, 2), (14, 1), (36,...</td>\n",
       "    </tr>\n",
       "    <tr>\n",
       "      <th>Ivani</th>\n",
       "      <td>[(0, 1), (1, 1)]</td>\n",
       "    </tr>\n",
       "    <tr>\n",
       "      <th>Silva</th>\n",
       "      <td>[(0, 3), (1, 1), (5, 1), (13, 2), (25, 1), (72...</td>\n",
       "    </tr>\n",
       "    <tr>\n",
       "      <th>Luz</th>\n",
       "      <td>[(0, 3), (1, 1), (124, 1)]</td>\n",
       "    </tr>\n",
       "  </tbody>\n",
       "</table>"
      ],
      "text/plain": [
       "<IPython.core.display.HTML object>"
      ]
     },
     "metadata": {},
     "output_type": "display_data"
    }
   ],
   "source": [
    "inv_index = pd.read_csv(\"../output/inverted_index.csv\").set_index(['word'])\n",
    "inv_index[\"doc_id:freq\"] = inv_index[\"doc_id:freq\"].apply(lambda x: literal_eval(x))\n",
    "\n",
    "display(Markdown(\"## Inverted Index\"))\n",
    "display(HTML(inv_index.head(5).to_html()))"
   ]
  },
  {
   "cell_type": "markdown",
   "metadata": {},
   "source": [
    "### Adding Inverse Document Frequency  (IDF)"
   ]
  },
  {
   "cell_type": "code",
   "execution_count": 4,
   "metadata": {},
   "outputs": [
    {
     "data": {
      "text/markdown": [
       "* Let's employ the number  of documents in this particular                   collection (N=249) in our calculations"
      ],
      "text/plain": [
       "<IPython.core.display.Markdown object>"
      ]
     },
     "metadata": {},
     "output_type": "display_data"
    }
   ],
   "source": [
    "# number of documents in the collection\n",
    "n_docs = inv_index[\"doc_id:freq\"].apply(lambda x: list(i[0] for i in x)).sum()\n",
    "n_docs = len(set(n_docs))\n",
    "display(Markdown(\"* Let's employ the number  of documents in this particular \\\n",
    "                  collection (N={}) in our calculations\".format(n_docs)))"
   ]
  },
  {
   "cell_type": "code",
   "execution_count": 5,
   "metadata": {},
   "outputs": [
    {
     "data": {
      "text/html": [
       "<div>\n",
       "<style scoped>\n",
       "    .dataframe tbody tr th:only-of-type {\n",
       "        vertical-align: middle;\n",
       "    }\n",
       "\n",
       "    .dataframe tbody tr th {\n",
       "        vertical-align: top;\n",
       "    }\n",
       "\n",
       "    .dataframe thead th {\n",
       "        text-align: right;\n",
       "    }\n",
       "</style>\n",
       "<table border=\"1\" class=\"dataframe\">\n",
       "  <thead>\n",
       "    <tr style=\"text-align: right;\">\n",
       "      <th></th>\n",
       "      <th>doc_id:freq</th>\n",
       "      <th>IDF</th>\n",
       "    </tr>\n",
       "    <tr>\n",
       "      <th>word</th>\n",
       "      <th></th>\n",
       "      <th></th>\n",
       "    </tr>\n",
       "  </thead>\n",
       "  <tbody>\n",
       "    <tr>\n",
       "      <th>arquivo</th>\n",
       "      <td>[(6, 1), (12, 1), (16, 1), (102, 1), (174, 1)]</td>\n",
       "      <td>3.912023</td>\n",
       "    </tr>\n",
       "    <tr>\n",
       "      <th>consolidando-se</th>\n",
       "      <td>[(19, 1)]</td>\n",
       "      <td>5.521461</td>\n",
       "    </tr>\n",
       "    <tr>\n",
       "      <th>mantinha</th>\n",
       "      <td>[(54, 1), (92, 1), (106, 1), (144, 1), (203, 1...</td>\n",
       "      <td>3.729701</td>\n",
       "    </tr>\n",
       "    <tr>\n",
       "      <th>percurso</th>\n",
       "      <td>[(65, 1), (142, 1), (150, 1), (178, 1), (184, 1)]</td>\n",
       "      <td>3.912023</td>\n",
       "    </tr>\n",
       "    <tr>\n",
       "      <th>privadas</th>\n",
       "      <td>[(97, 1), (144, 1), (145, 1), (210, 1), (220, 1)]</td>\n",
       "      <td>3.912023</td>\n",
       "    </tr>\n",
       "  </tbody>\n",
       "</table>\n",
       "</div>"
      ],
      "text/plain": [
       "                                                       doc_id:freq       IDF\n",
       "word                                                                        \n",
       "arquivo             [(6, 1), (12, 1), (16, 1), (102, 1), (174, 1)]  3.912023\n",
       "consolidando-se                                          [(19, 1)]  5.521461\n",
       "mantinha         [(54, 1), (92, 1), (106, 1), (144, 1), (203, 1...  3.729701\n",
       "percurso         [(65, 1), (142, 1), (150, 1), (178, 1), (184, 1)]  3.912023\n",
       "privadas         [(97, 1), (144, 1), (145, 1), (210, 1), (220, 1)]  3.912023"
      ]
     },
     "execution_count": 5,
     "metadata": {},
     "output_type": "execute_result"
    }
   ],
   "source": [
    "inv_index[\"IDF\"] = inv_index[\"doc_id:freq\"].apply(lambda x: log((n_docs + 1)/len(x)))\n",
    "inv_index.sample(5)"
   ]
  },
  {
   "cell_type": "markdown",
   "metadata": {},
   "source": [
    "<br>\n",
    "\n",
    "***\n",
    "\n",
    "<br>\n",
    "\n",
    "## Strategies Implementation"
   ]
  },
  {
   "cell_type": "markdown",
   "metadata": {},
   "source": [
    "### Binary Vector Space Model"
   ]
  },
  {
   "cell_type": "code",
   "execution_count": 6,
   "metadata": {},
   "outputs": [],
   "source": [
    "def binary_vsm(**kwargs):\n",
    "    \"\"\"Applies the binary vsm to a query and document\n",
    "\n",
    "    Applies the 'binary vector space model' to a query \n",
    "    and document, calculating a score.\n",
    "\n",
    "    :param pandas.core.frame.DataFrame index: inverted index.\n",
    "    :param list(str) query: list of terms that form a query.\n",
    "    :param int doc_id: id of the document.\n",
    "    \n",
    "    :return: relevance score, how relevant the document is \n",
    "             for that query\n",
    "\n",
    "    :rtype: number\n",
    "    \"\"\"\n",
    "    \n",
    "    index = kwargs[\"index\"]\n",
    "    query = kwargs[\"query\"]\n",
    "    doc_id = kwargs[\"doc_id\"]\n",
    "\n",
    "    result = index.reset_index().set_index('word').reindex(labels=set(query)).dropna()[\"doc_id:freq\"]\n",
    "    result = result.apply(lambda x: 0 if not list(w for w in x if w[0] == doc_id) else 1)\n",
    "    result = result.sum()\n",
    "    \n",
    "    return result"
   ]
  },
  {
   "cell_type": "markdown",
   "metadata": {},
   "source": [
    "### Term Frequency Vector Space Model"
   ]
  },
  {
   "cell_type": "code",
   "execution_count": 7,
   "metadata": {},
   "outputs": [],
   "source": [
    "def tf_vsm(**kwargs):\n",
    "    \"\"\"Applies the tf vsm to a query and document\n",
    "\n",
    "    Applies the 'term frequency vector space model' to a query \n",
    "    and document, calculating a score.\n",
    "\n",
    "    :param pandas.core.frame.DataFrame index: inverted index.\n",
    "    :param list(str) query: list of terms that form a query.\n",
    "    :param int doc_id: id of the document.\n",
    "    \n",
    "    :return: relevance score, how relevant the document is \n",
    "             for that query\n",
    "\n",
    "    :rtype: number\n",
    "    \"\"\"\n",
    "    \n",
    "    index = kwargs[\"index\"]\n",
    "    query = kwargs[\"query\"]\n",
    "    doc_id = kwargs[\"doc_id\"]\n",
    "    \n",
    "    # Calculate frequency in query\n",
    "    query_fd = {}\n",
    "    for term in query:\n",
    "        if term not in query_fd:\n",
    "            query_fd[term] = 0\n",
    "\n",
    "        query_fd[term] += 1\n",
    "\n",
    "    \n",
    "    # Get document frequency from inverted index\n",
    "    term_f_in_doc = index.reset_index().set_index('word').reindex(labels=set(query)).dropna()[\"doc_id:freq\"]\\\n",
    "                      .apply(lambda x: list(w for w in x if w[0] == doc_id))\\\n",
    "                      .apply(lambda x: x[0][1] if not (len(x) == 0) else 0) # Extract freq \n",
    "\n",
    "    # Combine doc freq and query frequency to make score\n",
    "    score = 0\n",
    "    for term, freq in query_fd.items():\n",
    "        query_score = freq \n",
    "        doc_score = None\n",
    "\n",
    "        # try catch for when a term doesn't match at all\n",
    "        try:\n",
    "            doc_score = term_f_in_doc.xs(term)\n",
    "        except KeyError as exc:\n",
    "            doc_score = 0\n",
    "\n",
    "        score += query_score * doc_score\n",
    "\n",
    "    return score"
   ]
  },
  {
   "cell_type": "markdown",
   "metadata": {},
   "source": [
    "### Term Frequency - Inverse Document Frequency Vector Space Model"
   ]
  },
  {
   "cell_type": "code",
   "execution_count": 8,
   "metadata": {},
   "outputs": [],
   "source": [
    "def tf_idf_vsm(**kwargs):\n",
    "    \"\"\"Applies the tf-idf vsm to a query and document\n",
    "\n",
    "    Applies the 'term frequency vector inverse document frequency\n",
    "    space model' to a query and document, calculating a score.\n",
    "\n",
    "    :param pandas.core.frame.DataFrame index: inverted index.\n",
    "    :param list(str) query: list of terms that form a query.\n",
    "    :param int doc_id: id of the document.\n",
    "    \n",
    "    :return: relevance score, how relevant the document is \n",
    "             for that query\n",
    "\n",
    "    :rtype: number\n",
    "    \"\"\"    \n",
    "    \n",
    "    index = kwargs[\"index\"]\n",
    "    query = kwargs[\"query\"]\n",
    "    doc_id = kwargs[\"doc_id\"]\n",
    "    \n",
    "    # Calculate frequency in query\n",
    "    query_fd = {}\n",
    "    for term in query:\n",
    "        if term not in query_fd:\n",
    "            query_fd[term] = 0\n",
    "\n",
    "        query_fd[term] += 1\n",
    "\n",
    "    # Get document frequency from inverted index\n",
    "    term_f_in_doc = index.reset_index().set_index('word').reindex(labels=set(query)).dropna()\n",
    "    term_f_in_doc[\"doc_id:freq\"] = term_f_in_doc[\"doc_id:freq\"].\\\n",
    "                                   apply(lambda x: list(w for w in x if w[0] == doc_id))\n",
    "    term_f_in_doc[\"doc_id:freq\"] = term_f_in_doc[\"doc_id:freq\"].\\\n",
    "                                   apply(lambda x: x[0][1] if not (len(x) == 0) else 0)\n",
    "\n",
    "    # Combine doc freq and query frequency to make score\n",
    "    score = 0\n",
    "    for term, freq in query_fd.items():\n",
    "        query_score = freq \n",
    "        doc_score = None\n",
    "        idf_score = None\n",
    "\n",
    "        # try catch for when a term doesn't match at all\n",
    "        try:\n",
    "            doc_score = term_f_in_doc.xs(term)['doc_id:freq']\n",
    "        except KeyError as exc:\n",
    "            doc_score = 0\n",
    "\n",
    "        try:\n",
    "            idf_score = term_f_in_doc.xs(term)['IDF']\n",
    "        except KeyError as exc:\n",
    "            idf_score = 0\n",
    "\n",
    "        score += query_score * doc_score * idf_score\n",
    "        \n",
    "    return score"
   ]
  },
  {
   "cell_type": "markdown",
   "metadata": {},
   "source": [
    "### Best Match 25 Vector Space Model"
   ]
  },
  {
   "cell_type": "code",
   "execution_count": 9,
   "metadata": {},
   "outputs": [],
   "source": [
    "def bm25_vsm(**kwargs):\n",
    "    \"\"\"Applies the bm25 vsm to a query and document\n",
    "\n",
    "    Applies the 'Best Matching 25 space model' to a query \n",
    "    and document, calculating a score.\n",
    "\n",
    "    :param pandas.core.frame.DataFrame index: inverted index.\n",
    "    :param list(str) query: list of terms that form a query.\n",
    "    :param int doc_id: id of the document.\n",
    "    :param int k: term frequency saturation factor\n",
    "    \n",
    "    :return: relevance score, how relevant the document is \n",
    "             for that query\n",
    "\n",
    "    :rtype: number\n",
    "    \"\"\"    \n",
    "    \n",
    "    index = kwargs[\"index\"]\n",
    "    query = kwargs[\"query\"]\n",
    "    doc_id = kwargs[\"doc_id\"]\n",
    "    k = kwargs[\"k\"]\n",
    "    \n",
    "    # Calculate frequency in query\n",
    "    query_fd = {}\n",
    "    for term in query:\n",
    "        if term not in query_fd:\n",
    "            query_fd[term] = 0\n",
    "\n",
    "        query_fd[term] += 1\n",
    "\n",
    "    # Get document frequency from inverted index\n",
    "    term_f_in_doc = index.reset_index().set_index('word').reindex(labels=set(query)).dropna()\n",
    "    term_f_in_doc[\"doc_id:freq\"] = term_f_in_doc[\"doc_id:freq\"].\\\n",
    "                                   apply(lambda x: list(w for w in x if w[0] == doc_id))\n",
    "    term_f_in_doc[\"doc_id:freq\"] = term_f_in_doc[\"doc_id:freq\"].\\\n",
    "                                   apply(lambda x: x[0][1] if not (len(x) == 0) else 0)\n",
    "\n",
    "    # Combine doc freq and query frequency to make score\n",
    "    score = 0\n",
    "    for term, freq in query_fd.items():\n",
    "        query_score = freq \n",
    "        doc_score = None\n",
    "        idf_score = None\n",
    "\n",
    "        # try catch for when a term doesn't match at all\n",
    "        try:\n",
    "            doc_count = term_f_in_doc.xs(term)['doc_id:freq']\n",
    "            doc_score = 0 if doc_count == 0 else (doc_count * (k + 1)) / (doc_count + k)\n",
    "        except KeyError as exc:\n",
    "            doc_score = 0\n",
    "            \n",
    "        try:\n",
    "            idf_score = term_f_in_doc.xs(term)['IDF']\n",
    "        except KeyError as exc:\n",
    "            idf_score = 0\n",
    "        \n",
    "        score += query_score * doc_score * idf_score\n",
    "\n",
    "    return score"
   ]
  },
  {
   "cell_type": "markdown",
   "metadata": {},
   "source": [
    "### Strategy Wrapper"
   ]
  },
  {
   "cell_type": "code",
   "execution_count": 10,
   "metadata": {},
   "outputs": [],
   "source": [
    "from bisect import insort_left\n",
    "\n",
    "\n",
    "def get_n_best_docs(**kwargs):\n",
    "    \"\"\"Retrieves n most relevant docs according to a strategy\n",
    "\n",
    "    Retrieves the n most relevant documents in a given collection\n",
    "    according to a given strategy.\n",
    "\n",
    "    :param pandas.core.frame.DataFrame index: inverted index.\n",
    "    :param list(str) query: list of terms that form a query.\n",
    "    :param list(int) docs: All documents to be evaluated \n",
    "                           (extracted from index if not specified).\n",
    "    :param function strategy: vsm strategy (its params must be \n",
    "                              supplied as well)\n",
    "    \n",
    "    :return: list of document ids by rank in decrescent order\n",
    "\n",
    "    :rtype: list((number,number))\n",
    "    \"\"\"   \n",
    "\n",
    "    n = kwargs.pop(\"n\")\n",
    "    strategy = kwargs.pop(\"strategy\")\n",
    "    \n",
    "    if \"docs\" in kwargs:\n",
    "        docs = kwargs.pop(\"docs\")\n",
    "    else:        \n",
    "        docs = index[\"doc_id:freq\"].apply(lambda x: list(w[0] for w in x)).sum()\n",
    "        docs = list(set(docs))\n",
    "        \n",
    "    rank = []\n",
    "    for doc in docs:\n",
    "        score = strategy(doc_id=doc,**kwargs)\n",
    "        insort_left(rank, (score,doc))\n",
    "        rank = rank[-n:]\n",
    "\n",
    "    return rank"
   ]
  },
  {
   "cell_type": "markdown",
   "metadata": {},
   "source": [
    "## Strategy Evaluation"
   ]
  },
  {
   "cell_type": "code",
   "execution_count": 11,
   "metadata": {},
   "outputs": [
    {
     "data": {
      "text/markdown": [
       "##### Inverted Index's source data"
      ],
      "text/plain": [
       "<IPython.core.display.Markdown object>"
      ]
     },
     "metadata": {},
     "output_type": "display_data"
    },
    {
     "data": {
      "text/plain": [
       "0    “A sociedade foi Rubens Paiva  não os facínora...\n",
       "1    Justiça suspende decisão que proibia Forças Ar...\n",
       "2    Governo Bolsonaro prega “negacionismo históric...\n",
       "3    Quando os pais de Gabo perceberam que tinham u...\n",
       "4    Rádios canadenses banem músicas de Michael Jac...\n",
       "Name: title, dtype: object"
      ]
     },
     "execution_count": 11,
     "metadata": {},
     "output_type": "execute_result"
    }
   ],
   "source": [
    "source = pd.read_csv(\"../output/results.csv\")\n",
    "display(Markdown(\"##### Inverted Index's source data\"))\n",
    "source[\"title\"].head()"
   ]
  },
  {
   "cell_type": "markdown",
   "metadata": {},
   "source": [
    "Let's gather the id of all documents to supply the algorithms:"
   ]
  },
  {
   "cell_type": "code",
   "execution_count": 12,
   "metadata": {},
   "outputs": [
    {
     "data": {
      "text/html": [
       "<div>\n",
       "<style scoped>\n",
       "    .dataframe tbody tr th:only-of-type {\n",
       "        vertical-align: middle;\n",
       "    }\n",
       "\n",
       "    .dataframe tbody tr th {\n",
       "        vertical-align: top;\n",
       "    }\n",
       "\n",
       "    .dataframe thead th {\n",
       "        text-align: right;\n",
       "    }\n",
       "</style>\n",
       "<table border=\"1\" class=\"dataframe\">\n",
       "  <thead>\n",
       "    <tr style=\"text-align: right;\">\n",
       "      <th></th>\n",
       "      <th>docs</th>\n",
       "    </tr>\n",
       "  </thead>\n",
       "  <tbody>\n",
       "    <tr>\n",
       "      <th>count</th>\n",
       "      <td>249.000000</td>\n",
       "    </tr>\n",
       "    <tr>\n",
       "      <th>mean</th>\n",
       "      <td>124.000000</td>\n",
       "    </tr>\n",
       "    <tr>\n",
       "      <th>std</th>\n",
       "      <td>72.024301</td>\n",
       "    </tr>\n",
       "    <tr>\n",
       "      <th>min</th>\n",
       "      <td>0.000000</td>\n",
       "    </tr>\n",
       "    <tr>\n",
       "      <th>25%</th>\n",
       "      <td>62.000000</td>\n",
       "    </tr>\n",
       "    <tr>\n",
       "      <th>50%</th>\n",
       "      <td>124.000000</td>\n",
       "    </tr>\n",
       "    <tr>\n",
       "      <th>75%</th>\n",
       "      <td>186.000000</td>\n",
       "    </tr>\n",
       "    <tr>\n",
       "      <th>max</th>\n",
       "      <td>248.000000</td>\n",
       "    </tr>\n",
       "  </tbody>\n",
       "</table>\n",
       "</div>"
      ],
      "text/plain": [
       "             docs\n",
       "count  249.000000\n",
       "mean   124.000000\n",
       "std     72.024301\n",
       "min      0.000000\n",
       "25%     62.000000\n",
       "50%    124.000000\n",
       "75%    186.000000\n",
       "max    248.000000"
      ]
     },
     "execution_count": 12,
     "metadata": {},
     "output_type": "execute_result"
    }
   ],
   "source": [
    "all_docs = inv_index[\"doc_id:freq\"].apply(lambda x: list(w[0] for w in x)).sum()\n",
    "all_docs = list(set(all_docs))\n",
    "pd.DataFrame(all_docs, columns=[\"docs\"]).describe()"
   ]
  },
  {
   "cell_type": "markdown",
   "metadata": {},
   "source": [
    "### Reciprocal Rank"
   ]
  },
  {
   "cell_type": "code",
   "execution_count": 23,
   "metadata": {},
   "outputs": [
    {
     "data": {
      "text/markdown": [
       "##### Target Document (ID=111)"
      ],
      "text/plain": [
       "<IPython.core.display.Markdown object>"
      ]
     },
     "metadata": {},
     "output_type": "display_data"
    },
    {
     "data": {
      "text/plain": [
       "title       Idoso é preso por ajudar esposa a fazer eutanásia após 30 anos de luta contra esclerose múltipla                                                                                                                                                                                                                                                                                                                                                                                                                                                                                                                                                                                                                                                                                                                                                                                                                                                                                                                                                                                                                                                                                                                                                                                                                                                                                                                                                                                                                                                                                                                                                                                                                                                                                                                                                                                                                                                                                                                                                                                                                                                                                                                                                                                                                                                                                                                                                                                                                                                                                                                                                                                                                                                                                                                                                                                                                                                                                                                                                                                                                                                                                                                                                                                                                                                                                                                                                                                                                                                                                                                                                                                                                                                                                                                                                                                                                                                                                                                                                                                                                                                                                                                                                                                                                                                                                                                                                                                                                                                                                                                                                                                                                                               \n",
       "subtitle    O espanhol Ángel Hernández atendeu ao desejo da mulher María José e a ajudou a tomar um medicamento letal. “Quero o final o quanto antes”  dizia ela em outubro passado a este jornal                                                                                                                                                                                                                                                                                                                                                                                                                                                                                                                                                                                                                                                                                                                                                                                                                                                                                                                                                                                                                                                                                                                                                                                                                                                                                                                                                                                                                                                                                                                                                                                                                                                                                                                                                                                                                                                                                                                                                                                                                                                                                                                                                                                                                                                                                                                                                                                                                                                                                                                                                                                                                                                                                                                                                                                                                                                                                                                                                                                                                                                                                                                                                                                                                                                                                                                                                                                                                                                                                                                                                                                                                                                                                                                                                                                                                                                                                                                                                                                                                                                                                                                                                                                                                                                                                                                                                                                                                                                                                                                                                          \n",
       "author      Emilio de Benito                                                                                                                                                                                                                                                                                                                                                                                                                                                                                                                                                                                                                                                                                                                                                                                                                                                                                                                                                                                                                                                                                                                                                                                                                                                                                                                                                                                                                                                                                                                                                                                                                                                                                                                                                                                                                                                                                                                                                                                                                                                                                                                                                                                                                                                                                                                                                                                                                                                                                                                                                                                                                                                                                                                                                                                                                                                                                                                                                                                                                                                                                                                                                                                                                                                                                                                                                                                                                                                                                                                                                                                                                                                                                                                                                                                                                                                                                                                                                                                                                                                                                                                                                                                                                                                                                                                                                                                                                                                                                                                                                                                                                                                                                                                               \n",
       "date        04/04/2019 14:39:50                                                                                                                                                                                                                                                                                                                                                                                                                                                                                                                                                                                                                                                                                                                                                                                                                                                                                                                                                                                                                                                                                                                                                                                                                                                                                                                                                                                                                                                                                                                                                                                                                                                                                                                                                                                                                                                                                                                                                                                                                                                                                                                                                                                                                                                                                                                                                                                                                                                                                                                                                                                                                                                                                                                                                                                                                                                                                                                                                                                                                                                                                                                                                                                                                                                                                                                                                                                                                                                                                                                                                                                                                                                                                                                                                                                                                                                                                                                                                                                                                                                                                                                                                                                                                                                                                                                                                                                                                                                                                                                                                                                                                                                                                                                            \n",
       "section     Internacional                                                                                                                                                                                                                                                                                                                                                                                                                                                                                                                                                                                                                                                                                                                                                                                                                                                                                                                                                                                                                                                                                                                                                                                                                                                                                                                                                                                                                                                                                                                                                                                                                                                                                                                                                                                                                                                                                                                                                                                                                                                                                                                                                                                                                                                                                                                                                                                                                                                                                                                                                                                                                                                                                                                                                                                                                                                                                                                                                                                                                                                                                                                                                                                                                                                                                                                                                                                                                                                                                                                                                                                                                                                                                                                                                                                                                                                                                                                                                                                                                                                                                                                                                                                                                                                                                                                                                                                                                                                                                                                                                                                                                                                                                                                                  \n",
       "text        Ángel Hernández e María José Carrasco estavam decididos. No dia em que ela assim quisesse  ele a ajudaria a tirar a própria vida. Carrasco sofria de  havia 30 anos. Em outubro passado  quando o casal recebeu o EL PAÍS no seu apartamento de   manifestou  com a voz gutural de quem está à beira da asfixia  a única causa pela qual ela ainda não havia dado esse passo: “Ele não tem medo  mas eu sim”. Referia-se ao que podia acontecer com seu marido se a ajudasse. Ninguém sabe o que ocorreu naquela casa nestes últimos seis meses  mas  na quarta-feira  Hernández lhe preparou a medicação definitiva. Ela tomou. Ele foi preso.“”  dizia Carrasco  de 61 anos  em outubro. Secretária judicial  tinha sido uma mulher ativa  inquieta. Mas já fazia anos que o piano que tocava havia emudecido  que os pincéis com os quais pintava se cegaram. Com os anos de doença e deterioração  chegaram os corrimões nos corredores  uma parede foi derrubada para tornar o quarto mais amplo. Sumiram as portas que dificultavam a passagem da cadeira de rodas. Todas  menos a do banheiro pequeno  usado por Hernández  de 69 anos. O grande já não tinha banheira  e sim um enorme box de chuveiro. Praticamente paralisada e com problemas de visão e audição  o televisor da sala havia crescido para que os dois pudessem assistir a filmes antigos  porque não gostavam dos que passavam na televisão.A detenção de Hernández ocorreu nesta quarta-feira  quando os agentes se apresentaram numa casa de Moncloa Aravaca  um bairro de classe média-alta de Madri  depois de serem avisados por equipes de emergência médica que Hernández havia lhe relatado ter administrado uma substância destinada a provocar a morte da sua mulher. Ele será colocado à disposição da  nesta sexta-feira.Como fez Ramón Sampedro há 21 anos – num caso célebre que inspirou o filme espanhol  –  o casal gravou o processo em que ela toma a medicação letal. Mas desta vez não serviu  como na época do famoso escritor tetraplégico  para inocentar o cúmplice do suicídio assistido. No caso de Sampedro havia funcionado. Quando anos depois Ramona Maneiro acabou sendo julgada  foi absolvida porque seu crime estava prescrito. Porque a cooperação necessária para o suicídio é punida pela legislação espanhola  mas o fato de a vítima ser uma pessoa em estado muito grave e que pede para morrer é considerado atenuante. Segundo a associação Direito a Morrer Dignamente  com a qual Hernández entrou em contato após ajudar Carrasco a acabar com sua vida  este é o primeiro caso desse tipo conhecido na Espanha desde o de Sampedro. Hernández seria  segundo a associação  o primeiro detido por esse motivo.O marido sabia dos riscos  mas estava disposto a corrê-los. Há mais de 20 anos  quando ainda trabalhava como técnico audiovisual na Assembleia legislativa da Comunidade de Madri  e ela já estava doente em casa  a encontrou agonizante após tentar se matar. Chamou o serviço de emergências e o impediu. Depois  ela lhe prometeu que não tentaria de novo.Em outubro  quando conversaram com o EL PAÍS  tinham suas esperanças na   impulsionada pelo Partido Socialista Operário Espanhol (no Governo). Inquietos  mas bem informados  temiam que a precariedade do Governo de Pedro Sánchez atrapalhasse a tramitação. Tinham razão: o projeto de lei continua parado na Mesa do Congresso  submetida à prática dilatória dos partidos oposicionistas PP e Cidadãos  que prorrogam reiteradamente o prazo para emendas  evitando assim que o projeto chegue a ser debatido em plenário. María José Carrasco entrava totalmente nos pressupostos dessa norma: uma doença grave e irreversível  que produz enormes sofrimentos físicos e psíquicos.A ONG Direito a Morrer Dignamente exigiu nesta quinta-feira que os “futuros deputados e deputadas [a serem eleitos no pleito espanhol de 28 de abril] regulem e despenalizem a  urgentemente”. “O ato de Ángel Hernández de ajudar na morte da sua mulher  a quem cuidou durante décadas  só pode ser entendido como um ato de amor que não deveria receber nenhuma recriminação penal”  disse a entidade em nota.“Mais de 80% da população é favorável a despenalizar a eutanásia e o suicídio assistido. Entretanto  o  continua punindo-as com penas da prisão”  salienta a associação  que qualifica como “inaceitável” que “numa sociedade democrática  apoiada no respeito à liberdade individual e a pluralidade”  seja crime “ajudar uma pessoa a dispor de sua vida livremente”. “Defender o direito à vida não justifica obrigar uma pessoa a viver uma vida deteriorada  com um sofrimento inadmissível e que já não deseja”  conclui.\n",
       "url         https://brasil.elpais.com/brasil/2019/04/04/internacional/1554365744_092895.html                                                                                                                                                                                                                                                                                                                                                                                                                                                                                                                                                                                                                                                                                                                                                                                                                                                                                                                                                                                                                                                                                                                                                                                                                                                                                                                                                                                                                                                                                                                                                                                                                                                                                                                                                                                                                                                                                                                                                                                                                                                                                                                                                                                                                                                                                                                                                                                                                                                                                                                                                                                                                                                                                                                                                                                                                                                                                                                                                                                                                                                                                                                                                                                                                                                                                                                                                                                                                                                                                                                                                                                                                                                                                                                                                                                                                                                                                                                                                                                                                                                                                                                                                                                                                                                                                                                                                                                                                                                                                                                                                                                                                                                               \n",
       "Name: 111, dtype: object"
      ]
     },
     "execution_count": 23,
     "metadata": {},
     "output_type": "execute_result"
    }
   ],
   "source": [
    "doc_id = 111\n",
    "\n",
    "display(Markdown(\"##### Target Document (ID={})\".format(doc_id)))\n",
    "source.xs(doc_id)"
   ]
  },
  {
   "cell_type": "code",
   "execution_count": 30,
   "metadata": {},
   "outputs": [
    {
     "data": {
      "text/markdown": [
       "##### The query used to retrieve the target document:"
      ],
      "text/plain": [
       "<IPython.core.display.Markdown object>"
      ]
     },
     "metadata": {},
     "output_type": "display_data"
    },
    {
     "data": {
      "text/markdown": [
       " * ['suicídio', 'eutanásia', 'Espanha']"
      ],
      "text/plain": [
       "<IPython.core.display.Markdown object>"
      ]
     },
     "metadata": {},
     "output_type": "display_data"
    }
   ],
   "source": [
    "query = ['suicídio','eutanásia','Espanha']\n",
    "display(Markdown(\"##### The query used to retrieve the target document:\".format(doc_id)))\n",
    "display(Markdown(\" * {}\".format(query)))"
   ]
  },
  {
   "cell_type": "markdown",
   "metadata": {},
   "source": [
    "> We shall use the classic value of k=1.2 for the algorithm BM25 "
   ]
  },
  {
   "cell_type": "code",
   "execution_count": 32,
   "metadata": {},
   "outputs": [
    {
     "data": {
      "text/markdown": [
       "##### Top 5 best docs by strategy for given query"
      ],
      "text/plain": [
       "<IPython.core.display.Markdown object>"
      ]
     },
     "metadata": {},
     "output_type": "display_data"
    },
    {
     "data": {
      "text/html": [
       "<table border=\"1\" class=\"dataframe\">\n",
       "  <thead>\n",
       "    <tr style=\"text-align: right;\">\n",
       "      <th>Binary</th>\n",
       "      <th>TF</th>\n",
       "      <th>TF-IDF</th>\n",
       "      <th>BM25(k=1.2)</th>\n",
       "    </tr>\n",
       "  </thead>\n",
       "  <tbody>\n",
       "    <tr>\n",
       "      <td>111</td>\n",
       "      <td>248</td>\n",
       "      <td>248</td>\n",
       "      <td>111</td>\n",
       "    </tr>\n",
       "    <tr>\n",
       "      <td>248</td>\n",
       "      <td>68</td>\n",
       "      <td>111</td>\n",
       "      <td>222</td>\n",
       "    </tr>\n",
       "    <tr>\n",
       "      <td>247</td>\n",
       "      <td>122</td>\n",
       "      <td>222</td>\n",
       "      <td>79</td>\n",
       "    </tr>\n",
       "    <tr>\n",
       "      <td>244</td>\n",
       "      <td>128</td>\n",
       "      <td>79</td>\n",
       "      <td>237</td>\n",
       "    </tr>\n",
       "    <tr>\n",
       "      <td>242</td>\n",
       "      <td>111</td>\n",
       "      <td>68</td>\n",
       "      <td>195</td>\n",
       "    </tr>\n",
       "  </tbody>\n",
       "</table>"
      ],
      "text/plain": [
       "<IPython.core.display.HTML object>"
      ]
     },
     "metadata": {},
     "output_type": "display_data"
    }
   ],
   "source": [
    "strategies = [binary_vsm,tf_vsm,tf_idf_vsm,bm25_vsm]\n",
    "columns = [\"Binary\",\"TF\",\"TF-IDF\",\"BM25(k=1.2)\"]\n",
    "k_values =[None,None,None,1.2]\n",
    "rows = []\n",
    "\n",
    "for idx in range(0,len(strategies)):\n",
    "    top_10 = get_n_best_docs(n=5, k=k_values[idx], docs=all_docs,index=inv_index, query=query,\n",
    "                             strategy=strategies[idx])\n",
    "    \n",
    "    top_10 = list(reversed(top_10))\n",
    "    top_10 = [i[1] for i in top_10]\n",
    "    \n",
    "    rows.append(top_10)\n",
    "\n",
    "rst_q1 = rows\n",
    "pd.set_option('max_colwidth', -1)\n",
    "display(Markdown(\"##### Top 5 best docs by strategy for given query\"))\n",
    "display(HTML(pd.DataFrame(list(zip(*rows)),\n",
    "                          columns=columns).to_html(index=False)))"
   ]
  }
 ],
 "metadata": {
  "kernelspec": {
   "display_name": "Python 3",
   "language": "python",
   "name": "python3"
  },
  "language_info": {
   "codemirror_mode": {
    "name": "ipython",
    "version": 3
   },
   "file_extension": ".py",
   "mimetype": "text/x-python",
   "name": "python",
   "nbconvert_exporter": "python",
   "pygments_lexer": "ipython3",
   "version": "3.7.1"
  }
 },
 "nbformat": 4,
 "nbformat_minor": 2
}
