{
 "cells": [
  {
   "cell_type": "code",
   "execution_count": 1,
   "metadata": {},
   "outputs": [
    {
     "data": {
      "text/html": [
       "<script>\n",
       "code_show=true; \n",
       "function code_toggle() {\n",
       " if (code_show){\n",
       " $('div.input').hide();\n",
       " } else {\n",
       " $('div.input').show();\n",
       " }\n",
       " code_show = !code_show\n",
       "} \n",
       "$( document ).ready(code_toggle);\n",
       "</script>\n",
       "<form action=\"javascript:code_toggle()\"><input type=\"submit\" value=\"Click here to toggle on/off the raw code.\"></form>"
      ],
      "text/plain": [
       "<IPython.core.display.HTML object>"
      ]
     },
     "execution_count": 1,
     "metadata": {},
     "output_type": "execute_result"
    }
   ],
   "source": [
    "from IPython.display import HTML\n",
    "\n",
    "HTML('''<script>\n",
    "code_show=true; \n",
    "function code_toggle() {\n",
    " if (code_show){\n",
    " $('div.input').hide();\n",
    " } else {\n",
    " $('div.input').show();\n",
    " }\n",
    " code_show = !code_show\n",
    "} \n",
    "$( document ).ready(code_toggle);\n",
    "</script>\n",
    "<form action=\"javascript:code_toggle()\"><input type=\"submit\" value=\"Click here to toggle on/off the raw code.\"></form>''')"
   ]
  },
  {
   "cell_type": "code",
   "execution_count": 290,
   "metadata": {},
   "outputs": [],
   "source": [
    "from functools import reduce\n",
    "from ast import literal_eval\n",
    "from math import log\n",
    "\n",
    "import pandas as pd\n",
    "from numpy import mean\n",
    "from nltk import word_tokenize\n",
    "from nltk.corpus import stopwords\n",
    "from IPython.display import Markdown, display, HTML\n",
    "\n",
    "default_stopwords = set(stopwords.words('portuguese'))"
   ]
  },
  {
   "cell_type": "markdown",
   "metadata": {},
   "source": [
    "## Load Data"
   ]
  },
  {
   "cell_type": "code",
   "execution_count": 3,
   "metadata": {},
   "outputs": [
    {
     "data": {
      "text/markdown": [
       "## Inverted Index"
      ],
      "text/plain": [
       "<IPython.core.display.Markdown object>"
      ]
     },
     "metadata": {},
     "output_type": "display_data"
    },
    {
     "data": {
      "text/html": [
       "<table border=\"1\" class=\"dataframe\">\n",
       "  <thead>\n",
       "    <tr style=\"text-align: right;\">\n",
       "      <th></th>\n",
       "      <th>doc_id:freq</th>\n",
       "    </tr>\n",
       "    <tr>\n",
       "      <th>word</th>\n",
       "      <th></th>\n",
       "    </tr>\n",
       "  </thead>\n",
       "  <tbody>\n",
       "    <tr>\n",
       "      <th>juíza</th>\n",
       "      <td>[(0, 2), (1, 1)]</td>\n",
       "    </tr>\n",
       "    <tr>\n",
       "      <th>federal</th>\n",
       "      <td>[(0, 1), (1, 1), (2, 1), (6, 2), (14, 1), (36,...</td>\n",
       "    </tr>\n",
       "    <tr>\n",
       "      <th>Ivani</th>\n",
       "      <td>[(0, 1), (1, 1)]</td>\n",
       "    </tr>\n",
       "    <tr>\n",
       "      <th>Silva</th>\n",
       "      <td>[(0, 3), (1, 1), (5, 1), (13, 2), (25, 1), (72...</td>\n",
       "    </tr>\n",
       "    <tr>\n",
       "      <th>Luz</th>\n",
       "      <td>[(0, 3), (1, 1), (124, 1)]</td>\n",
       "    </tr>\n",
       "  </tbody>\n",
       "</table>"
      ],
      "text/plain": [
       "<IPython.core.display.HTML object>"
      ]
     },
     "metadata": {},
     "output_type": "display_data"
    }
   ],
   "source": [
    "inv_index = pd.read_csv(\"../output/inverted_index.csv\").set_index(['word'])\n",
    "inv_index[\"doc_id:freq\"] = inv_index[\"doc_id:freq\"].apply(lambda x: literal_eval(x))\n",
    "\n",
    "display(Markdown(\"## Inverted Index\"))\n",
    "display(HTML(inv_index.head(5).to_html()))"
   ]
  },
  {
   "cell_type": "markdown",
   "metadata": {},
   "source": [
    "### Adding Inverse Document Frequency  (IDF)"
   ]
  },
  {
   "cell_type": "code",
   "execution_count": 4,
   "metadata": {},
   "outputs": [
    {
     "data": {
      "text/markdown": [
       "* Let's employ the number  of documents in this particular                   collection (N=249) in our calculations"
      ],
      "text/plain": [
       "<IPython.core.display.Markdown object>"
      ]
     },
     "metadata": {},
     "output_type": "display_data"
    }
   ],
   "source": [
    "# number of documents in the collection\n",
    "n_docs = inv_index[\"doc_id:freq\"].apply(lambda x: list(i[0] for i in x)).sum()\n",
    "n_docs = len(set(n_docs))\n",
    "display(Markdown(\"* Let's employ the number  of documents in this particular \\\n",
    "                  collection (N={}) in our calculations\".format(n_docs)))"
   ]
  },
  {
   "cell_type": "code",
   "execution_count": 5,
   "metadata": {},
   "outputs": [
    {
     "data": {
      "text/html": [
       "<div>\n",
       "<style scoped>\n",
       "    .dataframe tbody tr th:only-of-type {\n",
       "        vertical-align: middle;\n",
       "    }\n",
       "\n",
       "    .dataframe tbody tr th {\n",
       "        vertical-align: top;\n",
       "    }\n",
       "\n",
       "    .dataframe thead th {\n",
       "        text-align: right;\n",
       "    }\n",
       "</style>\n",
       "<table border=\"1\" class=\"dataframe\">\n",
       "  <thead>\n",
       "    <tr style=\"text-align: right;\">\n",
       "      <th></th>\n",
       "      <th>doc_id:freq</th>\n",
       "      <th>IDF</th>\n",
       "    </tr>\n",
       "    <tr>\n",
       "      <th>word</th>\n",
       "      <th></th>\n",
       "      <th></th>\n",
       "    </tr>\n",
       "  </thead>\n",
       "  <tbody>\n",
       "    <tr>\n",
       "      <th>assessorado</th>\n",
       "      <td>[(150, 1)]</td>\n",
       "      <td>5.521461</td>\n",
       "    </tr>\n",
       "    <tr>\n",
       "      <th>colocaria</th>\n",
       "      <td>[(141, 1)]</td>\n",
       "      <td>5.521461</td>\n",
       "    </tr>\n",
       "    <tr>\n",
       "      <th>procurador-chefe</th>\n",
       "      <td>[(72, 1)]</td>\n",
       "      <td>5.521461</td>\n",
       "    </tr>\n",
       "    <tr>\n",
       "      <th>comove</th>\n",
       "      <td>[(194, 1)]</td>\n",
       "      <td>5.521461</td>\n",
       "    </tr>\n",
       "    <tr>\n",
       "      <th>essência</th>\n",
       "      <td>[(68, 1), (200, 1)]</td>\n",
       "      <td>4.828314</td>\n",
       "    </tr>\n",
       "  </tbody>\n",
       "</table>\n",
       "</div>"
      ],
      "text/plain": [
       "                          doc_id:freq       IDF\n",
       "word                                           \n",
       "assessorado                [(150, 1)]  5.521461\n",
       "colocaria                  [(141, 1)]  5.521461\n",
       "procurador-chefe            [(72, 1)]  5.521461\n",
       "comove                     [(194, 1)]  5.521461\n",
       "essência          [(68, 1), (200, 1)]  4.828314"
      ]
     },
     "execution_count": 5,
     "metadata": {},
     "output_type": "execute_result"
    }
   ],
   "source": [
    "inv_index[\"IDF\"] = inv_index[\"doc_id:freq\"].apply(lambda x: log((n_docs + 1)/len(x)))\n",
    "inv_index.sample(5)"
   ]
  },
  {
   "cell_type": "markdown",
   "metadata": {},
   "source": [
    "<br>\n",
    "\n",
    "***\n",
    "\n",
    "<br>\n",
    "\n",
    "## Strategies Implementation"
   ]
  },
  {
   "cell_type": "markdown",
   "metadata": {},
   "source": [
    "### Binary Vector Space Model"
   ]
  },
  {
   "cell_type": "code",
   "execution_count": 6,
   "metadata": {},
   "outputs": [],
   "source": [
    "def binary_vsm(**kwargs):\n",
    "    \"\"\"Applies the binary vsm to a query and document\n",
    "\n",
    "    Applies the 'binary vector space model' to a query \n",
    "    and document, calculating a score.\n",
    "\n",
    "    :param pandas.core.frame.DataFrame index: inverted index.\n",
    "    :param list(str) query: list of terms that form a query.\n",
    "    :param int doc_id: id of the document.\n",
    "    \n",
    "    :return: relevance score, how relevant the document is \n",
    "             for that query\n",
    "\n",
    "    :rtype: number\n",
    "    \"\"\"\n",
    "    \n",
    "    index = kwargs[\"index\"]\n",
    "    query = kwargs[\"query\"]\n",
    "    doc_id = kwargs[\"doc_id\"]\n",
    "\n",
    "    result = index.reset_index().set_index('word').reindex(labels=set(query)).dropna()[\"doc_id:freq\"]\n",
    "    result = result.apply(lambda x: 0 if not list(w for w in x if w[0] == doc_id) else 1)\n",
    "    result = result.sum()\n",
    "    \n",
    "    return result"
   ]
  },
  {
   "cell_type": "markdown",
   "metadata": {},
   "source": [
    "### Term Frequency Vector Space Model"
   ]
  },
  {
   "cell_type": "code",
   "execution_count": 7,
   "metadata": {},
   "outputs": [],
   "source": [
    "def tf_vsm(**kwargs):\n",
    "    \"\"\"Applies the tf vsm to a query and document\n",
    "\n",
    "    Applies the 'term frequency vector space model' to a query \n",
    "    and document, calculating a score.\n",
    "\n",
    "    :param pandas.core.frame.DataFrame index: inverted index.\n",
    "    :param list(str) query: list of terms that form a query.\n",
    "    :param int doc_id: id of the document.\n",
    "    \n",
    "    :return: relevance score, how relevant the document is \n",
    "             for that query\n",
    "\n",
    "    :rtype: number\n",
    "    \"\"\"\n",
    "    \n",
    "    index = kwargs[\"index\"]\n",
    "    query = kwargs[\"query\"]\n",
    "    doc_id = kwargs[\"doc_id\"]\n",
    "    \n",
    "    # Calculate frequency in query\n",
    "    query_fd = {}\n",
    "    for term in query:\n",
    "        if term not in query_fd:\n",
    "            query_fd[term] = 0\n",
    "\n",
    "        query_fd[term] += 1\n",
    "\n",
    "    \n",
    "    # Get document frequency from inverted index\n",
    "    term_f_in_doc = index.reset_index().set_index('word').reindex(labels=set(query)).dropna()[\"doc_id:freq\"]\\\n",
    "                      .apply(lambda x: list(w for w in x if w[0] == doc_id))\\\n",
    "                      .apply(lambda x: x[0][1] if not (len(x) == 0) else 0) # Extract freq \n",
    "\n",
    "    # Combine doc freq and query frequency to make score\n",
    "    score = 0\n",
    "    for term, freq in query_fd.items():\n",
    "        query_score = freq \n",
    "        doc_score = None\n",
    "\n",
    "        # try catch for when a term doesn't match at all\n",
    "        try:\n",
    "            doc_score = term_f_in_doc.xs(term)\n",
    "        except KeyError as exc:\n",
    "            doc_score = 0\n",
    "\n",
    "        score += query_score * doc_score\n",
    "\n",
    "    return score"
   ]
  },
  {
   "cell_type": "markdown",
   "metadata": {},
   "source": [
    "### Term Frequency - Inverse Document Frequency Vector Space Model"
   ]
  },
  {
   "cell_type": "code",
   "execution_count": 8,
   "metadata": {},
   "outputs": [],
   "source": [
    "def tf_idf_vsm(**kwargs):\n",
    "    \"\"\"Applies the tf-idf vsm to a query and document\n",
    "\n",
    "    Applies the 'term frequency vector inverse document frequency\n",
    "    space model' to a query and document, calculating a score.\n",
    "\n",
    "    :param pandas.core.frame.DataFrame index: inverted index.\n",
    "    :param list(str) query: list of terms that form a query.\n",
    "    :param int doc_id: id of the document.\n",
    "    \n",
    "    :return: relevance score, how relevant the document is \n",
    "             for that query\n",
    "\n",
    "    :rtype: number\n",
    "    \"\"\"    \n",
    "    \n",
    "    index = kwargs[\"index\"]\n",
    "    query = kwargs[\"query\"]\n",
    "    doc_id = kwargs[\"doc_id\"]\n",
    "    \n",
    "    # Calculate frequency in query\n",
    "    query_fd = {}\n",
    "    for term in query:\n",
    "        if term not in query_fd:\n",
    "            query_fd[term] = 0\n",
    "\n",
    "        query_fd[term] += 1\n",
    "\n",
    "    # Get document frequency from inverted index\n",
    "    term_f_in_doc = index.reset_index().set_index('word').reindex(labels=set(query)).dropna()\n",
    "    term_f_in_doc[\"doc_id:freq\"] = term_f_in_doc[\"doc_id:freq\"].\\\n",
    "                                   apply(lambda x: list(w for w in x if w[0] == doc_id))\n",
    "    term_f_in_doc[\"doc_id:freq\"] = term_f_in_doc[\"doc_id:freq\"].\\\n",
    "                                   apply(lambda x: x[0][1] if not (len(x) == 0) else 0)\n",
    "\n",
    "    # Combine doc freq and query frequency to make score\n",
    "    score = 0\n",
    "    for term, freq in query_fd.items():\n",
    "        query_score = freq \n",
    "        doc_score = None\n",
    "        idf_score = None\n",
    "\n",
    "        # try catch for when a term doesn't match at all\n",
    "        try:\n",
    "            doc_score = term_f_in_doc.xs(term)['doc_id:freq']\n",
    "        except KeyError as exc:\n",
    "            doc_score = 0\n",
    "\n",
    "        try:\n",
    "            idf_score = term_f_in_doc.xs(term)['IDF']\n",
    "        except KeyError as exc:\n",
    "            idf_score = 0\n",
    "\n",
    "        score += query_score * doc_score * idf_score\n",
    "        \n",
    "    return score"
   ]
  },
  {
   "cell_type": "markdown",
   "metadata": {},
   "source": [
    "### Best Match 25 Vector Space Model"
   ]
  },
  {
   "cell_type": "code",
   "execution_count": 9,
   "metadata": {},
   "outputs": [],
   "source": [
    "def bm25_vsm(**kwargs):\n",
    "    \"\"\"Applies the bm25 vsm to a query and document\n",
    "\n",
    "    Applies the 'Best Matching 25 space model' to a query \n",
    "    and document, calculating a score.\n",
    "\n",
    "    :param pandas.core.frame.DataFrame index: inverted index.\n",
    "    :param list(str) query: list of terms that form a query.\n",
    "    :param int doc_id: id of the document.\n",
    "    :param int k: term frequency saturation factor\n",
    "    \n",
    "    :return: relevance score, how relevant the document is \n",
    "             for that query\n",
    "\n",
    "    :rtype: number\n",
    "    \"\"\"    \n",
    "    \n",
    "    index = kwargs[\"index\"]\n",
    "    query = kwargs[\"query\"]\n",
    "    doc_id = kwargs[\"doc_id\"]\n",
    "    k = kwargs[\"k\"]\n",
    "    \n",
    "    # Calculate frequency in query\n",
    "    query_fd = {}\n",
    "    for term in query:\n",
    "        if term not in query_fd:\n",
    "            query_fd[term] = 0\n",
    "\n",
    "        query_fd[term] += 1\n",
    "\n",
    "    # Get document frequency from inverted index\n",
    "    term_f_in_doc = index.reset_index().set_index('word').reindex(labels=set(query)).dropna()\n",
    "    term_f_in_doc[\"doc_id:freq\"] = term_f_in_doc[\"doc_id:freq\"].\\\n",
    "                                   apply(lambda x: list(w for w in x if w[0] == doc_id))\n",
    "    term_f_in_doc[\"doc_id:freq\"] = term_f_in_doc[\"doc_id:freq\"].\\\n",
    "                                   apply(lambda x: x[0][1] if not (len(x) == 0) else 0)\n",
    "\n",
    "    # Combine doc freq and query frequency to make score\n",
    "    score = 0\n",
    "    for term, freq in query_fd.items():\n",
    "        query_score = freq \n",
    "        doc_score = None\n",
    "        idf_score = None\n",
    "\n",
    "        # try catch for when a term doesn't match at all\n",
    "        try:\n",
    "            doc_count = term_f_in_doc.xs(term)['doc_id:freq']\n",
    "            doc_score = 0 if doc_count == 0 else (doc_count * (k + 1)) / (doc_count + k)\n",
    "        except KeyError as exc:\n",
    "            doc_score = 0\n",
    "            \n",
    "        try:\n",
    "            idf_score = term_f_in_doc.xs(term)['IDF']\n",
    "        except KeyError as exc:\n",
    "            idf_score = 0\n",
    "        \n",
    "        score += query_score * doc_score * idf_score\n",
    "\n",
    "    return score"
   ]
  },
  {
   "cell_type": "markdown",
   "metadata": {},
   "source": [
    "### Strategy Wrapper"
   ]
  },
  {
   "cell_type": "code",
   "execution_count": 72,
   "metadata": {},
   "outputs": [],
   "source": [
    "from bisect import insort_left\n",
    "\n",
    "\n",
    "def get_n_best_docs(**kwargs):\n",
    "    \"\"\"Retrieves n most relevant docs according to a strategy\n",
    "\n",
    "    Retrieves the n most relevant documents in a given collection\n",
    "    according to a given strategy.\n",
    "\n",
    "    :param pandas.core.frame.DataFrame index: inverted index.\n",
    "    :param list(str) query: list of terms that form a query.\n",
    "    :param list(int) docs: All documents to be evaluated \n",
    "                           (extracted from index if not specified).\n",
    "    :param function strategy: vsm strategy (its params must be \n",
    "                              supplied as well)\n",
    "    \n",
    "    :return: list of document ids by rank in decrescent order\n",
    "\n",
    "    :rtype: list((number,number))\n",
    "    \"\"\"   \n",
    "\n",
    "    n = kwargs.pop(\"n\")\n",
    "    strategy = kwargs.pop(\"strategy\")\n",
    "    \n",
    "    if \"docs\" in kwargs:\n",
    "        docs = kwargs.pop(\"docs\")\n",
    "    else:        \n",
    "        docs = index[\"doc_id:freq\"].apply(lambda x: list(w[0] for w in x)).sum()\n",
    "        docs = list(set(docs))\n",
    "        \n",
    "    rank = []\n",
    "    for doc in docs:\n",
    "        score = strategy(doc_id=doc,**kwargs)\n",
    "        insort_left(rank, (score,doc))\n",
    "        rank = rank[-n:]\n",
    "\n",
    "    return rank"
   ]
  },
  {
   "cell_type": "markdown",
   "metadata": {},
   "source": [
    "## Strategy Evaluation"
   ]
  },
  {
   "cell_type": "code",
   "execution_count": 11,
   "metadata": {},
   "outputs": [
    {
     "data": {
      "text/markdown": [
       "##### Inverted Index's source data"
      ],
      "text/plain": [
       "<IPython.core.display.Markdown object>"
      ]
     },
     "metadata": {},
     "output_type": "display_data"
    },
    {
     "data": {
      "text/plain": [
       "0    “A sociedade foi Rubens Paiva  não os facínora...\n",
       "1    Justiça suspende decisão que proibia Forças Ar...\n",
       "2    Governo Bolsonaro prega “negacionismo históric...\n",
       "3    Quando os pais de Gabo perceberam que tinham u...\n",
       "4    Rádios canadenses banem músicas de Michael Jac...\n",
       "Name: title, dtype: object"
      ]
     },
     "execution_count": 11,
     "metadata": {},
     "output_type": "execute_result"
    }
   ],
   "source": [
    "source = pd.read_csv(\"../output/results.csv\")\n",
    "display(Markdown(\"##### Inverted Index's source data\"))\n",
    "source[\"title\"].head()"
   ]
  },
  {
   "cell_type": "markdown",
   "metadata": {},
   "source": [
    "Let's gather the id of all documents to supply the algorithms:"
   ]
  },
  {
   "cell_type": "code",
   "execution_count": 12,
   "metadata": {},
   "outputs": [
    {
     "data": {
      "text/html": [
       "<div>\n",
       "<style scoped>\n",
       "    .dataframe tbody tr th:only-of-type {\n",
       "        vertical-align: middle;\n",
       "    }\n",
       "\n",
       "    .dataframe tbody tr th {\n",
       "        vertical-align: top;\n",
       "    }\n",
       "\n",
       "    .dataframe thead th {\n",
       "        text-align: right;\n",
       "    }\n",
       "</style>\n",
       "<table border=\"1\" class=\"dataframe\">\n",
       "  <thead>\n",
       "    <tr style=\"text-align: right;\">\n",
       "      <th></th>\n",
       "      <th>docs</th>\n",
       "    </tr>\n",
       "  </thead>\n",
       "  <tbody>\n",
       "    <tr>\n",
       "      <th>count</th>\n",
       "      <td>249.000000</td>\n",
       "    </tr>\n",
       "    <tr>\n",
       "      <th>mean</th>\n",
       "      <td>124.000000</td>\n",
       "    </tr>\n",
       "    <tr>\n",
       "      <th>std</th>\n",
       "      <td>72.024301</td>\n",
       "    </tr>\n",
       "    <tr>\n",
       "      <th>min</th>\n",
       "      <td>0.000000</td>\n",
       "    </tr>\n",
       "    <tr>\n",
       "      <th>25%</th>\n",
       "      <td>62.000000</td>\n",
       "    </tr>\n",
       "    <tr>\n",
       "      <th>50%</th>\n",
       "      <td>124.000000</td>\n",
       "    </tr>\n",
       "    <tr>\n",
       "      <th>75%</th>\n",
       "      <td>186.000000</td>\n",
       "    </tr>\n",
       "    <tr>\n",
       "      <th>max</th>\n",
       "      <td>248.000000</td>\n",
       "    </tr>\n",
       "  </tbody>\n",
       "</table>\n",
       "</div>"
      ],
      "text/plain": [
       "             docs\n",
       "count  249.000000\n",
       "mean   124.000000\n",
       "std     72.024301\n",
       "min      0.000000\n",
       "25%     62.000000\n",
       "50%    124.000000\n",
       "75%    186.000000\n",
       "max    248.000000"
      ]
     },
     "execution_count": 12,
     "metadata": {},
     "output_type": "execute_result"
    }
   ],
   "source": [
    "all_docs = inv_index[\"doc_id:freq\"].apply(lambda x: list(w[0] for w in x)).sum()\n",
    "all_docs = list(set(all_docs))\n",
    "pd.DataFrame(all_docs, columns=[\"docs\"]).describe()"
   ]
  },
  {
   "cell_type": "markdown",
   "metadata": {},
   "source": [
    "### Reciprocal Rank"
   ]
  },
  {
   "cell_type": "code",
   "execution_count": 13,
   "metadata": {},
   "outputs": [],
   "source": [
    "def reciprocal_rank(tgt_doc, retrieved_docs):\n",
    "    found = False\n",
    "    recip_rank = None\n",
    "\n",
    "    for rank, doc in enumerate(retrieved_docs,1): \n",
    "        if doc == tgt_doc:\n",
    "            found = True\n",
    "            recip_rank = 1 / rank \n",
    "\n",
    "    if not found:\n",
    "        recip_rank = 0\n",
    "\n",
    "    return recip_rank"
   ]
  },
  {
   "cell_type": "code",
   "execution_count": 14,
   "metadata": {},
   "outputs": [
    {
     "data": {
      "text/markdown": [
       "##### Target Document (ID=111)"
      ],
      "text/plain": [
       "<IPython.core.display.Markdown object>"
      ]
     },
     "metadata": {},
     "output_type": "display_data"
    },
    {
     "data": {
      "text/plain": [
       "title       Idoso é preso por ajudar esposa a fazer eutaná...\n",
       "subtitle    O espanhol Ángel Hernández atendeu ao desejo d...\n",
       "author                                       Emilio de Benito\n",
       "date                                      04/04/2019 14:39:50\n",
       "section                                         Internacional\n",
       "text        Ángel Hernández e María José Carrasco estavam ...\n",
       "url         https://brasil.elpais.com/brasil/2019/04/04/in...\n",
       "Name: 111, dtype: object"
      ]
     },
     "execution_count": 14,
     "metadata": {},
     "output_type": "execute_result"
    }
   ],
   "source": [
    "doc_id = 111\n",
    "\n",
    "display(Markdown(\"##### Target Document (ID={})\".format(doc_id)))\n",
    "source.xs(doc_id)"
   ]
  },
  {
   "cell_type": "code",
   "execution_count": 15,
   "metadata": {},
   "outputs": [
    {
     "data": {
      "text/markdown": [
       "##### Query used to retrieve the target document (Query 1):"
      ],
      "text/plain": [
       "<IPython.core.display.Markdown object>"
      ]
     },
     "metadata": {},
     "output_type": "display_data"
    },
    {
     "data": {
      "text/markdown": [
       " * ['suicídio', 'eutanásia', 'Espanha']"
      ],
      "text/plain": [
       "<IPython.core.display.Markdown object>"
      ]
     },
     "metadata": {},
     "output_type": "display_data"
    }
   ],
   "source": [
    "query1 = ['suicídio','eutanásia','Espanha']\n",
    "display(Markdown(\"##### Query used to retrieve the target document (Query 1):\".format(doc_id)))\n",
    "display(Markdown(\" * {}\".format(query1)))"
   ]
  },
  {
   "cell_type": "markdown",
   "metadata": {},
   "source": [
    "> We shall use the classic value of k=1.2 for the algorithm BM25 "
   ]
  },
  {
   "cell_type": "code",
   "execution_count": 16,
   "metadata": {},
   "outputs": [
    {
     "data": {
      "text/markdown": [
       "##### Top 5 best docs by strategy for query1"
      ],
      "text/plain": [
       "<IPython.core.display.Markdown object>"
      ]
     },
     "metadata": {},
     "output_type": "display_data"
    },
    {
     "data": {
      "text/html": [
       "<table border=\"1\" class=\"dataframe\">\n",
       "  <thead>\n",
       "    <tr style=\"text-align: right;\">\n",
       "      <th>Binary</th>\n",
       "      <th>TF</th>\n",
       "      <th>TF-IDF</th>\n",
       "      <th>BM25(k=1.2)</th>\n",
       "    </tr>\n",
       "  </thead>\n",
       "  <tbody>\n",
       "    <tr>\n",
       "      <td>111</td>\n",
       "      <td>248</td>\n",
       "      <td>248</td>\n",
       "      <td>111</td>\n",
       "    </tr>\n",
       "    <tr>\n",
       "      <td>248</td>\n",
       "      <td>68</td>\n",
       "      <td>111</td>\n",
       "      <td>222</td>\n",
       "    </tr>\n",
       "    <tr>\n",
       "      <td>247</td>\n",
       "      <td>122</td>\n",
       "      <td>222</td>\n",
       "      <td>79</td>\n",
       "    </tr>\n",
       "    <tr>\n",
       "      <td>244</td>\n",
       "      <td>128</td>\n",
       "      <td>79</td>\n",
       "      <td>237</td>\n",
       "    </tr>\n",
       "    <tr>\n",
       "      <td>242</td>\n",
       "      <td>111</td>\n",
       "      <td>68</td>\n",
       "      <td>195</td>\n",
       "    </tr>\n",
       "  </tbody>\n",
       "</table>"
      ],
      "text/plain": [
       "<IPython.core.display.HTML object>"
      ]
     },
     "metadata": {},
     "output_type": "display_data"
    }
   ],
   "source": [
    "strategies = [binary_vsm,tf_vsm,tf_idf_vsm,bm25_vsm]\n",
    "columns = [\"Binary\",\"TF\",\"TF-IDF\",\"BM25(k=1.2)\"]\n",
    "k_values =[None,None,None,1.2]\n",
    "rows = []\n",
    "\n",
    "for idx in range(0,len(strategies)):\n",
    "    top_10 = get_n_best_docs(n=n_docs, k=k_values[idx], docs=all_docs,index=inv_index, query=query1,\n",
    "                             strategy=strategies[idx])\n",
    "    \n",
    "    top_10 = list(reversed(top_10))\n",
    "    top_10 = [i[1] for i in top_10]\n",
    "    \n",
    "    rows.append(top_10)\n",
    "\n",
    "docs_q1 = pd.DataFrame(list(zip(*rows)),columns=columns)\n",
    "display(Markdown(\"##### Top 5 best docs by strategy for query1\"))\n",
    "display(HTML(docs_q1.head().to_html(index=False)))"
   ]
  },
  {
   "cell_type": "code",
   "execution_count": 18,
   "metadata": {},
   "outputs": [
    {
     "data": {
      "text/markdown": [
       "##### Reciprocal Rank score by strategy for query1"
      ],
      "text/plain": [
       "<IPython.core.display.Markdown object>"
      ]
     },
     "metadata": {},
     "output_type": "display_data"
    },
    {
     "data": {
      "text/html": [
       "<table border=\"1\" class=\"dataframe\">\n",
       "  <thead>\n",
       "    <tr style=\"text-align: right;\">\n",
       "      <th>Binary</th>\n",
       "      <th>TF</th>\n",
       "      <th>TF-IDF</th>\n",
       "      <th>BM25(k=1.2)</th>\n",
       "    </tr>\n",
       "  </thead>\n",
       "  <tbody>\n",
       "    <tr>\n",
       "      <td>1.0</td>\n",
       "      <td>0.2</td>\n",
       "      <td>0.5</td>\n",
       "      <td>1.0</td>\n",
       "    </tr>\n",
       "  </tbody>\n",
       "</table>"
      ],
      "text/plain": [
       "<IPython.core.display.HTML object>"
      ]
     },
     "metadata": {},
     "output_type": "display_data"
    }
   ],
   "source": [
    "recip_rank_scores = list(map(lambda score: [score],\n",
    "                         map(lambda r_docs: reciprocal_rank(111, r_docs),rows)))\n",
    "\n",
    "docs_q1 = pd.DataFrame(list(zip(*recip_rank_scores)),columns=columns)\n",
    "display(Markdown(\"##### Reciprocal Rank score by strategy for query1\"))\n",
    "display(HTML(docs_q1.head().to_html(index=False)))"
   ]
  },
  {
   "cell_type": "markdown",
   "metadata": {},
   "source": [
    "### Mean Average Precision "
   ]
  },
  {
   "cell_type": "markdown",
   "metadata": {},
   "source": [
    "#### Answer Key"
   ]
  },
  {
   "cell_type": "code",
   "execution_count": 19,
   "metadata": {},
   "outputs": [],
   "source": [
    "import json\n",
    "\n",
    "\n",
    "answer_key = None\n",
    "\n",
    "with open('../output/results_final.json') as json_file:  \n",
    "    answer_key = json.load(json_file)"
   ]
  },
  {
   "cell_type": "code",
   "execution_count": 187,
   "metadata": {},
   "outputs": [],
   "source": [
    "def split_spread_words(corpus, delim):\n",
    "\n",
    "    \"\"\" Split then spread alpha word with certain delimiters.\n",
    "\n",
    "    Split words with alphabetical characters that have certain \n",
    "    delimiters then spread the resulting words across the corpus.\n",
    "\n",
    "    :param list corpus: list of words.\n",
    "    :param str delim: target delimiter.\n",
    "\n",
    "    :return: updated list of words \n",
    "\n",
    "    :rtype: list\n",
    "    \"\"\"\n",
    "    \n",
    "    new_words = []\n",
    "    for word in corpus:\n",
    "        if any(c.isalnum() for c in word):\n",
    "            new_words.extend(word.split(delim))\n",
    "        else:\n",
    "            new_words.append(word)\n",
    "\n",
    "    return new_words\n",
    "\n",
    "def word_processing(text):\n",
    "    words = word_tokenize(text)\n",
    "\n",
    "    # Remove words that don't have at least one alphabetical character \n",
    "    words = [word for word in words if any(c.isalnum() for c in word)]\n",
    "\n",
    "    # Remove hyphen at end of word\n",
    "    words = [word[:-1] if word[-1] == '-' else word for word in words]\n",
    "\n",
    "    # Remove hyphen at beggining of word\n",
    "    words = [word[1:] if word[0] == '-' else word for word in words]\n",
    "\n",
    "    # Split words joined by en dash\n",
    "    words = [word for line in words for word in line.split('–')] \n",
    "    words = [word for line in words for word in line.split('—')] # different encoding \n",
    "\n",
    "    # Split words joined by dot if they are alphabetical\n",
    "    words = split_spread_words(words, '.')\n",
    "\n",
    "    # Remove lone punctuation from the splits\n",
    "    words = [word for word in words if any(c.isalnum() for c in word)]\n",
    "\n",
    "    # Remove stopwords\n",
    "    words = [word for word in words if word.lower() not in default_stopwords]\n",
    "    \n",
    "    return words"
   ]
  },
  {
   "cell_type": "code",
   "execution_count": 229,
   "metadata": {},
   "outputs": [],
   "source": [
    "def avg_prc(gnd_truth, ranked_docs):\n",
    "    avg_prc = 0\n",
    "    seen = 0\n",
    "    for idx, doc in enumerate(ranked_docs,1):\n",
    "        if doc in gnd_truth:\n",
    "            seen += 1\n",
    "            avg_prc += seen/idx\n",
    "\n",
    "    avg_prc = avg_prc / len(gnd_truth)\n",
    "    return avg_prc"
   ]
  },
  {
   "cell_type": "code",
   "execution_count": 324,
   "metadata": {},
   "outputs": [
    {
     "data": {
      "text/markdown": [
       "##### Queries used for MAP driven evaluation:"
      ],
      "text/plain": [
       "<IPython.core.display.Markdown object>"
      ]
     },
     "metadata": {},
     "output_type": "display_data"
    },
    {
     "data": {
      "text/markdown": [
       "* território, palestino"
      ],
      "text/plain": [
       "<IPython.core.display.Markdown object>"
      ]
     },
     "metadata": {},
     "output_type": "display_data"
    },
    {
     "data": {
      "text/markdown": [
       "* recessão, mundial"
      ],
      "text/plain": [
       "<IPython.core.display.Markdown object>"
      ]
     },
     "metadata": {},
     "output_type": "display_data"
    },
    {
     "data": {
      "text/markdown": [
       "* ditadura, militar"
      ],
      "text/plain": [
       "<IPython.core.display.Markdown object>"
      ]
     },
     "metadata": {},
     "output_type": "display_data"
    },
    {
     "data": {
      "text/markdown": [
       "* muro, lamentações"
      ],
      "text/plain": [
       "<IPython.core.display.Markdown object>"
      ]
     },
     "metadata": {},
     "output_type": "display_data"
    },
    {
     "data": {
      "text/markdown": [
       "* brasil, argentina"
      ],
      "text/plain": [
       "<IPython.core.display.Markdown object>"
      ]
     },
     "metadata": {},
     "output_type": "display_data"
    },
    {
     "data": {
      "text/markdown": [
       "* golpe, militar"
      ],
      "text/plain": [
       "<IPython.core.display.Markdown object>"
      ]
     },
     "metadata": {},
     "output_type": "display_data"
    },
    {
     "data": {
      "text/markdown": [
       "* governo, bolsonaro"
      ],
      "text/plain": [
       "<IPython.core.display.Markdown object>"
      ]
     },
     "metadata": {},
     "output_type": "display_data"
    },
    {
     "data": {
      "text/markdown": [
       "* ministro, economia"
      ],
      "text/plain": [
       "<IPython.core.display.Markdown object>"
      ]
     },
     "metadata": {},
     "output_type": "display_data"
    },
    {
     "data": {
      "text/markdown": [
       "* prisão, Temer"
      ],
      "text/plain": [
       "<IPython.core.display.Markdown object>"
      ]
     },
     "metadata": {},
     "output_type": "display_data"
    },
    {
     "data": {
      "text/markdown": [
       "* Congresso, Nacional"
      ],
      "text/plain": [
       "<IPython.core.display.Markdown object>"
      ]
     },
     "metadata": {},
     "output_type": "display_data"
    }
   ],
   "source": [
    "results = []\n",
    "strat = [binary_vsm, tf_vsm, tf_idf_vsm, bm25_vsm]\n",
    "strat_nm = [\"Binary\",\"TF\",\"TF-IDF\",\"BM25(k=1.2)\"]\n",
    "\n",
    "queries = answer_key['query']\n",
    "queries = list(map(lambda q: word_processing(q), queries))\n",
    "gnd_truth = list(map(lambda answ_k: list(el['URL'] for el in answ_k), answer_key['docs']))\n",
    "gnd_rel = list(map(lambda docs: list({el['URL'] : el['level']} for el in docs), answer_key['docs']))\n",
    "gnd_rel = list(map(lambda docs: reduce(lambda a, b: dict(a, **b), docs), gnd_rel))\n",
    "\n",
    "display(Markdown(\"##### Queries used for MAP driven evaluation:\"))\n",
    "for q in queries:\n",
    "    display(Markdown(\"* {}\".format(', '.join(q))))"
   ]
  },
  {
   "cell_type": "code",
   "execution_count": 326,
   "metadata": {},
   "outputs": [],
   "source": [
    "# q_rst = {}\n",
    "\n",
    "# # Add results of 10 queries for each strategy  \n",
    "# for idx, strat_impl in enumerate(strat):\n",
    "#     q_rst[strat_nm[idx]] = []\n",
    "#     for q in queries:\n",
    "#         ranked_docs = get_n_best_docs(n=n_docs, docs=all_docs, index=inv_index,\n",
    "#                                       query=q, strategy=strat_impl)\n",
    "#         ranked_docs = list(reversed(ranked_docs))\n",
    "#         ranked_docs = [i[1] for i in ranked_docs]\n",
    "#         ranked_docs = list(map(lambda doc_id: source.xs(doc_id)['url'], ranked_docs))\n",
    "#         q_rst[strat_nm[idx]].append(ranked_docs)"
   ]
  },
  {
   "cell_type": "code",
   "execution_count": 234,
   "metadata": {},
   "outputs": [
    {
     "data": {
      "text/markdown": [
       "##### Average Precision Scores (Binary VSM)"
      ],
      "text/plain": [
       "<IPython.core.display.Markdown object>"
      ]
     },
     "metadata": {},
     "output_type": "display_data"
    },
    {
     "data": {
      "text/html": [
       "<table border=\"1\" class=\"dataframe\">\n",
       "  <thead>\n",
       "    <tr style=\"text-align: right;\">\n",
       "      <th>Binary VSM</th>\n",
       "    </tr>\n",
       "  </thead>\n",
       "  <tbody>\n",
       "    <tr>\n",
       "      <td>0.072917</td>\n",
       "    </tr>\n",
       "    <tr>\n",
       "      <td>0.506536</td>\n",
       "    </tr>\n",
       "    <tr>\n",
       "      <td>0.072917</td>\n",
       "    </tr>\n",
       "    <tr>\n",
       "      <td>0.010984</td>\n",
       "    </tr>\n",
       "    <tr>\n",
       "      <td>0.833333</td>\n",
       "    </tr>\n",
       "    <tr>\n",
       "      <td>0.148901</td>\n",
       "    </tr>\n",
       "    <tr>\n",
       "      <td>0.025564</td>\n",
       "    </tr>\n",
       "    <tr>\n",
       "      <td>0.183333</td>\n",
       "    </tr>\n",
       "    <tr>\n",
       "      <td>0.325000</td>\n",
       "    </tr>\n",
       "    <tr>\n",
       "      <td>0.062037</td>\n",
       "    </tr>\n",
       "  </tbody>\n",
       "</table>"
      ],
      "text/plain": [
       "<IPython.core.display.HTML object>"
      ]
     },
     "metadata": {},
     "output_type": "display_data"
    }
   ],
   "source": [
    "# Gather scores for all queries   \n",
    "scores = []\n",
    "for jdx in range(0,len(queries)):\n",
    "    ranked_docs = get_n_best_docs(n=n_docs, docs=all_docs, index=inv_index,\n",
    "                                  query=queries[jdx], strategy=binary_vsm)\n",
    "    ranked_docs = list(reversed(ranked_docs))\n",
    "    ranked_docs = [i[1] for i in ranked_docs]\n",
    "    ranked_docs = list(map(lambda doc_id: source.xs(doc_id)['url'], ranked_docs))\n",
    "    score = avg_prc(gnd_truth[jdx],ranked_docs)\n",
    "    scores.append(score)\n",
    "\n",
    "results.append(scores)\n",
    "\n",
    "display(Markdown(\"##### Average Precision Scores (Binary VSM)\"))\n",
    "display(HTML(pd.DataFrame({\"Binary VSM\": scores}).to_html(index=False)))"
   ]
  },
  {
   "cell_type": "code",
   "execution_count": 235,
   "metadata": {},
   "outputs": [
    {
     "data": {
      "text/markdown": [
       "##### Average Precision Scores (TF VSM)"
      ],
      "text/plain": [
       "<IPython.core.display.Markdown object>"
      ]
     },
     "metadata": {},
     "output_type": "display_data"
    },
    {
     "data": {
      "text/html": [
       "<table border=\"1\" class=\"dataframe\">\n",
       "  <thead>\n",
       "    <tr style=\"text-align: right;\">\n",
       "      <th>TF VSM</th>\n",
       "    </tr>\n",
       "  </thead>\n",
       "  <tbody>\n",
       "    <tr>\n",
       "      <td>0.069444</td>\n",
       "    </tr>\n",
       "    <tr>\n",
       "      <td>0.256536</td>\n",
       "    </tr>\n",
       "    <tr>\n",
       "      <td>0.094298</td>\n",
       "    </tr>\n",
       "    <tr>\n",
       "      <td>0.010984</td>\n",
       "    </tr>\n",
       "    <tr>\n",
       "      <td>0.500000</td>\n",
       "    </tr>\n",
       "    <tr>\n",
       "      <td>0.227273</td>\n",
       "    </tr>\n",
       "    <tr>\n",
       "      <td>0.025564</td>\n",
       "    </tr>\n",
       "    <tr>\n",
       "      <td>0.105556</td>\n",
       "    </tr>\n",
       "    <tr>\n",
       "      <td>0.583333</td>\n",
       "    </tr>\n",
       "    <tr>\n",
       "      <td>0.053221</td>\n",
       "    </tr>\n",
       "  </tbody>\n",
       "</table>"
      ],
      "text/plain": [
       "<IPython.core.display.HTML object>"
      ]
     },
     "metadata": {},
     "output_type": "display_data"
    }
   ],
   "source": [
    "# Gather scores for all queries   \n",
    "scores = []\n",
    "for jdx in range(0,len(queries)):\n",
    "    ranked_docs = get_n_best_docs(n=n_docs, docs=all_docs, index=inv_index,\n",
    "                                  query=queries[jdx], strategy=tf_vsm)\n",
    "    ranked_docs = list(reversed(ranked_docs))\n",
    "    ranked_docs = [i[1] for i in ranked_docs]\n",
    "    ranked_docs = list(map(lambda doc_id: source.xs(doc_id)['url'], ranked_docs))\n",
    "    score = avg_prc(gnd_truth[jdx],ranked_docs)\n",
    "    scores.append(score)\n",
    "\n",
    "results.append(scores)\n",
    "\n",
    "display(Markdown(\"##### Average Precision Scores (TF VSM)\"))\n",
    "display(HTML(pd.DataFrame({\"TF VSM\": scores}).to_html(index=False)))"
   ]
  },
  {
   "cell_type": "code",
   "execution_count": 236,
   "metadata": {},
   "outputs": [
    {
     "data": {
      "text/markdown": [
       "##### Average Precision Scores (TF-IDF VSM)"
      ],
      "text/plain": [
       "<IPython.core.display.Markdown object>"
      ]
     },
     "metadata": {},
     "output_type": "display_data"
    },
    {
     "data": {
      "text/html": [
       "<table border=\"1\" class=\"dataframe\">\n",
       "  <thead>\n",
       "    <tr style=\"text-align: right;\">\n",
       "      <th>TF-IDF VSM</th>\n",
       "    </tr>\n",
       "  </thead>\n",
       "  <tbody>\n",
       "    <tr>\n",
       "      <td>0.226190</td>\n",
       "    </tr>\n",
       "    <tr>\n",
       "      <td>0.256536</td>\n",
       "    </tr>\n",
       "    <tr>\n",
       "      <td>0.094298</td>\n",
       "    </tr>\n",
       "    <tr>\n",
       "      <td>0.010984</td>\n",
       "    </tr>\n",
       "    <tr>\n",
       "      <td>0.500000</td>\n",
       "    </tr>\n",
       "    <tr>\n",
       "      <td>0.240741</td>\n",
       "    </tr>\n",
       "    <tr>\n",
       "      <td>0.025564</td>\n",
       "    </tr>\n",
       "    <tr>\n",
       "      <td>0.101010</td>\n",
       "    </tr>\n",
       "    <tr>\n",
       "      <td>0.583333</td>\n",
       "    </tr>\n",
       "    <tr>\n",
       "      <td>0.060036</td>\n",
       "    </tr>\n",
       "  </tbody>\n",
       "</table>"
      ],
      "text/plain": [
       "<IPython.core.display.HTML object>"
      ]
     },
     "metadata": {},
     "output_type": "display_data"
    }
   ],
   "source": [
    "# Gather scores for all queries   \n",
    "scores = []\n",
    "for jdx in range(0,len(queries)):\n",
    "    ranked_docs = get_n_best_docs(n=n_docs, docs=all_docs, index=inv_index,\n",
    "                                  query=queries[jdx], strategy=tf_idf_vsm)\n",
    "    ranked_docs = list(reversed(ranked_docs))\n",
    "    ranked_docs = [i[1] for i in ranked_docs]\n",
    "    ranked_docs = list(map(lambda doc_id: source.xs(doc_id)['url'], ranked_docs))\n",
    "    score = avg_prc(gnd_truth[jdx],ranked_docs)\n",
    "    scores.append(score)\n",
    "\n",
    "results.append(scores)\n",
    "\n",
    "display(Markdown(\"##### Average Precision Scores (TF-IDF VSM)\"))\n",
    "display(HTML(pd.DataFrame({\"TF-IDF VSM\": scores}).to_html(index=False)))"
   ]
  },
  {
   "cell_type": "code",
   "execution_count": 237,
   "metadata": {},
   "outputs": [
    {
     "data": {
      "text/markdown": [
       "##### Average Precision Scores BM25(k=1.2)"
      ],
      "text/plain": [
       "<IPython.core.display.Markdown object>"
      ]
     },
     "metadata": {},
     "output_type": "display_data"
    },
    {
     "data": {
      "text/html": [
       "<table border=\"1\" class=\"dataframe\">\n",
       "  <thead>\n",
       "    <tr style=\"text-align: right;\">\n",
       "      <th>BM25</th>\n",
       "    </tr>\n",
       "  </thead>\n",
       "  <tbody>\n",
       "    <tr>\n",
       "      <td>0.416667</td>\n",
       "    </tr>\n",
       "    <tr>\n",
       "      <td>0.506536</td>\n",
       "    </tr>\n",
       "    <tr>\n",
       "      <td>0.112500</td>\n",
       "    </tr>\n",
       "    <tr>\n",
       "      <td>0.010984</td>\n",
       "    </tr>\n",
       "    <tr>\n",
       "      <td>0.500000</td>\n",
       "    </tr>\n",
       "    <tr>\n",
       "      <td>0.273016</td>\n",
       "    </tr>\n",
       "    <tr>\n",
       "      <td>0.025564</td>\n",
       "    </tr>\n",
       "    <tr>\n",
       "      <td>0.208333</td>\n",
       "    </tr>\n",
       "    <tr>\n",
       "      <td>0.583333</td>\n",
       "    </tr>\n",
       "    <tr>\n",
       "      <td>0.056068</td>\n",
       "    </tr>\n",
       "  </tbody>\n",
       "</table>"
      ],
      "text/plain": [
       "<IPython.core.display.HTML object>"
      ]
     },
     "metadata": {},
     "output_type": "display_data"
    }
   ],
   "source": [
    "# Gather scores for all queries   \n",
    "scores = []\n",
    "for jdx in range(0,len(queries)):\n",
    "    ranked_docs = get_n_best_docs(n=n_docs, docs=all_docs, index=inv_index,\n",
    "                                  k=1.2, query=queries[jdx], strategy=bm25_vsm)\n",
    "    ranked_docs = list(reversed(ranked_docs))\n",
    "    ranked_docs = [i[1] for i in ranked_docs]\n",
    "    ranked_docs = list(map(lambda doc_id: source.xs(doc_id)['url'], ranked_docs))\n",
    "    score = avg_prc(gnd_truth[jdx],ranked_docs)\n",
    "    scores.append(score)\n",
    "\n",
    "results.append(scores)\n",
    "\n",
    "display(Markdown(\"##### Average Precision Scores BM25(k=1.2)\"))\n",
    "display(HTML(pd.DataFrame({\"BM25\": scores}).to_html(index=False)))"
   ]
  },
  {
   "cell_type": "code",
   "execution_count": 262,
   "metadata": {},
   "outputs": [
    {
     "data": {
      "text/markdown": [
       "### Mean Average Precision (MAP) by strategy"
      ],
      "text/plain": [
       "<IPython.core.display.Markdown object>"
      ]
     },
     "metadata": {},
     "output_type": "display_data"
    },
    {
     "data": {
      "text/markdown": [
       "* `Binary`: 0.22415219084070617"
      ],
      "text/plain": [
       "<IPython.core.display.Markdown object>"
      ]
     },
     "metadata": {},
     "output_type": "display_data"
    },
    {
     "data": {
      "text/markdown": [
       "* `TF`: 0.19262093672044275"
      ],
      "text/plain": [
       "<IPython.core.display.Markdown object>"
      ]
     },
     "metadata": {},
     "output_type": "display_data"
    },
    {
     "data": {
      "text/markdown": [
       "* `TF-IDF`: 0.20986925116515187"
      ],
      "text/plain": [
       "<IPython.core.display.Markdown object>"
      ]
     },
     "metadata": {},
     "output_type": "display_data"
    },
    {
     "data": {
      "text/markdown": [
       "* `BM25(k=1.2)`: 0.2693000567143785"
      ],
      "text/plain": [
       "<IPython.core.display.Markdown object>"
      ]
     },
     "metadata": {},
     "output_type": "display_data"
    }
   ],
   "source": [
    "map_rslt = list(map(mean, results))\n",
    "\n",
    "display(Markdown(\"### Mean Average Precision (MAP) by strategy\"))\n",
    "for idx, score in enumerate(map_rslt):\n",
    "    display(Markdown(\"* `{}`: {}\".format(columns[idx], score)))"
   ]
  },
  {
   "cell_type": "code",
   "execution_count": 231,
   "metadata": {},
   "outputs": [
    {
     "name": "stdout",
     "output_type": "stream",
     "text": [
      "[0.07291666666666666, 0.5065359477124183, 0.07291666666666666, 0.010984153749838771, 0.8333333333333333, 0.1489010989010989, 0.025563671006668783, 0.18333333333333335, 0.325, 0.062037037037037036]\n",
      "[0.06944444444444445, 0.2565359477124183, 0.09429824561403508, 0.010984153749838771, 0.5, 0.22727272727272727, 0.025563671006668783, 0.10555555555555556, 0.5833333333333333, 0.05322128851540616]\n",
      "[0.22619047619047616, 0.2565359477124183, 0.09429824561403508, 0.010984153749838771, 0.5, 0.24074074074074073, 0.025563671006668783, 0.10101010101010101, 0.5833333333333333, 0.06003584229390681]\n",
      "[0.41666666666666663, 0.5065359477124183, 0.1125, 0.010984153749838771, 0.5, 0.273015873015873, 0.025563671006668783, 0.20833333333333331, 0.5833333333333333, 0.05606758832565284]\n"
     ]
    }
   ],
   "source": [
    "# strategies = [binary_vsm,tf_vsm,tf_idf_vsm,bm25_vsm]\n",
    "# columns = [\"Binary\",\"TF\",\"TF-IDF\",\"BM25(k=1.2)\"]\n",
    "# k_values =[None,None,None,1.2]\n",
    "# rows = []\n",
    "\n",
    "# for idx in range(0,len(strategies)):\n",
    "    \n",
    "#     # Gather scores for all queries for each strategy  \n",
    "#     scores = []\n",
    "#     for jdx in range(0,len(queries)):\n",
    "#         ranked_docs = get_n_best_docs(n=n_docs, k=k_values[idx], docs=all_docs, index=inv_index,\n",
    "#                                       query=queries[jdx], strategy=strategies[idx])\n",
    "#         ranked_docs = list(reversed(ranked_docs))\n",
    "#         ranked_docs = [i[1] for i in ranked_docs]\n",
    "#         ranked_docs = list(map(lambda doc_id: source.xs(doc_id)['url'], ranked_docs))\n",
    "#         score = avg_prc(gnd_truth[jdx],ranked_docs)\n",
    "#         scores.append(score)\n",
    "       \n",
    "#     print(scores)\n",
    "#     rows.append(scores)\n",
    "\n",
    "# # docs_q2 = pd.DataFrame(list(zip(*rows)),columns=columns)\n",
    "# # display(Markdown(\"##### Top 5 best docs (id) by strategy for query2\"))\n",
    "# # display(HTML(docs_q2.head().to_html(index=False)))"
   ]
  },
  {
   "cell_type": "markdown",
   "metadata": {},
   "source": [
    "## Discounted cumulative gain (DCG)"
   ]
  },
  {
   "cell_type": "code",
   "execution_count": 315,
   "metadata": {},
   "outputs": [],
   "source": [
    "def dcg_score(relvt_docs, retrv_docs):\n",
    "    score =  relvt_docs[retrv_docs[0]] if retrv_docs[0] in relvt_docs else 0\n",
    "\n",
    "    for idx, doc in enumerate(retrv_docs[1:],2):\n",
    "        if doc in relvt_docs:\n",
    "            score += relvt_docs[doc] / log(idx,2)\n",
    "    \n",
    "    return score"
   ]
  },
  {
   "cell_type": "code",
   "execution_count": 327,
   "metadata": {},
   "outputs": [],
   "source": [
    "# # Gather scores for all queries   \n",
    "# scores = []\n",
    "# for jdx in range(0,len(queries)):\n",
    "#     ranked_docs = get_n_best_docs(n=5, docs=all_docs, index=inv_index, \n",
    "#                                   k=1.2, query=queries[jdx], strategy=bm25_vsm)\n",
    "#     ranked_docs = list(reversed(ranked_docs))\n",
    "#     ranked_docs = [i[1] for i in ranked_docs]\n",
    "#     ranked_docs = list(map(lambda doc_id: source.xs(doc_id)['url'], ranked_docs))\n",
    "#     score = dcg_score(gnd_truth[jdx],ranked_docs)\n",
    "#     print(score)\n",
    "\n",
    "# # results.append(scores)\n",
    "\n",
    "# # display(Markdown(\"##### Average Precision Scores (Binary VSM)\"))\n",
    "# # display(HTML(pd.DataFrame({\"Binary VSM\": scores}).to_html(index=False)))"
   ]
  }
 ],
 "metadata": {
  "kernelspec": {
   "display_name": "Python 3",
   "language": "python",
   "name": "python3"
  },
  "language_info": {
   "codemirror_mode": {
    "name": "ipython",
    "version": 3
   },
   "file_extension": ".py",
   "mimetype": "text/x-python",
   "name": "python",
   "nbconvert_exporter": "python",
   "pygments_lexer": "ipython3",
   "version": "3.7.1"
  }
 },
 "nbformat": 4,
 "nbformat_minor": 2
}
