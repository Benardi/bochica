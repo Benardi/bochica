{
 "cells": [
  {
   "cell_type": "code",
   "execution_count": 1,
   "metadata": {},
   "outputs": [
    {
     "data": {
      "text/html": [
       "<script>\n",
       "code_show=true; \n",
       "function code_toggle() {\n",
       " if (code_show){\n",
       " $('div.input').hide();\n",
       " } else {\n",
       " $('div.input').show();\n",
       " }\n",
       " code_show = !code_show\n",
       "} \n",
       "$( document ).ready(code_toggle);\n",
       "</script>\n",
       "<form action=\"javascript:code_toggle()\"><input type=\"submit\" value=\"Click here to toggle on/off the raw code.\"></form>"
      ],
      "text/plain": [
       "<IPython.core.display.HTML object>"
      ]
     },
     "execution_count": 1,
     "metadata": {},
     "output_type": "execute_result"
    }
   ],
   "source": [
    "from IPython.display import HTML\n",
    "\n",
    "HTML('''<script>\n",
    "code_show=true; \n",
    "function code_toggle() {\n",
    " if (code_show){\n",
    " $('div.input').hide();\n",
    " } else {\n",
    " $('div.input').show();\n",
    " }\n",
    " code_show = !code_show\n",
    "} \n",
    "$( document ).ready(code_toggle);\n",
    "</script>\n",
    "<form action=\"javascript:code_toggle()\"><input type=\"submit\" value=\"Click here to toggle on/off the raw code.\"></form>''')"
   ]
  },
  {
   "cell_type": "code",
   "execution_count": 2,
   "metadata": {},
   "outputs": [],
   "source": [
    "from ast import literal_eval\n",
    "from math import log\n",
    "\n",
    "from IPython.display import Markdown, display, HTML\n",
    "import pandas as pd"
   ]
  },
  {
   "cell_type": "markdown",
   "metadata": {},
   "source": [
    "## Load Data"
   ]
  },
  {
   "cell_type": "code",
   "execution_count": 3,
   "metadata": {},
   "outputs": [
    {
     "data": {
      "text/markdown": [
       "## Inverted Index"
      ],
      "text/plain": [
       "<IPython.core.display.Markdown object>"
      ]
     },
     "metadata": {},
     "output_type": "display_data"
    },
    {
     "data": {
      "text/html": [
       "<table border=\"1\" class=\"dataframe\">\n",
       "  <thead>\n",
       "    <tr style=\"text-align: right;\">\n",
       "      <th></th>\n",
       "      <th>doc_id:freq</th>\n",
       "    </tr>\n",
       "    <tr>\n",
       "      <th>word</th>\n",
       "      <th></th>\n",
       "    </tr>\n",
       "  </thead>\n",
       "  <tbody>\n",
       "    <tr>\n",
       "      <th>juíza</th>\n",
       "      <td>[(0, 2), (1, 1)]</td>\n",
       "    </tr>\n",
       "    <tr>\n",
       "      <th>federal</th>\n",
       "      <td>[(0, 1), (1, 1), (2, 1), (6, 2), (14, 1), (36,...</td>\n",
       "    </tr>\n",
       "    <tr>\n",
       "      <th>Ivani</th>\n",
       "      <td>[(0, 1), (1, 1)]</td>\n",
       "    </tr>\n",
       "    <tr>\n",
       "      <th>Silva</th>\n",
       "      <td>[(0, 3), (1, 1), (5, 1), (13, 2), (25, 1), (72...</td>\n",
       "    </tr>\n",
       "    <tr>\n",
       "      <th>Luz</th>\n",
       "      <td>[(0, 3), (1, 1), (124, 1)]</td>\n",
       "    </tr>\n",
       "  </tbody>\n",
       "</table>"
      ],
      "text/plain": [
       "<IPython.core.display.HTML object>"
      ]
     },
     "metadata": {},
     "output_type": "display_data"
    }
   ],
   "source": [
    "inv_index = pd.read_csv(\"../output/inverted_index.csv\").set_index(['word'])\n",
    "inv_index[\"doc_id:freq\"] = inv_index[\"doc_id:freq\"].apply(lambda x: literal_eval(x))\n",
    "\n",
    "display(Markdown(\"## Inverted Index\"))\n",
    "display(HTML(inv_index.head(5).to_html()))"
   ]
  },
  {
   "cell_type": "markdown",
   "metadata": {},
   "source": [
    "### Adding Inverse Document Frequency  (IDF)"
   ]
  },
  {
   "cell_type": "code",
   "execution_count": 4,
   "metadata": {},
   "outputs": [
    {
     "data": {
      "text/markdown": [
       "* Let's employ the number  of documents in this particular                   collection (N=249) in our calculations"
      ],
      "text/plain": [
       "<IPython.core.display.Markdown object>"
      ]
     },
     "metadata": {},
     "output_type": "display_data"
    }
   ],
   "source": [
    "# number of documents in the collection\n",
    "n_docs = inv_index[\"doc_id:freq\"].apply(lambda x: list(i[0] for i in x)).sum()\n",
    "n_docs = len(set(n_docs))\n",
    "display(Markdown(\"* Let's employ the number  of documents in this particular \\\n",
    "                  collection (N={}) in our calculations\".format(n_docs)))"
   ]
  },
  {
   "cell_type": "code",
   "execution_count": 5,
   "metadata": {},
   "outputs": [
    {
     "data": {
      "text/html": [
       "<div>\n",
       "<style scoped>\n",
       "    .dataframe tbody tr th:only-of-type {\n",
       "        vertical-align: middle;\n",
       "    }\n",
       "\n",
       "    .dataframe tbody tr th {\n",
       "        vertical-align: top;\n",
       "    }\n",
       "\n",
       "    .dataframe thead th {\n",
       "        text-align: right;\n",
       "    }\n",
       "</style>\n",
       "<table border=\"1\" class=\"dataframe\">\n",
       "  <thead>\n",
       "    <tr style=\"text-align: right;\">\n",
       "      <th></th>\n",
       "      <th>doc_id:freq</th>\n",
       "      <th>IDF</th>\n",
       "    </tr>\n",
       "    <tr>\n",
       "      <th>word</th>\n",
       "      <th></th>\n",
       "      <th></th>\n",
       "    </tr>\n",
       "  </thead>\n",
       "  <tbody>\n",
       "    <tr>\n",
       "      <th>Gente</th>\n",
       "      <td>[(188, 1)]</td>\n",
       "      <td>5.521461</td>\n",
       "    </tr>\n",
       "    <tr>\n",
       "      <th>satisfação</th>\n",
       "      <td>[(62, 1)]</td>\n",
       "      <td>5.521461</td>\n",
       "    </tr>\n",
       "    <tr>\n",
       "      <th>paralelos</th>\n",
       "      <td>[(24, 1), (162, 1)]</td>\n",
       "      <td>4.828314</td>\n",
       "    </tr>\n",
       "    <tr>\n",
       "      <th>serviria</th>\n",
       "      <td>[(55, 1)]</td>\n",
       "      <td>5.521461</td>\n",
       "    </tr>\n",
       "    <tr>\n",
       "      <th>PSG</th>\n",
       "      <td>[(53, 1), (117, 1)]</td>\n",
       "      <td>4.828314</td>\n",
       "    </tr>\n",
       "  </tbody>\n",
       "</table>\n",
       "</div>"
      ],
      "text/plain": [
       "                    doc_id:freq       IDF\n",
       "word                                     \n",
       "Gente                [(188, 1)]  5.521461\n",
       "satisfação            [(62, 1)]  5.521461\n",
       "paralelos   [(24, 1), (162, 1)]  4.828314\n",
       "serviria              [(55, 1)]  5.521461\n",
       "PSG         [(53, 1), (117, 1)]  4.828314"
      ]
     },
     "execution_count": 5,
     "metadata": {},
     "output_type": "execute_result"
    }
   ],
   "source": [
    "inv_index[\"IDF\"] = inv_index[\"doc_id:freq\"].apply(lambda x: log((n_docs + 1)/len(x)))\n",
    "inv_index.sample(5)"
   ]
  },
  {
   "cell_type": "markdown",
   "metadata": {},
   "source": [
    "<br>\n",
    "\n",
    "***\n",
    "\n",
    "<br>\n",
    "\n",
    "## Strategies Implementation"
   ]
  },
  {
   "cell_type": "markdown",
   "metadata": {},
   "source": [
    "### Binary Vector Space Model"
   ]
  },
  {
   "cell_type": "code",
   "execution_count": 6,
   "metadata": {},
   "outputs": [],
   "source": [
    "def binary_vsm(**kwargs):\n",
    "    \"\"\"Applies the binary vsm to a query and document\n",
    "\n",
    "    Applies the 'binary vector space model' to a query \n",
    "    and document, calculating a score.\n",
    "\n",
    "    :param pandas.core.frame.DataFrame index: inverted index.\n",
    "    :param list(str) query: list of terms that form a query.\n",
    "    :param int doc_id: id of the document.\n",
    "    \n",
    "    :return: relevance score, how relevant the document is \n",
    "             for that query\n",
    "\n",
    "    :rtype: number\n",
    "    \"\"\"\n",
    "    \n",
    "    index = kwargs[\"index\"]\n",
    "    query = kwargs[\"query\"]\n",
    "    doc_id = kwargs[\"doc_id\"]\n",
    "\n",
    "    result = index.reset_index().set_index('word').reindex(labels=set(query)).dropna()[\"doc_id:freq\"]\n",
    "    result = result.apply(lambda x: 0 if not list(w for w in x if w[0] == doc_id) else 1)\n",
    "    result = result.sum()\n",
    "    \n",
    "    return result"
   ]
  },
  {
   "cell_type": "markdown",
   "metadata": {},
   "source": [
    "### Term Frequency Vector Space Model"
   ]
  },
  {
   "cell_type": "code",
   "execution_count": 7,
   "metadata": {},
   "outputs": [],
   "source": [
    "def tf_vsm(**kwargs):\n",
    "    \"\"\"Applies the tf vsm to a query and document\n",
    "\n",
    "    Applies the 'term frequency vector space model' to a query \n",
    "    and document, calculating a score.\n",
    "\n",
    "    :param pandas.core.frame.DataFrame index: inverted index.\n",
    "    :param list(str) query: list of terms that form a query.\n",
    "    :param int doc_id: id of the document.\n",
    "    \n",
    "    :return: relevance score, how relevant the document is \n",
    "             for that query\n",
    "\n",
    "    :rtype: number\n",
    "    \"\"\"\n",
    "    \n",
    "    index = kwargs[\"index\"]\n",
    "    query = kwargs[\"query\"]\n",
    "    doc_id = kwargs[\"doc_id\"]\n",
    "    \n",
    "    # Calculate frequency in query\n",
    "    query_fd = {}\n",
    "    for term in query:\n",
    "        if term not in query_fd:\n",
    "            query_fd[term] = 0\n",
    "\n",
    "        query_fd[term] += 1\n",
    "\n",
    "    \n",
    "    # Get document frequency from inverted index\n",
    "    term_f_in_doc = index.reset_index().set_index('word').reindex(labels=set(query)).dropna()[\"doc_id:freq\"]\\\n",
    "                      .apply(lambda x: list(w for w in x if w[0] == doc_id))\\\n",
    "                      .apply(lambda x: x[0][1] if not (len(x) == 0) else 0) # Extract freq \n",
    "\n",
    "    # Combine doc freq and query frequency to make score\n",
    "    score = 0\n",
    "    for term, freq in query_fd.items():\n",
    "        query_score = freq \n",
    "        doc_score = None\n",
    "\n",
    "        # try catch for when a term doesn't match at all\n",
    "        try:\n",
    "            doc_score = term_f_in_doc.xs(term)\n",
    "        except KeyError as exc:\n",
    "            doc_score = 0\n",
    "\n",
    "        score += query_score * doc_score\n",
    "\n",
    "    return score"
   ]
  },
  {
   "cell_type": "markdown",
   "metadata": {},
   "source": [
    "### Term Frequency - Inverse Document Frequency Vector Space Model"
   ]
  },
  {
   "cell_type": "code",
   "execution_count": 8,
   "metadata": {},
   "outputs": [],
   "source": [
    "def tf_idf_vsm(**kwargs):\n",
    "    \"\"\"Applies the tf-idf vsm to a query and document\n",
    "\n",
    "    Applies the 'term frequency vector inverse document frequency\n",
    "    space model' to a query and document, calculating a score.\n",
    "\n",
    "    :param pandas.core.frame.DataFrame index: inverted index.\n",
    "    :param list(str) query: list of terms that form a query.\n",
    "    :param int doc_id: id of the document.\n",
    "    \n",
    "    :return: relevance score, how relevant the document is \n",
    "             for that query\n",
    "\n",
    "    :rtype: number\n",
    "    \"\"\"    \n",
    "    \n",
    "    index = kwargs[\"index\"]\n",
    "    query = kwargs[\"query\"]\n",
    "    doc_id = kwargs[\"doc_id\"]\n",
    "    \n",
    "    # Calculate frequency in query\n",
    "    query_fd = {}\n",
    "    for term in query:\n",
    "        if term not in query_fd:\n",
    "            query_fd[term] = 0\n",
    "\n",
    "        query_fd[term] += 1\n",
    "\n",
    "    # Get document frequency from inverted index\n",
    "    term_f_in_doc = index.reset_index().set_index('word').reindex(labels=set(query)).dropna()\n",
    "    term_f_in_doc[\"doc_id:freq\"] = term_f_in_doc[\"doc_id:freq\"].\\\n",
    "                                   apply(lambda x: list(w for w in x if w[0] == doc_id))\n",
    "    term_f_in_doc[\"doc_id:freq\"] = term_f_in_doc[\"doc_id:freq\"].\\\n",
    "                                   apply(lambda x: x[0][1] if not (len(x) == 0) else 0)\n",
    "\n",
    "    # Combine doc freq and query frequency to make score\n",
    "    score = 0\n",
    "    for term, freq in query_fd.items():\n",
    "        query_score = freq \n",
    "        doc_score = None\n",
    "        idf_score = None\n",
    "\n",
    "        # try catch for when a term doesn't match at all\n",
    "        try:\n",
    "            doc_score = term_f_in_doc.xs(term)['doc_id:freq']\n",
    "        except KeyError as exc:\n",
    "            doc_score = 0\n",
    "\n",
    "        try:\n",
    "            idf_score = term_f_in_doc.xs(term)['IDF']\n",
    "        except KeyError as exc:\n",
    "            idf_score = 0\n",
    "\n",
    "        score += query_score * doc_score * idf_score\n",
    "        \n",
    "    return score"
   ]
  },
  {
   "cell_type": "markdown",
   "metadata": {},
   "source": [
    "### Best Match 25 Vector Space Model"
   ]
  },
  {
   "cell_type": "code",
   "execution_count": 9,
   "metadata": {},
   "outputs": [],
   "source": [
    "def bm25_vsm(**kwargs):\n",
    "    \"\"\"Applies the bm25 vsm to a query and document\n",
    "\n",
    "    Applies the 'Best Matching 25 space model' to a query \n",
    "    and document, calculating a score.\n",
    "\n",
    "    :param pandas.core.frame.DataFrame index: inverted index.\n",
    "    :param list(str) query: list of terms that form a query.\n",
    "    :param int doc_id: id of the document.\n",
    "    :param int k: term frequency saturation factor\n",
    "    \n",
    "    :return: relevance score, how relevant the document is \n",
    "             for that query\n",
    "\n",
    "    :rtype: number\n",
    "    \"\"\"    \n",
    "    \n",
    "    index = kwargs[\"index\"]\n",
    "    query = kwargs[\"query\"]\n",
    "    doc_id = kwargs[\"doc_id\"]\n",
    "    k = kwargs[\"k\"]\n",
    "    \n",
    "    # Calculate frequency in query\n",
    "    query_fd = {}\n",
    "    for term in query:\n",
    "        if term not in query_fd:\n",
    "            query_fd[term] = 0\n",
    "\n",
    "        query_fd[term] += 1\n",
    "\n",
    "    # Get document frequency from inverted index\n",
    "    term_f_in_doc = index.reset_index().set_index('word').reindex(labels=set(query)).dropna()\n",
    "    term_f_in_doc[\"doc_id:freq\"] = term_f_in_doc[\"doc_id:freq\"].\\\n",
    "                                   apply(lambda x: list(w for w in x if w[0] == doc_id))\n",
    "    term_f_in_doc[\"doc_id:freq\"] = term_f_in_doc[\"doc_id:freq\"].\\\n",
    "                                   apply(lambda x: x[0][1] if not (len(x) == 0) else 0)\n",
    "\n",
    "    # Combine doc freq and query frequency to make score\n",
    "    score = 0\n",
    "    for term, freq in query_fd.items():\n",
    "        query_score = freq \n",
    "        doc_score = None\n",
    "        idf_score = None\n",
    "\n",
    "        # try catch for when a term doesn't match at all\n",
    "        try:\n",
    "            doc_count = term_f_in_doc.xs(term)['doc_id:freq']\n",
    "            doc_score = 0 if doc_count == 0 else (doc_count * (k + 1)) / (doc_count + k)\n",
    "        except KeyError as exc:\n",
    "            doc_score = 0\n",
    "            \n",
    "        try:\n",
    "            idf_score = term_f_in_doc.xs(term)['IDF']\n",
    "        except KeyError as exc:\n",
    "            idf_score = 0\n",
    "        \n",
    "        score += query_score * doc_score * idf_score\n",
    "\n",
    "    return score"
   ]
  },
  {
   "cell_type": "markdown",
   "metadata": {},
   "source": [
    "### Strategy Wrapper"
   ]
  },
  {
   "cell_type": "code",
   "execution_count": 10,
   "metadata": {},
   "outputs": [],
   "source": [
    "from bisect import insort_left\n",
    "\n",
    "\n",
    "def get_n_best_docs(**kwargs):\n",
    "    \"\"\"Retrieves n most relevant docs according to a strategy\n",
    "\n",
    "    Retrieves the n most relevant documents in a given collection\n",
    "    according to a given strategy.\n",
    "\n",
    "    :param pandas.core.frame.DataFrame index: inverted index.\n",
    "    :param list(str) query: list of terms that form a query.\n",
    "    :param list(int) docs: All documents to be evaluated \n",
    "                           (extracted from index if not specified).\n",
    "    :param function strategy: vsm strategy (its params must be \n",
    "                              supplied as well)\n",
    "    \n",
    "    :return: list of document ids by rank in decrescent order\n",
    "\n",
    "    :rtype: list((number,number))\n",
    "    \"\"\"   \n",
    "\n",
    "    n = kwargs.pop(\"n\")\n",
    "    strategy = kwargs.pop(\"strategy\")\n",
    "    \n",
    "    if \"docs\" in kwargs:\n",
    "        docs = kwargs.pop(\"docs\")\n",
    "    else:        \n",
    "        docs = index[\"doc_id:freq\"].apply(lambda x: list(w[0] for w in x)).sum()\n",
    "        docs = list(set(docs))\n",
    "        \n",
    "    rank = []\n",
    "    for doc in docs:\n",
    "        score = strategy(doc_id=doc,**kwargs)\n",
    "        insort_left(rank, (score,doc))\n",
    "        rank = rank[-n:]\n",
    "\n",
    "    return rank"
   ]
  },
  {
   "cell_type": "markdown",
   "metadata": {},
   "source": [
    "## Strategy Evaluation"
   ]
  },
  {
   "cell_type": "code",
   "execution_count": 11,
   "metadata": {},
   "outputs": [
    {
     "data": {
      "text/markdown": [
       "##### Inverted Index's source data"
      ],
      "text/plain": [
       "<IPython.core.display.Markdown object>"
      ]
     },
     "metadata": {},
     "output_type": "display_data"
    },
    {
     "data": {
      "text/plain": [
       "0    “A sociedade foi Rubens Paiva  não os facínora...\n",
       "1    Justiça suspende decisão que proibia Forças Ar...\n",
       "2    Governo Bolsonaro prega “negacionismo históric...\n",
       "3    Quando os pais de Gabo perceberam que tinham u...\n",
       "4    Rádios canadenses banem músicas de Michael Jac...\n",
       "Name: title, dtype: object"
      ]
     },
     "execution_count": 11,
     "metadata": {},
     "output_type": "execute_result"
    }
   ],
   "source": [
    "source = pd.read_csv(\"../output/results.csv\")\n",
    "display(Markdown(\"##### Inverted Index's source data\"))\n",
    "source[\"title\"].head()"
   ]
  },
  {
   "cell_type": "markdown",
   "metadata": {},
   "source": [
    "Let's gather the id of all documents to supply the algorithms:"
   ]
  },
  {
   "cell_type": "code",
   "execution_count": 12,
   "metadata": {},
   "outputs": [
    {
     "data": {
      "text/html": [
       "<div>\n",
       "<style scoped>\n",
       "    .dataframe tbody tr th:only-of-type {\n",
       "        vertical-align: middle;\n",
       "    }\n",
       "\n",
       "    .dataframe tbody tr th {\n",
       "        vertical-align: top;\n",
       "    }\n",
       "\n",
       "    .dataframe thead th {\n",
       "        text-align: right;\n",
       "    }\n",
       "</style>\n",
       "<table border=\"1\" class=\"dataframe\">\n",
       "  <thead>\n",
       "    <tr style=\"text-align: right;\">\n",
       "      <th></th>\n",
       "      <th>docs</th>\n",
       "    </tr>\n",
       "  </thead>\n",
       "  <tbody>\n",
       "    <tr>\n",
       "      <th>count</th>\n",
       "      <td>249.000000</td>\n",
       "    </tr>\n",
       "    <tr>\n",
       "      <th>mean</th>\n",
       "      <td>124.000000</td>\n",
       "    </tr>\n",
       "    <tr>\n",
       "      <th>std</th>\n",
       "      <td>72.024301</td>\n",
       "    </tr>\n",
       "    <tr>\n",
       "      <th>min</th>\n",
       "      <td>0.000000</td>\n",
       "    </tr>\n",
       "    <tr>\n",
       "      <th>25%</th>\n",
       "      <td>62.000000</td>\n",
       "    </tr>\n",
       "    <tr>\n",
       "      <th>50%</th>\n",
       "      <td>124.000000</td>\n",
       "    </tr>\n",
       "    <tr>\n",
       "      <th>75%</th>\n",
       "      <td>186.000000</td>\n",
       "    </tr>\n",
       "    <tr>\n",
       "      <th>max</th>\n",
       "      <td>248.000000</td>\n",
       "    </tr>\n",
       "  </tbody>\n",
       "</table>\n",
       "</div>"
      ],
      "text/plain": [
       "             docs\n",
       "count  249.000000\n",
       "mean   124.000000\n",
       "std     72.024301\n",
       "min      0.000000\n",
       "25%     62.000000\n",
       "50%    124.000000\n",
       "75%    186.000000\n",
       "max    248.000000"
      ]
     },
     "execution_count": 12,
     "metadata": {},
     "output_type": "execute_result"
    }
   ],
   "source": [
    "all_docs = inv_index[\"doc_id:freq\"].apply(lambda x: list(w[0] for w in x)).sum()\n",
    "all_docs = list(set(all_docs))\n",
    "pd.DataFrame(all_docs, columns=[\"docs\"]).describe()"
   ]
  },
  {
   "cell_type": "markdown",
   "metadata": {},
   "source": [
    "### Reciprocal Rank"
   ]
  },
  {
   "cell_type": "code",
   "execution_count": 40,
   "metadata": {},
   "outputs": [],
   "source": [
    "def reciprocal_rank(tgt_doc, retrieved_docs):\n",
    "    found = False\n",
    "    recip_rank = None\n",
    "\n",
    "    for rank, doc in enumerate(retrieved_docs,1): \n",
    "        if doc == tgt_doc:\n",
    "            found = True\n",
    "            recip_rank = 1 / rank \n",
    "\n",
    "    if not found:\n",
    "        recip_rank = 0\n",
    "\n",
    "    return recip_rank"
   ]
  },
  {
   "cell_type": "code",
   "execution_count": 13,
   "metadata": {},
   "outputs": [
    {
     "data": {
      "text/markdown": [
       "##### Target Document (ID=111)"
      ],
      "text/plain": [
       "<IPython.core.display.Markdown object>"
      ]
     },
     "metadata": {},
     "output_type": "display_data"
    },
    {
     "data": {
      "text/plain": [
       "title       Idoso é preso por ajudar esposa a fazer eutaná...\n",
       "subtitle    O espanhol Ángel Hernández atendeu ao desejo d...\n",
       "author                                       Emilio de Benito\n",
       "date                                      04/04/2019 14:39:50\n",
       "section                                         Internacional\n",
       "text        Ángel Hernández e María José Carrasco estavam ...\n",
       "url         https://brasil.elpais.com/brasil/2019/04/04/in...\n",
       "Name: 111, dtype: object"
      ]
     },
     "execution_count": 13,
     "metadata": {},
     "output_type": "execute_result"
    }
   ],
   "source": [
    "doc_id = 111\n",
    "\n",
    "display(Markdown(\"##### Target Document (ID={})\".format(doc_id)))\n",
    "source.xs(doc_id)"
   ]
  },
  {
   "cell_type": "code",
   "execution_count": 14,
   "metadata": {},
   "outputs": [
    {
     "data": {
      "text/markdown": [
       "##### The query used to retrieve the target document:"
      ],
      "text/plain": [
       "<IPython.core.display.Markdown object>"
      ]
     },
     "metadata": {},
     "output_type": "display_data"
    },
    {
     "data": {
      "text/markdown": [
       " * ['suicídio', 'eutanásia', 'Espanha']"
      ],
      "text/plain": [
       "<IPython.core.display.Markdown object>"
      ]
     },
     "metadata": {},
     "output_type": "display_data"
    }
   ],
   "source": [
    "query = ['suicídio','eutanásia','Espanha']\n",
    "display(Markdown(\"##### The query used to retrieve the target document:\".format(doc_id)))\n",
    "display(Markdown(\" * {}\".format(query)))"
   ]
  },
  {
   "cell_type": "markdown",
   "metadata": {},
   "source": [
    "> We shall use the classic value of k=1.2 for the algorithm BM25 "
   ]
  },
  {
   "cell_type": "code",
   "execution_count": 23,
   "metadata": {},
   "outputs": [
    {
     "data": {
      "text/markdown": [
       "##### Top 5 best docs by strategy for given query"
      ],
      "text/plain": [
       "<IPython.core.display.Markdown object>"
      ]
     },
     "metadata": {},
     "output_type": "display_data"
    },
    {
     "data": {
      "text/html": [
       "<table border=\"1\" class=\"dataframe\">\n",
       "  <thead>\n",
       "    <tr style=\"text-align: right;\">\n",
       "      <th>Binary</th>\n",
       "      <th>TF</th>\n",
       "      <th>TF-IDF</th>\n",
       "      <th>BM25(k=1.2)</th>\n",
       "    </tr>\n",
       "  </thead>\n",
       "  <tbody>\n",
       "    <tr>\n",
       "      <td>111</td>\n",
       "      <td>248</td>\n",
       "      <td>248</td>\n",
       "      <td>111</td>\n",
       "    </tr>\n",
       "    <tr>\n",
       "      <td>248</td>\n",
       "      <td>68</td>\n",
       "      <td>111</td>\n",
       "      <td>222</td>\n",
       "    </tr>\n",
       "    <tr>\n",
       "      <td>247</td>\n",
       "      <td>122</td>\n",
       "      <td>222</td>\n",
       "      <td>79</td>\n",
       "    </tr>\n",
       "    <tr>\n",
       "      <td>244</td>\n",
       "      <td>128</td>\n",
       "      <td>79</td>\n",
       "      <td>237</td>\n",
       "    </tr>\n",
       "    <tr>\n",
       "      <td>242</td>\n",
       "      <td>111</td>\n",
       "      <td>68</td>\n",
       "      <td>195</td>\n",
       "    </tr>\n",
       "  </tbody>\n",
       "</table>"
      ],
      "text/plain": [
       "<IPython.core.display.HTML object>"
      ]
     },
     "metadata": {},
     "output_type": "display_data"
    }
   ],
   "source": [
    "strategies = [binary_vsm,tf_vsm,tf_idf_vsm,bm25_vsm]\n",
    "columns = [\"Binary\",\"TF\",\"TF-IDF\",\"BM25(k=1.2)\"]\n",
    "k_values =[None,None,None,1.2]\n",
    "rows = []\n",
    "\n",
    "for idx in range(0,len(strategies)):\n",
    "    top_10 = get_n_best_docs(n=n_docs, k=k_values[idx], docs=all_docs,index=inv_index, query=query,\n",
    "                             strategy=strategies[idx])\n",
    "    \n",
    "    top_10 = list(reversed(top_10))\n",
    "    top_10 = [i[1] for i in top_10]\n",
    "    \n",
    "    rows.append(top_10)\n",
    "\n",
    "docs_q1 = pd.DataFrame(list(zip(*rows)),columns=columns)\n",
    "display(Markdown(\"##### Top 5 best docs by strategy for given query\"))\n",
    "display(HTML(docs_q1.head().to_html(index=False)))"
   ]
  },
  {
   "cell_type": "code",
   "execution_count": 62,
   "metadata": {},
   "outputs": [
    {
     "data": {
      "text/markdown": [
       "##### Reciprocal Rank score by strategy for query"
      ],
      "text/plain": [
       "<IPython.core.display.Markdown object>"
      ]
     },
     "metadata": {},
     "output_type": "display_data"
    },
    {
     "data": {
      "text/html": [
       "<table border=\"1\" class=\"dataframe\">\n",
       "  <thead>\n",
       "    <tr style=\"text-align: right;\">\n",
       "      <th>Binary</th>\n",
       "      <th>TF</th>\n",
       "      <th>TF-IDF</th>\n",
       "      <th>BM25(k=1.2)</th>\n",
       "    </tr>\n",
       "  </thead>\n",
       "  <tbody>\n",
       "    <tr>\n",
       "      <td>1.0</td>\n",
       "      <td>0.2</td>\n",
       "      <td>0.5</td>\n",
       "      <td>1.0</td>\n",
       "    </tr>\n",
       "  </tbody>\n",
       "</table>"
      ],
      "text/plain": [
       "<IPython.core.display.HTML object>"
      ]
     },
     "metadata": {},
     "output_type": "display_data"
    }
   ],
   "source": [
    "recip_rank_scores = list(map(lambda score: [score],\n",
    "                         map(lambda r_docs: reciprocal_rank(111, r_docs),rows)))\n",
    "\n",
    "docs_q1 = pd.DataFrame(list(zip(*recip_rank_scores)),columns=columns)\n",
    "display(Markdown(\"##### Reciprocal Rank score by strategy for query\"))\n",
    "display(HTML(docs_q1.head().to_html(index=False)))"
   ]
  },
  {
   "cell_type": "code",
   "execution_count": 70,
   "metadata": {},
   "outputs": [],
   "source": [
    "import json\n",
    "\n",
    "\n",
    "answer_key = None\n",
    "\n",
    "with open('../output/results_final.json') as json_file:  \n",
    "    answer_key = json.load(json_file)"
   ]
  }
 ],
 "metadata": {
  "kernelspec": {
   "display_name": "Python 3",
   "language": "python",
   "name": "python3"
  },
  "language_info": {
   "codemirror_mode": {
    "name": "ipython",
    "version": 3
   },
   "file_extension": ".py",
   "mimetype": "text/x-python",
   "name": "python",
   "nbconvert_exporter": "python",
   "pygments_lexer": "ipython3",
   "version": "3.7.1"
  }
 },
 "nbformat": 4,
 "nbformat_minor": 2
}
