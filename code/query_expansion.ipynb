{
 "cells": [
  {
   "cell_type": "code",
   "execution_count": null,
   "metadata": {},
   "outputs": [],
   "source": [
    "from IPython.display import HTML\n",
    "\n",
    "HTML('''<script>\n",
    "code_show=true; \n",
    "function code_toggle() {\n",
    " if (code_show){\n",
    " $('div.input').hide();\n",
    " } else {\n",
    " $('div.input').show();\n",
    " }\n",
    " code_show = !code_show\n",
    "} \n",
    "$( document ).ready(code_toggle);\n",
    "</script>\n",
    "<form action=\"javascript:code_toggle()\"><input type=\"submit\" value=\"Click here to toggle on/off the raw code.\"></form>''')"
   ]
  },
  {
   "cell_type": "code",
   "execution_count": 1,
   "metadata": {},
   "outputs": [],
   "source": [
    "from ast import literal_eval\n",
    "from math import log10, log\n",
    "\n",
    "from IPython.display import Markdown, display, HTML\n",
    "import pandas as pd\n",
    "\n",
    "past_queries = ['criativo','Instagram','reprodução','real','hostil']"
   ]
  },
  {
   "cell_type": "code",
   "execution_count": 2,
   "metadata": {},
   "outputs": [
    {
     "data": {
      "text/html": [
       "<div>\n",
       "<style scoped>\n",
       "    .dataframe tbody tr th:only-of-type {\n",
       "        vertical-align: middle;\n",
       "    }\n",
       "\n",
       "    .dataframe tbody tr th {\n",
       "        vertical-align: top;\n",
       "    }\n",
       "\n",
       "    .dataframe thead th {\n",
       "        text-align: right;\n",
       "    }\n",
       "</style>\n",
       "<table border=\"1\" class=\"dataframe\">\n",
       "  <thead>\n",
       "    <tr style=\"text-align: right;\">\n",
       "      <th></th>\n",
       "      <th>doc_id:freq</th>\n",
       "    </tr>\n",
       "    <tr>\n",
       "      <th>word</th>\n",
       "      <th></th>\n",
       "    </tr>\n",
       "  </thead>\n",
       "  <tbody>\n",
       "    <tr>\n",
       "      <th>juíza</th>\n",
       "      <td>[(0, 2), (1, 1)]</td>\n",
       "    </tr>\n",
       "    <tr>\n",
       "      <th>federal</th>\n",
       "      <td>[(0, 1), (1, 1), (2, 1), (6, 2), (14, 1), (36,...</td>\n",
       "    </tr>\n",
       "    <tr>\n",
       "      <th>Ivani</th>\n",
       "      <td>[(0, 1), (1, 1)]</td>\n",
       "    </tr>\n",
       "    <tr>\n",
       "      <th>Silva</th>\n",
       "      <td>[(0, 3), (1, 1), (5, 1), (13, 2), (25, 1), (72...</td>\n",
       "    </tr>\n",
       "    <tr>\n",
       "      <th>Luz</th>\n",
       "      <td>[(0, 3), (1, 1), (124, 1)]</td>\n",
       "    </tr>\n",
       "    <tr>\n",
       "      <th>Brasília</th>\n",
       "      <td>[(0, 1), (7, 1), (32, 1), (34, 1), (43, 1), (4...</td>\n",
       "    </tr>\n",
       "    <tr>\n",
       "      <th>proibiu</th>\n",
       "      <td>[(0, 1), (1, 1), (118, 1), (161, 1)]</td>\n",
       "    </tr>\n",
       "    <tr>\n",
       "      <th>caráter</th>\n",
       "      <td>[(0, 1), (14, 1), (35, 1), (59, 1), (88, 1), (...</td>\n",
       "    </tr>\n",
       "    <tr>\n",
       "      <th>liminar</th>\n",
       "      <td>[(0, 1), (1, 3), (118, 1), (216, 1)]</td>\n",
       "    </tr>\n",
       "    <tr>\n",
       "      <th>sexta-feira</th>\n",
       "      <td>[(0, 2), (1, 1), (22, 1), (30, 1), (35, 1), (5...</td>\n",
       "    </tr>\n",
       "    <tr>\n",
       "      <th>Forças</th>\n",
       "      <td>[(0, 3), (5, 3), (11, 1), (24, 4), (41, 1), (6...</td>\n",
       "    </tr>\n",
       "    <tr>\n",
       "      <th>Armadas</th>\n",
       "      <td>[(0, 3), (5, 3), (11, 1), (24, 4), (41, 1), (6...</td>\n",
       "    </tr>\n",
       "    <tr>\n",
       "      <th>comemorarem</th>\n",
       "      <td>[(0, 1), (165, 1), (217, 1)]</td>\n",
       "    </tr>\n",
       "    <tr>\n",
       "      <th>especialmente</th>\n",
       "      <td>[(0, 1), (1, 1), (9, 1), (10, 1), (11, 1), (55...</td>\n",
       "    </tr>\n",
       "    <tr>\n",
       "      <th>uso</th>\n",
       "      <td>[(0, 1), (1, 1), (10, 1), (11, 2), (17, 1), (1...</td>\n",
       "    </tr>\n",
       "    <tr>\n",
       "      <th>dinheiro</th>\n",
       "      <td>[(0, 1), (1, 1), (9, 1), (12, 1), (13, 2), (25...</td>\n",
       "    </tr>\n",
       "    <tr>\n",
       "      <th>público</th>\n",
       "      <td>[(0, 1), (1, 1), (6, 2), (8, 1), (10, 1), (11,...</td>\n",
       "    </tr>\n",
       "    <tr>\n",
       "      <th>55º</th>\n",
       "      <td>[(0, 1), (171, 2), (173, 1)]</td>\n",
       "    </tr>\n",
       "    <tr>\n",
       "      <th>aniversário</th>\n",
       "      <td>[(0, 1), (5, 2), (19, 1), (33, 1), (79, 1), (9...</td>\n",
       "    </tr>\n",
       "    <tr>\n",
       "      <th>golpe</th>\n",
       "      <td>[(0, 4), (1, 2), (2, 7), (24, 13), (82, 1), (9...</td>\n",
       "    </tr>\n",
       "  </tbody>\n",
       "</table>\n",
       "</div>"
      ],
      "text/plain": [
       "                                                     doc_id:freq\n",
       "word                                                            \n",
       "juíza                                           [(0, 2), (1, 1)]\n",
       "federal        [(0, 1), (1, 1), (2, 1), (6, 2), (14, 1), (36,...\n",
       "Ivani                                           [(0, 1), (1, 1)]\n",
       "Silva          [(0, 3), (1, 1), (5, 1), (13, 2), (25, 1), (72...\n",
       "Luz                                   [(0, 3), (1, 1), (124, 1)]\n",
       "Brasília       [(0, 1), (7, 1), (32, 1), (34, 1), (43, 1), (4...\n",
       "proibiu                     [(0, 1), (1, 1), (118, 1), (161, 1)]\n",
       "caráter        [(0, 1), (14, 1), (35, 1), (59, 1), (88, 1), (...\n",
       "liminar                     [(0, 1), (1, 3), (118, 1), (216, 1)]\n",
       "sexta-feira    [(0, 2), (1, 1), (22, 1), (30, 1), (35, 1), (5...\n",
       "Forças         [(0, 3), (5, 3), (11, 1), (24, 4), (41, 1), (6...\n",
       "Armadas        [(0, 3), (5, 3), (11, 1), (24, 4), (41, 1), (6...\n",
       "comemorarem                         [(0, 1), (165, 1), (217, 1)]\n",
       "especialmente  [(0, 1), (1, 1), (9, 1), (10, 1), (11, 1), (55...\n",
       "uso            [(0, 1), (1, 1), (10, 1), (11, 2), (17, 1), (1...\n",
       "dinheiro       [(0, 1), (1, 1), (9, 1), (12, 1), (13, 2), (25...\n",
       "público        [(0, 1), (1, 1), (6, 2), (8, 1), (10, 1), (11,...\n",
       "55º                                 [(0, 1), (171, 2), (173, 1)]\n",
       "aniversário    [(0, 1), (5, 2), (19, 1), (33, 1), (79, 1), (9...\n",
       "golpe          [(0, 4), (1, 2), (2, 7), (24, 13), (82, 1), (9..."
      ]
     },
     "execution_count": 2,
     "metadata": {},
     "output_type": "execute_result"
    }
   ],
   "source": [
    "inv_index = pd.read_csv(\"../output/inverted_index.csv\").set_index(['word']).drop('vivoÉ') #remove tokenization mistake\n",
    "inv_index[\"doc_id:freq\"] = inv_index[\"doc_id:freq\"].apply(lambda x: literal_eval(x))\n",
    "inv_index.head(20)"
   ]
  },
  {
   "cell_type": "code",
   "execution_count": 3,
   "metadata": {},
   "outputs": [],
   "source": [
    "def mim(**kwargs):\n",
    "    n_ab = kwargs[\"n_ab\"]\n",
    "    n_b = kwargs[\"n_b\"]\n",
    "    n_a = kwargs[\"n_a\"]\n",
    "    \n",
    "    return n_ab/(n_a * n_b)\n",
    "\n",
    "def dice_coef(**kwargs):\n",
    "    n_ab = kwargs[\"n_ab\"]\n",
    "    n_b = kwargs[\"n_b\"]\n",
    "    n_a = kwargs[\"n_a\"]\n",
    "\n",
    "    return n_ab/(n_a + n_b)\n",
    "\n",
    "def emim(**kwargs):\n",
    "    N = 10e6 if 'N' not in kwargs else kwargs[\"N\"]\n",
    "    n_ab = kwargs[\"n_ab\"]\n",
    "    n_b = kwargs[\"n_b\"]\n",
    "    n_a = kwargs[\"n_a\"]\n",
    "    result = 0 if n_ab == 0 else \\\n",
    "             n_ab * log10(N * (n_ab / (n_a * n_b)))\n",
    "    \n",
    "    return result\n",
    "\n",
    "def chi_square(**kwargs):\n",
    "    N = 10e6 if 'N' not in kwargs else kwargs[\"N\"]\n",
    "    n_ab = kwargs[\"n_ab\"]\n",
    "    n_b = kwargs[\"n_b\"]\n",
    "    n_a = kwargs[\"n_a\"]\n",
    "\n",
    "    return pow((n_ab - (1/N) * n_a * n_b),2) / (n_a * n_b)"
   ]
  },
  {
   "cell_type": "code",
   "execution_count": 4,
   "metadata": {},
   "outputs": [],
   "source": [
    "from bisect import insort_left\n",
    "\n",
    "\n",
    "def n_most_related(n=10,**kwargs):\n",
    "    metric = kwargs.pop(\"metric\")\n",
    "    index = kwargs.pop(\"df\")\n",
    "    A = kwargs.pop(\"A\")    \n",
    "    words = index.drop(A).reset_index()[\"word\"].values\n",
    "    rank = []\n",
    "    \n",
    "    for word in words:\n",
    "        n_a = index.xs(A).values[0]\n",
    "        n_b = index.xs(word).values[0]\n",
    "        n_ab = [val1 for (val1,val2) in n_a if val1 \\\n",
    "            in (val1 for (val1,val2) in n_b)]\n",
    "        kwargs[\"n_ab\"] = len(n_ab)\n",
    "        kwargs[\"n_a\"] = len(n_a)\n",
    "        kwargs[\"n_b\"] = len(n_b)   \n",
    "        insort_left(rank, (metric(**kwargs),word))\n",
    "        rank = rank[-n:]\n",
    "    \n",
    "    return rank"
   ]
  },
  {
   "cell_type": "code",
   "execution_count": 5,
   "metadata": {},
   "outputs": [
    {
     "data": {
      "text/markdown": [
       "***"
      ],
      "text/plain": [
       "<IPython.core.display.Markdown object>"
      ]
     },
     "metadata": {},
     "output_type": "display_data"
    },
    {
     "data": {
      "text/markdown": [
       "### Results for 'Instagram'"
      ],
      "text/plain": [
       "<IPython.core.display.Markdown object>"
      ]
     },
     "metadata": {},
     "output_type": "display_data"
    },
    {
     "data": {
      "text/html": [
       "<table border=\"1\" class=\"dataframe\">\n",
       "  <thead>\n",
       "    <tr style=\"text-align: right;\">\n",
       "      <th>MIM</th>\n",
       "      <th>EMIM</th>\n",
       "      <th>Chi-Squared</th>\n",
       "      <th>Dice</th>\n",
       "    </tr>\n",
       "  </thead>\n",
       "  <tbody>\n",
       "    <tr>\n",
       "      <td>êxito</td>\n",
       "      <td>sociais</td>\n",
       "      <td>publicadas</td>\n",
       "      <td>publicadas</td>\n",
       "    </tr>\n",
       "    <tr>\n",
       "      <td>ânsias</td>\n",
       "      <td>redes</td>\n",
       "      <td>contínuos</td>\n",
       "      <td>contínuos</td>\n",
       "    </tr>\n",
       "    <tr>\n",
       "      <td>votarão</td>\n",
       "      <td>deu</td>\n",
       "      <td>Gallup</td>\n",
       "      <td>Gallup</td>\n",
       "    </tr>\n",
       "    <tr>\n",
       "      <td>votará</td>\n",
       "      <td>5</td>\n",
       "      <td>tarifas</td>\n",
       "      <td>tarifas</td>\n",
       "    </tr>\n",
       "    <tr>\n",
       "      <td>vinhos</td>\n",
       "      <td>país</td>\n",
       "      <td>exibe</td>\n",
       "      <td>exibe</td>\n",
       "    </tr>\n",
       "    <tr>\n",
       "      <td>viatura</td>\n",
       "      <td>aparece</td>\n",
       "      <td>êxito</td>\n",
       "      <td>jogam</td>\n",
       "    </tr>\n",
       "    <tr>\n",
       "      <td>velinhas</td>\n",
       "      <td>totalmente</td>\n",
       "      <td>ânsias</td>\n",
       "      <td>império</td>\n",
       "    </tr>\n",
       "    <tr>\n",
       "      <td>utópico</td>\n",
       "      <td>torna</td>\n",
       "      <td>votarão</td>\n",
       "      <td>gás</td>\n",
       "    </tr>\n",
       "    <tr>\n",
       "      <td>usos</td>\n",
       "      <td>Partido</td>\n",
       "      <td>votará</td>\n",
       "      <td>aço</td>\n",
       "    </tr>\n",
       "    <tr>\n",
       "      <td>urbana/rural</td>\n",
       "      <td>votos</td>\n",
       "      <td>vinhos</td>\n",
       "      <td>encerrou</td>\n",
       "    </tr>\n",
       "  </tbody>\n",
       "</table>"
      ],
      "text/plain": [
       "<IPython.core.display.HTML object>"
      ]
     },
     "metadata": {},
     "output_type": "display_data"
    },
    {
     "data": {
      "text/markdown": [
       "***"
      ],
      "text/plain": [
       "<IPython.core.display.Markdown object>"
      ]
     },
     "metadata": {},
     "output_type": "display_data"
    }
   ],
   "source": [
    "metrics = [mim,emim,chi_square,dice_coef]\n",
    "columns=[\"MIM\",\"EMIM\",\"Chi-Squared\",\"Dice\"]\n",
    "rows = []\n",
    "\n",
    "for metric in metrics:\n",
    "    top_10 = n_most_related(df=inv_index,A='Instagram',\n",
    "                            metric=metric,n=10)\n",
    "    top_10 = list(reversed(top_10))\n",
    "    top_10 = [i[1] for i in top_10]\n",
    "    \n",
    "    rows.append(top_10)\n",
    "    \n",
    "display(Markdown(\"***\"))\n",
    "display(Markdown(\"### Results for 'Instagram'\"))\n",
    "display(HTML(pd.DataFrame(list(zip(*rows)), columns=columns).to_html(index=False)))\n",
    "display(Markdown(\"***\"))"
   ]
  },
  {
   "cell_type": "code",
   "execution_count": 6,
   "metadata": {},
   "outputs": [
    {
     "data": {
      "text/markdown": [
       "***"
      ],
      "text/plain": [
       "<IPython.core.display.Markdown object>"
      ]
     },
     "metadata": {},
     "output_type": "display_data"
    },
    {
     "data": {
      "text/markdown": [
       "### Results for 'criativo'"
      ],
      "text/plain": [
       "<IPython.core.display.Markdown object>"
      ]
     },
     "metadata": {},
     "output_type": "display_data"
    },
    {
     "data": {
      "text/html": [
       "<table border=\"1\" class=\"dataframe\">\n",
       "  <thead>\n",
       "    <tr style=\"text-align: right;\">\n",
       "      <th>MIM</th>\n",
       "      <th>EMIM</th>\n",
       "      <th>Chi-Squared</th>\n",
       "      <th>Dice</th>\n",
       "    </tr>\n",
       "  </thead>\n",
       "  <tbody>\n",
       "    <tr>\n",
       "      <td>ângulos</td>\n",
       "      <td>cheque</td>\n",
       "      <td>ângulos</td>\n",
       "      <td>ângulos</td>\n",
       "    </tr>\n",
       "    <tr>\n",
       "      <td>virarem</td>\n",
       "      <td>conhecidas</td>\n",
       "      <td>virarem</td>\n",
       "      <td>virarem</td>\n",
       "    </tr>\n",
       "    <tr>\n",
       "      <td>violou</td>\n",
       "      <td>acredito</td>\n",
       "      <td>violou</td>\n",
       "      <td>violou</td>\n",
       "    </tr>\n",
       "    <tr>\n",
       "      <td>viciado</td>\n",
       "      <td>mental</td>\n",
       "      <td>viciado</td>\n",
       "      <td>viciado</td>\n",
       "    </tr>\n",
       "    <tr>\n",
       "      <td>vestiam</td>\n",
       "      <td>trabalhadores</td>\n",
       "      <td>vestiam</td>\n",
       "      <td>vestiam</td>\n",
       "    </tr>\n",
       "    <tr>\n",
       "      <td>veste</td>\n",
       "      <td>parlamentares</td>\n",
       "      <td>veste</td>\n",
       "      <td>veste</td>\n",
       "    </tr>\n",
       "    <tr>\n",
       "      <td>vermelho-sangue</td>\n",
       "      <td>efeitos</td>\n",
       "      <td>vermelho-sangue</td>\n",
       "      <td>vermelho-sangue</td>\n",
       "    </tr>\n",
       "    <tr>\n",
       "      <td>vaidades</td>\n",
       "      <td>cara</td>\n",
       "      <td>vaidades</td>\n",
       "      <td>vaidades</td>\n",
       "    </tr>\n",
       "    <tr>\n",
       "      <td>vaginas</td>\n",
       "      <td>podemos</td>\n",
       "      <td>vaginas</td>\n",
       "      <td>vaginas</td>\n",
       "    </tr>\n",
       "    <tr>\n",
       "      <td>usarem</td>\n",
       "      <td>acontecer</td>\n",
       "      <td>usarem</td>\n",
       "      <td>usarem</td>\n",
       "    </tr>\n",
       "  </tbody>\n",
       "</table>"
      ],
      "text/plain": [
       "<IPython.core.display.HTML object>"
      ]
     },
     "metadata": {},
     "output_type": "display_data"
    },
    {
     "data": {
      "text/markdown": [
       "***"
      ],
      "text/plain": [
       "<IPython.core.display.Markdown object>"
      ]
     },
     "metadata": {},
     "output_type": "display_data"
    }
   ],
   "source": [
    "metrics = [mim,emim,chi_square,dice_coef]\n",
    "columns=[\"MIM\",\"EMIM\",\"Chi-Squared\",\"Dice\"]\n",
    "rows = []\n",
    "\n",
    "for metric in metrics:\n",
    "    top_10 = n_most_related(df=inv_index,A='criativo',\n",
    "                            metric=metric,n=10)\n",
    "    top_10 = list(reversed(top_10))\n",
    "    top_10 = [i[1] for i in top_10]\n",
    "    \n",
    "    rows.append(top_10)\n",
    "    \n",
    "display(Markdown(\"***\"))\n",
    "display(Markdown(\"### Results for 'criativo'\"))\n",
    "display(HTML(pd.DataFrame(list(zip(*rows)), columns =columns).to_html(index=False)))\n",
    "display(Markdown(\"***\"))"
   ]
  },
  {
   "cell_type": "markdown",
   "metadata": {},
   "source": [
    "* *EMIM* is the only algorithm whose result differs from the rest, being the less coherent at that."
   ]
  },
  {
   "cell_type": "code",
   "execution_count": 7,
   "metadata": {},
   "outputs": [
    {
     "data": {
      "text/markdown": [
       "***"
      ],
      "text/plain": [
       "<IPython.core.display.Markdown object>"
      ]
     },
     "metadata": {},
     "output_type": "display_data"
    },
    {
     "data": {
      "text/markdown": [
       "### Results for 'reprodução'"
      ],
      "text/plain": [
       "<IPython.core.display.Markdown object>"
      ]
     },
     "metadata": {},
     "output_type": "display_data"
    },
    {
     "data": {
      "text/html": [
       "<table border=\"1\" class=\"dataframe\">\n",
       "  <thead>\n",
       "    <tr style=\"text-align: right;\">\n",
       "      <th>MIM</th>\n",
       "      <th>EMIM</th>\n",
       "      <th>Chi-Squared</th>\n",
       "      <th>Dice</th>\n",
       "    </tr>\n",
       "  </thead>\n",
       "  <tbody>\n",
       "    <tr>\n",
       "      <td>útero</td>\n",
       "      <td>vida</td>\n",
       "      <td>médicas</td>\n",
       "      <td>médicas</td>\n",
       "    </tr>\n",
       "    <tr>\n",
       "      <td>úteis</td>\n",
       "      <td>plataforma</td>\n",
       "      <td>costumes</td>\n",
       "      <td>costumes</td>\n",
       "    </tr>\n",
       "    <tr>\n",
       "      <td>ônibusFoi</td>\n",
       "      <td>programas</td>\n",
       "      <td>útero</td>\n",
       "      <td>vazio</td>\n",
       "    </tr>\n",
       "    <tr>\n",
       "      <td>ária</td>\n",
       "      <td>música</td>\n",
       "      <td>úteis</td>\n",
       "      <td>valem</td>\n",
       "    </tr>\n",
       "    <tr>\n",
       "      <td>workshops</td>\n",
       "      <td>terem</td>\n",
       "      <td>ônibusFoi</td>\n",
       "      <td>usuário</td>\n",
       "    </tr>\n",
       "    <tr>\n",
       "      <td>votam</td>\n",
       "      <td>vontade</td>\n",
       "      <td>ária</td>\n",
       "      <td>preparação</td>\n",
       "    </tr>\n",
       "    <tr>\n",
       "      <td>vivências</td>\n",
       "      <td>sentido</td>\n",
       "      <td>workshops</td>\n",
       "      <td>bruto</td>\n",
       "    </tr>\n",
       "    <tr>\n",
       "      <td>visualizações</td>\n",
       "      <td>idade</td>\n",
       "      <td>votam</td>\n",
       "      <td>oferecem</td>\n",
       "    </tr>\n",
       "    <tr>\n",
       "      <td>virgindade</td>\n",
       "      <td>aconteceu</td>\n",
       "      <td>vivências</td>\n",
       "      <td>influentes</td>\n",
       "    </tr>\n",
       "    <tr>\n",
       "      <td>verbalmente</td>\n",
       "      <td>saúde</td>\n",
       "      <td>visualizações</td>\n",
       "      <td>experiências</td>\n",
       "    </tr>\n",
       "  </tbody>\n",
       "</table>"
      ],
      "text/plain": [
       "<IPython.core.display.HTML object>"
      ]
     },
     "metadata": {},
     "output_type": "display_data"
    },
    {
     "data": {
      "text/markdown": [
       "***"
      ],
      "text/plain": [
       "<IPython.core.display.Markdown object>"
      ]
     },
     "metadata": {},
     "output_type": "display_data"
    }
   ],
   "source": [
    "metrics = [mim,emim,chi_square,dice_coef]\n",
    "columns=[\"MIM\",\"EMIM\",\"Chi-Squared\",\"Dice\"]\n",
    "rows = []\n",
    "\n",
    "for metric in metrics:\n",
    "    top_10 = n_most_related(df=inv_index,A='reprodução',\n",
    "                            metric=metric,n=10)\n",
    "    top_10 = list(reversed(top_10))\n",
    "    top_10 = [i[1] for i in top_10]\n",
    "    \n",
    "    rows.append(top_10)\n",
    "    \n",
    "display(Markdown(\"***\"))\n",
    "display(Markdown(\"### Results for 'reprodução'\"))\n",
    "display(HTML(pd.DataFrame(list(zip(*rows)), columns =columns).to_html(index=False)))\n",
    "display(Markdown(\"***\"))"
   ]
  },
  {
   "cell_type": "code",
   "execution_count": 8,
   "metadata": {},
   "outputs": [
    {
     "data": {
      "text/markdown": [
       "***"
      ],
      "text/plain": [
       "<IPython.core.display.Markdown object>"
      ]
     },
     "metadata": {},
     "output_type": "display_data"
    },
    {
     "data": {
      "text/markdown": [
       "### Results for 'real'"
      ],
      "text/plain": [
       "<IPython.core.display.Markdown object>"
      ]
     },
     "metadata": {},
     "output_type": "display_data"
    },
    {
     "data": {
      "text/html": [
       "<table border=\"1\" class=\"dataframe\">\n",
       "  <thead>\n",
       "    <tr style=\"text-align: right;\">\n",
       "      <th>MIM</th>\n",
       "      <th>EMIM</th>\n",
       "      <th>Chi-Squared</th>\n",
       "      <th>Dice</th>\n",
       "    </tr>\n",
       "  </thead>\n",
       "  <tbody>\n",
       "    <tr>\n",
       "      <td>úteis</td>\n",
       "      <td>disso</td>\n",
       "      <td>justamente</td>\n",
       "      <td>significa</td>\n",
       "    </tr>\n",
       "    <tr>\n",
       "      <td>ítalo-americano</td>\n",
       "      <td>vida</td>\n",
       "      <td>significa</td>\n",
       "      <td>justamente</td>\n",
       "    </tr>\n",
       "    <tr>\n",
       "      <td>ítalo-americana</td>\n",
       "      <td>mundo</td>\n",
       "      <td>salto</td>\n",
       "      <td>mostrar</td>\n",
       "    </tr>\n",
       "    <tr>\n",
       "      <td>índole</td>\n",
       "      <td>presidente</td>\n",
       "      <td>estranhas</td>\n",
       "      <td>ficção</td>\n",
       "    </tr>\n",
       "    <tr>\n",
       "      <td>êxito</td>\n",
       "      <td>país</td>\n",
       "      <td>cristão</td>\n",
       "      <td>realidade</td>\n",
       "    </tr>\n",
       "    <tr>\n",
       "      <td>éticas</td>\n",
       "      <td>reais</td>\n",
       "      <td>animação</td>\n",
       "      <td>perder</td>\n",
       "    </tr>\n",
       "    <tr>\n",
       "      <td>ânus</td>\n",
       "      <td>Brasil</td>\n",
       "      <td>Cohen</td>\n",
       "      <td>chama</td>\n",
       "    </tr>\n",
       "    <tr>\n",
       "      <td>ânsias</td>\n",
       "      <td>política</td>\n",
       "      <td>ficção</td>\n",
       "      <td>acreditam</td>\n",
       "    </tr>\n",
       "    <tr>\n",
       "      <td>ávido</td>\n",
       "      <td>disse</td>\n",
       "      <td>disso</td>\n",
       "      <td>efeito</td>\n",
       "    </tr>\n",
       "    <tr>\n",
       "      <td>áspero</td>\n",
       "      <td>época</td>\n",
       "      <td>acreditam</td>\n",
       "      <td>conteúdo</td>\n",
       "    </tr>\n",
       "  </tbody>\n",
       "</table>"
      ],
      "text/plain": [
       "<IPython.core.display.HTML object>"
      ]
     },
     "metadata": {},
     "output_type": "display_data"
    },
    {
     "data": {
      "text/markdown": [
       "***"
      ],
      "text/plain": [
       "<IPython.core.display.Markdown object>"
      ]
     },
     "metadata": {},
     "output_type": "display_data"
    }
   ],
   "source": [
    "metrics = [mim,emim,chi_square,dice_coef]\n",
    "columns=[\"MIM\",\"EMIM\",\"Chi-Squared\",\"Dice\"]\n",
    "rows = []\n",
    "\n",
    "for metric in metrics:\n",
    "    top_10 = n_most_related(df=inv_index,A='real',\n",
    "                            metric=metric,n=10)\n",
    "    top_10 = list(reversed(top_10))\n",
    "    top_10 = [i[1] for i in top_10]\n",
    "    \n",
    "    rows.append(top_10)\n",
    "    \n",
    "display(Markdown(\"***\"))\n",
    "display(Markdown(\"### Results for 'real'\"))\n",
    "display(HTML(pd.DataFrame(list(zip(*rows)), columns =columns).to_html(index=False)))\n",
    "display(Markdown(\"***\"))"
   ]
  },
  {
   "cell_type": "code",
   "execution_count": 9,
   "metadata": {},
   "outputs": [
    {
     "data": {
      "text/markdown": [
       "***"
      ],
      "text/plain": [
       "<IPython.core.display.Markdown object>"
      ]
     },
     "metadata": {},
     "output_type": "display_data"
    },
    {
     "data": {
      "text/markdown": [
       "### Results for 'hostil'"
      ],
      "text/plain": [
       "<IPython.core.display.Markdown object>"
      ]
     },
     "metadata": {},
     "output_type": "display_data"
    },
    {
     "data": {
      "text/html": [
       "<table border=\"1\" class=\"dataframe\">\n",
       "  <thead>\n",
       "    <tr style=\"text-align: right;\">\n",
       "      <th>MIM</th>\n",
       "      <th>EMIM</th>\n",
       "      <th>Chi-Squared</th>\n",
       "      <th>Dice</th>\n",
       "    </tr>\n",
       "  </thead>\n",
       "  <tbody>\n",
       "    <tr>\n",
       "      <td>utensílios</td>\n",
       "      <td>fere</td>\n",
       "      <td>fere</td>\n",
       "      <td>fere</td>\n",
       "    </tr>\n",
       "    <tr>\n",
       "      <td>tornasse</td>\n",
       "      <td>delicado</td>\n",
       "      <td>utensílios</td>\n",
       "      <td>utensílios</td>\n",
       "    </tr>\n",
       "    <tr>\n",
       "      <td>tensionamento</td>\n",
       "      <td>judiciais</td>\n",
       "      <td>tornasse</td>\n",
       "      <td>tornasse</td>\n",
       "    </tr>\n",
       "    <tr>\n",
       "      <td>suspendendo</td>\n",
       "      <td>Escola</td>\n",
       "      <td>tensionamento</td>\n",
       "      <td>tensionamento</td>\n",
       "    </tr>\n",
       "    <tr>\n",
       "      <td>surfar</td>\n",
       "      <td>Chegou</td>\n",
       "      <td>suspendendo</td>\n",
       "      <td>suspendendo</td>\n",
       "    </tr>\n",
       "    <tr>\n",
       "      <td>supermovimentada</td>\n",
       "      <td>defendeu</td>\n",
       "      <td>surfar</td>\n",
       "      <td>surfar</td>\n",
       "    </tr>\n",
       "    <tr>\n",
       "      <td>situação-limite</td>\n",
       "      <td>causas</td>\n",
       "      <td>supermovimentada</td>\n",
       "      <td>supermovimentada</td>\n",
       "    </tr>\n",
       "    <tr>\n",
       "      <td>servidora</td>\n",
       "      <td>posse</td>\n",
       "      <td>situação-limite</td>\n",
       "      <td>situação-limite</td>\n",
       "    </tr>\n",
       "    <tr>\n",
       "      <td>rosas</td>\n",
       "      <td>Militar</td>\n",
       "      <td>servidora</td>\n",
       "      <td>servidora</td>\n",
       "    </tr>\n",
       "    <tr>\n",
       "      <td>ribeirinhas</td>\n",
       "      <td>sente</td>\n",
       "      <td>rosas</td>\n",
       "      <td>rosas</td>\n",
       "    </tr>\n",
       "  </tbody>\n",
       "</table>"
      ],
      "text/plain": [
       "<IPython.core.display.HTML object>"
      ]
     },
     "metadata": {},
     "output_type": "display_data"
    },
    {
     "data": {
      "text/markdown": [
       "***"
      ],
      "text/plain": [
       "<IPython.core.display.Markdown object>"
      ]
     },
     "metadata": {},
     "output_type": "display_data"
    }
   ],
   "source": [
    "metrics = [mim,emim,chi_square,dice_coef]\n",
    "columns=[\"MIM\",\"EMIM\",\"Chi-Squared\",\"Dice\"]\n",
    "rows = []\n",
    "\n",
    "for metric in metrics:\n",
    "    top_10 = n_most_related(df=inv_index,A='hostil',\n",
    "                            metric=metric,n=10)\n",
    "    top_10 = list(reversed(top_10))\n",
    "    top_10 = [i[1] for i in top_10]\n",
    "    \n",
    "    rows.append(top_10)\n",
    "    \n",
    "display(Markdown(\"***\"))\n",
    "display(Markdown(\"### Results for 'hostil'\"))\n",
    "display(HTML(pd.DataFrame(list(zip(*rows)), columns =columns).to_html(index=False)))\n",
    "display(Markdown(\"***\"))"
   ]
  },
  {
   "cell_type": "markdown",
   "metadata": {},
   "source": [
    "### Document At A Time Retrieval"
   ]
  },
  {
   "cell_type": "code",
   "execution_count": 10,
   "metadata": {},
   "outputs": [],
   "source": [
    "def retrieve_by_doc(index, query, k):\n",
    "    try:\n",
    "        import Queue as Q  # ver. < 3.0\n",
    "    except ImportError:\n",
    "        import queue as Q\n",
    "\n",
    "    result = []\n",
    "    q = Q.PriorityQueue()\n",
    "    L = index.loc[lambda df: df.word.isin(query)]\n",
    "\n",
    "    all_docs = set(index[\"doc_id:freq\"].\\\n",
    "                   apply(lambda pairs: list(doc_id for doc_id, freq in pairs)).sum())\n",
    "    \n",
    "    base_documents = L[\"doc_id:freq\"].sum()\n",
    "    \n",
    "    for doc in all_docs:\n",
    "        score = base_documents\n",
    "        \n",
    "        if score == 0:\n",
    "            pass\n",
    "        \n",
    "        elif score == []:\n",
    "            score = 0\n",
    "        else:\n",
    "            score = [fq for d_id, fq in score if d_id == doc]\n",
    "            if score != []:\n",
    "                score = reduce(lambda a,b : a+b,score)\n",
    "            else:\n",
    "                score = 0\n",
    "                \n",
    "        q.put(((-1) * score,doc))\n",
    "    \n",
    "    i = 0\n",
    "    while not q.empty() and i < k:\n",
    "        pair = q.get()\n",
    "        pair = ((-1) *pair[0],pair[1])\n",
    "        if pair[0] > 0:\n",
    "            result.append(pair)\n",
    "        i += 1\n",
    "        \n",
    "    return result"
   ]
  },
  {
   "cell_type": "markdown",
   "metadata": {},
   "source": [
    "### Term At A Time Retrieval"
   ]
  },
  {
   "cell_type": "code",
   "execution_count": 11,
   "metadata": {},
   "outputs": [],
   "source": [
    "def retrieve_by_term(index, query, k):\n",
    "    try:\n",
    "        import Queue as Q  # ver. < 3.0\n",
    "    except ImportError:\n",
    "        import queue as Q\n",
    "\n",
    "    A = {}\n",
    "    result = []\n",
    "    R = Q.PriorityQueue()\n",
    "    q = Q.PriorityQueue()\n",
    "    L = index.loc[lambda df: df.word.isin(query)]\n",
    "    \n",
    "    if not L.empty: \n",
    "        for doc_id, freq in L[\"doc_id:freq\"].sum():\n",
    "            if doc_id not in A:\n",
    "                A[doc_id] = 0\n",
    "\n",
    "            A[doc_id] += freq\n",
    "\n",
    "        for doc_id, score in A.items():\n",
    "            q.put(((-1) * score,doc_id))    \n",
    "\n",
    "        i = 0\n",
    "        while not q.empty() and i < k:\n",
    "            pair = q.get()\n",
    "            pair = ((-1) *pair[0],pair[1])\n",
    "            result.append(pair)\n",
    "            i += 1\n",
    "    \n",
    "    return result"
   ]
  },
  {
   "cell_type": "code",
   "execution_count": null,
   "metadata": {},
   "outputs": [],
   "source": []
  }
 ],
 "metadata": {
  "kernelspec": {
   "display_name": "Python 3",
   "language": "python",
   "name": "python3"
  },
  "language_info": {
   "codemirror_mode": {
    "name": "ipython",
    "version": 3
   },
   "file_extension": ".py",
   "mimetype": "text/x-python",
   "name": "python",
   "nbconvert_exporter": "python",
   "pygments_lexer": "ipython3",
   "version": "3.7.1"
  }
 },
 "nbformat": 4,
 "nbformat_minor": 2
}
