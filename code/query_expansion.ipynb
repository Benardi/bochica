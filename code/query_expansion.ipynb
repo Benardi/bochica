{
 "cells": [
  {
   "cell_type": "code",
   "execution_count": 2,
   "metadata": {},
   "outputs": [
    {
     "data": {
      "text/html": [
       "<script>\n",
       "code_show=true; \n",
       "function code_toggle() {\n",
       " if (code_show){\n",
       " $('div.input').hide();\n",
       " } else {\n",
       " $('div.input').show();\n",
       " }\n",
       " code_show = !code_show\n",
       "} \n",
       "$( document ).ready(code_toggle);\n",
       "</script>\n",
       "<form action=\"javascript:code_toggle()\"><input type=\"submit\" value=\"Click here to toggle on/off the raw code.\"></form>"
      ],
      "text/plain": [
       "<IPython.core.display.HTML object>"
      ]
     },
     "execution_count": 2,
     "metadata": {},
     "output_type": "execute_result"
    }
   ],
   "source": [
    "from IPython.display import HTML\n",
    "\n",
    "HTML('''<script>\n",
    "code_show=true; \n",
    "function code_toggle() {\n",
    " if (code_show){\n",
    " $('div.input').hide();\n",
    " } else {\n",
    " $('div.input').show();\n",
    " }\n",
    " code_show = !code_show\n",
    "} \n",
    "$( document ).ready(code_toggle);\n",
    "</script>\n",
    "<form action=\"javascript:code_toggle()\"><input type=\"submit\" value=\"Click here to toggle on/off the raw code.\"></form>''')"
   ]
  },
  {
   "cell_type": "code",
   "execution_count": 14,
   "metadata": {},
   "outputs": [],
   "source": [
    "from ast import literal_eval\n",
    "from math import log10, log\n",
    "\n",
    "import pandas as pd\n",
    "\n",
    "N = 10e6\n",
    "past_queries = ['criativo','Instagram','reprodução','real','hostil']"
   ]
  },
  {
   "cell_type": "code",
   "execution_count": 3,
   "metadata": {},
   "outputs": [
    {
     "data": {
      "text/html": [
       "<div>\n",
       "<style scoped>\n",
       "    .dataframe tbody tr th:only-of-type {\n",
       "        vertical-align: middle;\n",
       "    }\n",
       "\n",
       "    .dataframe tbody tr th {\n",
       "        vertical-align: top;\n",
       "    }\n",
       "\n",
       "    .dataframe thead th {\n",
       "        text-align: right;\n",
       "    }\n",
       "</style>\n",
       "<table border=\"1\" class=\"dataframe\">\n",
       "  <thead>\n",
       "    <tr style=\"text-align: right;\">\n",
       "      <th></th>\n",
       "      <th>doc_id:freq</th>\n",
       "    </tr>\n",
       "    <tr>\n",
       "      <th>word</th>\n",
       "      <th></th>\n",
       "    </tr>\n",
       "  </thead>\n",
       "  <tbody>\n",
       "    <tr>\n",
       "      <th>juíza</th>\n",
       "      <td>[(0, 2), (1, 1)]</td>\n",
       "    </tr>\n",
       "    <tr>\n",
       "      <th>federal</th>\n",
       "      <td>[(0, 1), (1, 1), (2, 1), (6, 2), (14, 1), (36,...</td>\n",
       "    </tr>\n",
       "    <tr>\n",
       "      <th>Ivani</th>\n",
       "      <td>[(0, 1), (1, 1)]</td>\n",
       "    </tr>\n",
       "    <tr>\n",
       "      <th>Silva</th>\n",
       "      <td>[(0, 3), (1, 1), (5, 1), (13, 2), (25, 1), (72...</td>\n",
       "    </tr>\n",
       "    <tr>\n",
       "      <th>Luz</th>\n",
       "      <td>[(0, 3), (1, 1), (124, 1)]</td>\n",
       "    </tr>\n",
       "    <tr>\n",
       "      <th>Brasília</th>\n",
       "      <td>[(0, 1), (7, 1), (32, 1), (34, 1), (43, 1), (4...</td>\n",
       "    </tr>\n",
       "    <tr>\n",
       "      <th>proibiu</th>\n",
       "      <td>[(0, 1), (1, 1), (118, 1), (161, 1)]</td>\n",
       "    </tr>\n",
       "    <tr>\n",
       "      <th>caráter</th>\n",
       "      <td>[(0, 1), (14, 1), (35, 1), (59, 1), (88, 1), (...</td>\n",
       "    </tr>\n",
       "    <tr>\n",
       "      <th>liminar</th>\n",
       "      <td>[(0, 1), (1, 3), (118, 1), (216, 1)]</td>\n",
       "    </tr>\n",
       "    <tr>\n",
       "      <th>nesta</th>\n",
       "      <td>[(0, 2), (3, 1), (7, 1), (21, 1), (22, 1), (23...</td>\n",
       "    </tr>\n",
       "    <tr>\n",
       "      <th>sexta-feira</th>\n",
       "      <td>[(0, 2), (1, 1), (22, 1), (30, 1), (35, 1), (5...</td>\n",
       "    </tr>\n",
       "    <tr>\n",
       "      <th>Forças</th>\n",
       "      <td>[(0, 3), (5, 3), (11, 1), (24, 4), (41, 1), (6...</td>\n",
       "    </tr>\n",
       "    <tr>\n",
       "      <th>Armadas</th>\n",
       "      <td>[(0, 3), (5, 3), (11, 1), (24, 4), (41, 1), (6...</td>\n",
       "    </tr>\n",
       "    <tr>\n",
       "      <th>comemorarem</th>\n",
       "      <td>[(0, 1), (165, 1), (217, 1)]</td>\n",
       "    </tr>\n",
       "    <tr>\n",
       "      <th>especialmente</th>\n",
       "      <td>[(0, 1), (1, 1), (9, 1), (10, 1), (11, 1), (55...</td>\n",
       "    </tr>\n",
       "    <tr>\n",
       "      <th>uso</th>\n",
       "      <td>[(0, 1), (1, 1), (10, 1), (11, 2), (17, 1), (1...</td>\n",
       "    </tr>\n",
       "    <tr>\n",
       "      <th>dinheiro</th>\n",
       "      <td>[(0, 1), (1, 1), (9, 1), (12, 1), (13, 2), (25...</td>\n",
       "    </tr>\n",
       "    <tr>\n",
       "      <th>público</th>\n",
       "      <td>[(0, 1), (1, 1), (6, 2), (8, 1), (10, 1), (11,...</td>\n",
       "    </tr>\n",
       "    <tr>\n",
       "      <th>55º</th>\n",
       "      <td>[(0, 1), (171, 2), (173, 1)]</td>\n",
       "    </tr>\n",
       "    <tr>\n",
       "      <th>aniversário</th>\n",
       "      <td>[(0, 1), (5, 2), (19, 1), (33, 1), (79, 1), (9...</td>\n",
       "    </tr>\n",
       "  </tbody>\n",
       "</table>\n",
       "</div>"
      ],
      "text/plain": [
       "                                                     doc_id:freq\n",
       "word                                                            \n",
       "juíza                                           [(0, 2), (1, 1)]\n",
       "federal        [(0, 1), (1, 1), (2, 1), (6, 2), (14, 1), (36,...\n",
       "Ivani                                           [(0, 1), (1, 1)]\n",
       "Silva          [(0, 3), (1, 1), (5, 1), (13, 2), (25, 1), (72...\n",
       "Luz                                   [(0, 3), (1, 1), (124, 1)]\n",
       "Brasília       [(0, 1), (7, 1), (32, 1), (34, 1), (43, 1), (4...\n",
       "proibiu                     [(0, 1), (1, 1), (118, 1), (161, 1)]\n",
       "caráter        [(0, 1), (14, 1), (35, 1), (59, 1), (88, 1), (...\n",
       "liminar                     [(0, 1), (1, 3), (118, 1), (216, 1)]\n",
       "nesta          [(0, 2), (3, 1), (7, 1), (21, 1), (22, 1), (23...\n",
       "sexta-feira    [(0, 2), (1, 1), (22, 1), (30, 1), (35, 1), (5...\n",
       "Forças         [(0, 3), (5, 3), (11, 1), (24, 4), (41, 1), (6...\n",
       "Armadas        [(0, 3), (5, 3), (11, 1), (24, 4), (41, 1), (6...\n",
       "comemorarem                         [(0, 1), (165, 1), (217, 1)]\n",
       "especialmente  [(0, 1), (1, 1), (9, 1), (10, 1), (11, 1), (55...\n",
       "uso            [(0, 1), (1, 1), (10, 1), (11, 2), (17, 1), (1...\n",
       "dinheiro       [(0, 1), (1, 1), (9, 1), (12, 1), (13, 2), (25...\n",
       "público        [(0, 1), (1, 1), (6, 2), (8, 1), (10, 1), (11,...\n",
       "55º                                 [(0, 1), (171, 2), (173, 1)]\n",
       "aniversário    [(0, 1), (5, 2), (19, 1), (33, 1), (79, 1), (9..."
      ]
     },
     "execution_count": 3,
     "metadata": {},
     "output_type": "execute_result"
    }
   ],
   "source": [
    "inv_index = pd.read_csv(\"../output/inverted_index.csv\").set_index(['word'])\n",
    "inv_index[\"doc_id:freq\"] = inv_index[\"doc_id:freq\"].apply(lambda x: literal_eval(x))\n",
    "inv_index.head(20)"
   ]
  },
  {
   "cell_type": "code",
   "execution_count": 4,
   "metadata": {},
   "outputs": [],
   "source": [
    "n_a = inv_index.xs('Brasília').values[0]\n",
    "n_b = inv_index.xs('proibiu').values[0]\n",
    "n_ab = [val1 for (val1,val2) in n_a if val1 \\\n",
    "        in (val1 for (val1,val2) in n_b)]\n",
    "n_ab = len(n_ab)\n",
    "n_a = len(n_a)\n",
    "n_b = len(n_b)"
   ]
  },
  {
   "cell_type": "code",
   "execution_count": 15,
   "metadata": {},
   "outputs": [
    {
     "name": "stdout",
     "output_type": "stream",
     "text": [
      "MIM: 0.017857142857142856\n",
      "EMIM: 10.503623945987599\n",
      "Chi-square: 0.035713885715405715\n",
      "Dice: 0.0625\n"
     ]
    }
   ],
   "source": [
    "mim = n_ab/(n_a * n_b)\n",
    "dice = n_ab/(n_a + n_b)\n",
    "emim = n_ab * log10(N * (n_ab / (n_a * n_b)))\n",
    "chi_square = pow((n_ab - (1/N) * n_a * n_b),2) / (n_a * n_b)\n",
    "\n",
    "print(\"MIM: {}\".format(mim))\n",
    "print(\"EMIM: {}\".format(emim))\n",
    "print(\"Chi-square: {}\".format(chi_square))\n",
    "print(\"Dice: {}\".format(dice))"
   ]
  }
 ],
 "metadata": {
  "kernelspec": {
   "display_name": "Python 3",
   "language": "python",
   "name": "python3"
  },
  "language_info": {
   "codemirror_mode": {
    "name": "ipython",
    "version": 3
   },
   "file_extension": ".py",
   "mimetype": "text/x-python",
   "name": "python",
   "nbconvert_exporter": "python",
   "pygments_lexer": "ipython3",
   "version": "3.7.1"
  }
 },
 "nbformat": 4,
 "nbformat_minor": 2
}
