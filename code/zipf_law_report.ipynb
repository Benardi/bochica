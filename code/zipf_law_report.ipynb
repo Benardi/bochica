{
 "cells": [
  {
   "cell_type": "code",
   "execution_count": 137,
   "metadata": {},
   "outputs": [],
   "source": [
    "from functools import reduce\n",
    "import re\n",
    "\n",
    "import pandas as pd\n",
    "#import nltk\n",
    "#nltk.download('punkt')\n",
    "#nltk.download('stopwords')\n",
    "from nltk.corpus import stopwords\n",
    "from nltk import FreqDist, word_tokenize, stem\n",
    "from IPython.display import Markdown, display"
   ]
  },
  {
   "cell_type": "code",
   "execution_count": 2,
   "metadata": {},
   "outputs": [],
   "source": [
    "default_stopwords = set(stopwords.words('portuguese'))"
   ]
  },
  {
   "cell_type": "code",
   "execution_count": 3,
   "metadata": {},
   "outputs": [
    {
     "data": {
      "text/html": [
       "<div>\n",
       "<style scoped>\n",
       "    .dataframe tbody tr th:only-of-type {\n",
       "        vertical-align: middle;\n",
       "    }\n",
       "\n",
       "    .dataframe tbody tr th {\n",
       "        vertical-align: top;\n",
       "    }\n",
       "\n",
       "    .dataframe thead th {\n",
       "        text-align: right;\n",
       "    }\n",
       "</style>\n",
       "<table border=\"1\" class=\"dataframe\">\n",
       "  <thead>\n",
       "    <tr style=\"text-align: right;\">\n",
       "      <th></th>\n",
       "      <th>title</th>\n",
       "      <th>subtitle</th>\n",
       "      <th>author</th>\n",
       "      <th>date</th>\n",
       "      <th>section</th>\n",
       "      <th>text</th>\n",
       "      <th>url</th>\n",
       "    </tr>\n",
       "  </thead>\n",
       "  <tbody>\n",
       "    <tr>\n",
       "      <th>0</th>\n",
       "      <td>“A sociedade foi Rubens Paiva  não os facínora...</td>\n",
       "      <td>A decisão da juíza que proíbe as Forças Armada...</td>\n",
       "      <td>F. M.</td>\n",
       "      <td>30/03/2019 00:11:08</td>\n",
       "      <td>Brasil</td>\n",
       "      <td>A juíza federal Ivani Silva da Luz  de Brasíli...</td>\n",
       "      <td>https://brasil.elpais.com/brasil/2019/03/26/po...</td>\n",
       "    </tr>\n",
       "    <tr>\n",
       "      <th>1</th>\n",
       "      <td>Justiça suspende decisão que proibia Forças Ar...</td>\n",
       "      <td>Liminar havia sido concedida na sexta-feira a ...</td>\n",
       "      <td>Marina Rossi</td>\n",
       "      <td>30/03/2019 16:17:59</td>\n",
       "      <td>Brasil</td>\n",
       "      <td>Menos de 24 horas depois de a juíza federal Iv...</td>\n",
       "      <td>https://brasil.elpais.com/brasil/2019/03/30/po...</td>\n",
       "    </tr>\n",
       "    <tr>\n",
       "      <th>2</th>\n",
       "      <td>Governo Bolsonaro prega “negacionismo históric...</td>\n",
       "      <td>Marcos Napolitano  professor da USP  diz que o...</td>\n",
       "      <td>Regiane Oliveira</td>\n",
       "      <td>04/04/2019 22:37:48</td>\n",
       "      <td>Brasil</td>\n",
       "      <td>Quando  determinou que  de 31 de março 1964  u...</td>\n",
       "      <td>https://brasil.elpais.com/brasil/2019/04/05/po...</td>\n",
       "    </tr>\n",
       "    <tr>\n",
       "      <th>3</th>\n",
       "      <td>Quando os pais de Gabo perceberam que tinham u...</td>\n",
       "      <td>Gustavo Tatis percorre o universo de García Má...</td>\n",
       "      <td>Jesús Ruiz Mantilla</td>\n",
       "      <td>07/03/2019 16:38:56</td>\n",
       "      <td>Cultura</td>\n",
       "      <td>Quando  era pequeno   Luisa e  Gabriel se preo...</td>\n",
       "      <td>https://brasil.elpais.com/brasil/2019/03/06/cu...</td>\n",
       "    </tr>\n",
       "    <tr>\n",
       "      <th>4</th>\n",
       "      <td>Rádios canadenses banem músicas de Michael Jac...</td>\n",
       "      <td>Quebec Cogeco Media toma a decisão após queixa...</td>\n",
       "      <td>Jaime Porras Ferreyra</td>\n",
       "      <td>07/03/2019 16:12:37</td>\n",
       "      <td>Cultura</td>\n",
       "      <td>Desde a manhã da última segunda-feira     e   ...</td>\n",
       "      <td>https://brasil.elpais.com/brasil/2019/03/06/cu...</td>\n",
       "    </tr>\n",
       "  </tbody>\n",
       "</table>\n",
       "</div>"
      ],
      "text/plain": [
       "                                               title  \\\n",
       "0  “A sociedade foi Rubens Paiva  não os facínora...   \n",
       "1  Justiça suspende decisão que proibia Forças Ar...   \n",
       "2  Governo Bolsonaro prega “negacionismo históric...   \n",
       "3  Quando os pais de Gabo perceberam que tinham u...   \n",
       "4  Rádios canadenses banem músicas de Michael Jac...   \n",
       "\n",
       "                                            subtitle                 author  \\\n",
       "0  A decisão da juíza que proíbe as Forças Armada...                  F. M.   \n",
       "1  Liminar havia sido concedida na sexta-feira a ...           Marina Rossi   \n",
       "2  Marcos Napolitano  professor da USP  diz que o...       Regiane Oliveira   \n",
       "3  Gustavo Tatis percorre o universo de García Má...    Jesús Ruiz Mantilla   \n",
       "4  Quebec Cogeco Media toma a decisão após queixa...  Jaime Porras Ferreyra   \n",
       "\n",
       "                  date  section  \\\n",
       "0  30/03/2019 00:11:08   Brasil   \n",
       "1  30/03/2019 16:17:59   Brasil   \n",
       "2  04/04/2019 22:37:48   Brasil   \n",
       "3  07/03/2019 16:38:56  Cultura   \n",
       "4  07/03/2019 16:12:37  Cultura   \n",
       "\n",
       "                                                text  \\\n",
       "0  A juíza federal Ivani Silva da Luz  de Brasíli...   \n",
       "1  Menos de 24 horas depois de a juíza federal Iv...   \n",
       "2  Quando  determinou que  de 31 de março 1964  u...   \n",
       "3  Quando  era pequeno   Luisa e  Gabriel se preo...   \n",
       "4  Desde a manhã da última segunda-feira     e   ...   \n",
       "\n",
       "                                                 url  \n",
       "0  https://brasil.elpais.com/brasil/2019/03/26/po...  \n",
       "1  https://brasil.elpais.com/brasil/2019/03/30/po...  \n",
       "2  https://brasil.elpais.com/brasil/2019/04/05/po...  \n",
       "3  https://brasil.elpais.com/brasil/2019/03/06/cu...  \n",
       "4  https://brasil.elpais.com/brasil/2019/03/06/cu...  "
      ]
     },
     "execution_count": 3,
     "metadata": {},
     "output_type": "execute_result"
    }
   ],
   "source": [
    "data = pd.read_csv(\"../output/results.csv\")\n",
    "data.head()"
   ]
  },
  {
   "cell_type": "code",
   "execution_count": 14,
   "metadata": {},
   "outputs": [],
   "source": [
    "# Aggregate all documents together\n",
    "corpus = data[\"text\"].apply(lambda x: word_tokenize(x)).sum()\n",
    "\n",
    "# Remove single-character tokens (mostly punctuation)\n",
    "words = [word for word in corpus if len(word) > 1]\n",
    "\n",
    "# Remove words that don't have at least one alphabetical character \n",
    "words = [word for word in words if any(c.isalpha() for c in word)]\n",
    "\n",
    "# Lowercase all words (default_stopwords are lowercase too)\n",
    "words = [word.lower() for word in words]\n"
   ]
  },
  {
   "cell_type": "code",
   "execution_count": 6,
   "metadata": {},
   "outputs": [],
   "source": [
    "stemmer = stem.snowball.SnowballStemmer('portuguese')\n",
    "\n",
    "words = [stemmer.stem(word) for word in words]"
   ]
  },
  {
   "cell_type": "code",
   "execution_count": 27,
   "metadata": {},
   "outputs": [
    {
     "name": "stdout",
     "output_type": "stream",
     "text": [
      "de; 10194\n",
      "que; 6549\n",
      "do; 3463\n",
      "em; 3312\n",
      "da; 3010\n",
      "um; 2676\n",
      "para; 2301\n",
      "uma; 2201\n",
      "com; 2171\n",
      "não; 2023\n",
      "os; 1919\n",
      "se; 1801\n",
      "no; 1743\n",
      "na; 1659\n",
      "as; 1414\n",
      "por; 1336\n",
      "como; 1310\n",
      "mais; 1199\n",
      "dos; 1061\n",
      "ao; 951\n"
     ]
    }
   ],
   "source": [
    "fdist = FreqDist(words)\n",
    "\n",
    "for word, frequency in fdist.most_common(20):       \n",
    "    print(u'{}; {}'.format(word, frequency))"
   ]
  },
  {
   "cell_type": "code",
   "execution_count": 277,
   "metadata": {},
   "outputs": [
    {
     "name": "stdout",
     "output_type": "stream",
     "text": [
      "#1000: 19\n",
      "#1: 13248\n"
     ]
    }
   ],
   "source": [
    "# number of words with at least 1000 occurrences\n",
    "nw_1000 = 0\n",
    "\n",
    "# number of words with exactly 1 occurrence\n",
    "nw_1 = 0\n",
    "\n",
    "for word, frequency in fdist.items():\n",
    "    if frequency > 1000:\n",
    "        nw_1000 += 1\n",
    "    if frequency == 1:\n",
    "        nw_1 += 1\n",
    "        \n",
    "print(\"#1000: {}\".format(nw_1000))\n",
    "print(\"#1: {}\".format(nw_1))"
   ]
  },
  {
   "cell_type": "code",
   "execution_count": 279,
   "metadata": {},
   "outputs": [],
   "source": [
    "# number of words with more than 1000 occurrences\n",
    "nw_1000 = len(list(filter(lambda x: x > 1000,fdist.values())))\n",
    "\n",
    "# number of words with exactly 1 occurrence\n",
    "nw_1 = len(list(filter(lambda x: x== 1, fdist.values())))"
   ]
  },
  {
   "cell_type": "code",
   "execution_count": 287,
   "metadata": {},
   "outputs": [
    {
     "data": {
      "text/markdown": [
       "***"
      ],
      "text/plain": [
       "<IPython.core.display.Markdown object>"
      ]
     },
     "metadata": {},
     "output_type": "display_data"
    },
    {
     "data": {
      "text/markdown": [
       "### Statistics for the *el país* collection"
      ],
      "text/plain": [
       "<IPython.core.display.Markdown object>"
      ]
     },
     "metadata": {},
     "output_type": "display_data"
    },
    {
     "name": "stdout",
     "output_type": "stream",
     "text": [
      "Total documents:              249\n",
      "Total word occurrences:       188211\n",
      "Vocabulary size:              24685\n",
      "Words occurring > 1000 times: 19\n",
      "Words occurring once:         13248\n"
     ]
    },
    {
     "data": {
      "text/markdown": [
       "***"
      ],
      "text/plain": [
       "<IPython.core.display.Markdown object>"
      ]
     },
     "metadata": {},
     "output_type": "display_data"
    }
   ],
   "source": [
    "display(Markdown(\"***\"))\n",
    "display(Markdown(\"### Statistics for the *el país* collection\"))\n",
    "print(\"Total documents:              {}\".format(data.shape[0]))\n",
    "print(\"Total word occurrences:       {}\".format(len(words)))\n",
    "print(\"Vocabulary size:              {}\".format(len(set(words))))\n",
    "print(\"Words occurring > 1000 times: {}\".format(nw_1000))\n",
    "print(\"Words occurring once:         {}\".format(nw_1))\n",
    "display(Markdown(\"***\"))"
   ]
  }
 ],
 "metadata": {
  "kernelspec": {
   "display_name": "Python 3",
   "language": "python",
   "name": "python3"
  },
  "language_info": {
   "codemirror_mode": {
    "name": "ipython",
    "version": 3
   },
   "file_extension": ".py",
   "mimetype": "text/x-python",
   "name": "python",
   "nbconvert_exporter": "python",
   "pygments_lexer": "ipython3",
   "version": "3.7.1"
  }
 },
 "nbformat": 4,
 "nbformat_minor": 2
}
