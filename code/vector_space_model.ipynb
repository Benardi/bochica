{
 "cells": [
  {
   "cell_type": "code",
   "execution_count": 1,
   "metadata": {},
   "outputs": [
    {
     "data": {
      "text/html": [
       "<script>\n",
       "code_show=true; \n",
       "function code_toggle() {\n",
       " if (code_show){\n",
       " $('div.input').hide();\n",
       " } else {\n",
       " $('div.input').show();\n",
       " }\n",
       " code_show = !code_show\n",
       "} \n",
       "$( document ).ready(code_toggle);\n",
       "</script>\n",
       "<form action=\"javascript:code_toggle()\"><input type=\"submit\" value=\"Click here to toggle on/off the raw code.\"></form>"
      ],
      "text/plain": [
       "<IPython.core.display.HTML object>"
      ]
     },
     "execution_count": 1,
     "metadata": {},
     "output_type": "execute_result"
    }
   ],
   "source": [
    "from IPython.display import HTML\n",
    "\n",
    "HTML('''<script>\n",
    "code_show=true; \n",
    "function code_toggle() {\n",
    " if (code_show){\n",
    " $('div.input').hide();\n",
    " } else {\n",
    " $('div.input').show();\n",
    " }\n",
    " code_show = !code_show\n",
    "} \n",
    "$( document ).ready(code_toggle);\n",
    "</script>\n",
    "<form action=\"javascript:code_toggle()\"><input type=\"submit\" value=\"Click here to toggle on/off the raw code.\"></form>''')"
   ]
  },
  {
   "cell_type": "markdown",
   "metadata": {},
   "source": [
    "# Vector space model"
   ]
  },
  {
   "cell_type": "markdown",
   "metadata": {},
   "source": [
    "<br>\n",
    "\n",
    "In this report we'll code and compare different vector space model implementations (binary, tf, tf-idf and bm25). Employed data and auxiliary scripts can be found at the report's [original repository](https://github.com/Benardi/bochica).\n",
    "\n",
    "<br>"
   ]
  },
  {
   "cell_type": "code",
   "execution_count": 2,
   "metadata": {},
   "outputs": [],
   "source": [
    "from ast import literal_eval\n",
    "from math import log\n",
    "\n",
    "from IPython.display import Markdown, display, HTML\n",
    "import pandas as pd"
   ]
  },
  {
   "cell_type": "markdown",
   "metadata": {},
   "source": [
    "## Load Data"
   ]
  },
  {
   "cell_type": "code",
   "execution_count": 3,
   "metadata": {},
   "outputs": [
    {
     "data": {
      "text/markdown": [
       "## Inverted Index"
      ],
      "text/plain": [
       "<IPython.core.display.Markdown object>"
      ]
     },
     "metadata": {},
     "output_type": "display_data"
    },
    {
     "data": {
      "text/html": [
       "<table border=\"1\" class=\"dataframe\">\n",
       "  <thead>\n",
       "    <tr style=\"text-align: right;\">\n",
       "      <th></th>\n",
       "      <th>doc_id:freq</th>\n",
       "    </tr>\n",
       "    <tr>\n",
       "      <th>word</th>\n",
       "      <th></th>\n",
       "    </tr>\n",
       "  </thead>\n",
       "  <tbody>\n",
       "    <tr>\n",
       "      <th>juíza</th>\n",
       "      <td>[(0, 2), (1, 1)]</td>\n",
       "    </tr>\n",
       "    <tr>\n",
       "      <th>federal</th>\n",
       "      <td>[(0, 1), (1, 1), (2, 1), (6, 2), (14, 1), (36,...</td>\n",
       "    </tr>\n",
       "    <tr>\n",
       "      <th>Ivani</th>\n",
       "      <td>[(0, 1), (1, 1)]</td>\n",
       "    </tr>\n",
       "    <tr>\n",
       "      <th>Silva</th>\n",
       "      <td>[(0, 3), (1, 1), (5, 1), (13, 2), (25, 1), (72...</td>\n",
       "    </tr>\n",
       "    <tr>\n",
       "      <th>Luz</th>\n",
       "      <td>[(0, 3), (1, 1), (124, 1)]</td>\n",
       "    </tr>\n",
       "  </tbody>\n",
       "</table>"
      ],
      "text/plain": [
       "<IPython.core.display.HTML object>"
      ]
     },
     "metadata": {},
     "output_type": "display_data"
    }
   ],
   "source": [
    "inv_index = pd.read_csv(\"../output/inverted_index.csv\").set_index(['word'])\\\n",
    "            .drop('vivoÉ').drop('ônibusFoi') #remove nltk tokenization mistake\n",
    "inv_index[\"doc_id:freq\"] = inv_index[\"doc_id:freq\"].apply(lambda x: literal_eval(x))\n",
    "\n",
    "display(Markdown(\"## Inverted Index\"))\n",
    "display(HTML(inv_index.head(5).to_html()))"
   ]
  },
  {
   "cell_type": "markdown",
   "metadata": {},
   "source": [
    "## Adding Inverse Document Frequency  (IDF)"
   ]
  },
  {
   "cell_type": "code",
   "execution_count": 4,
   "metadata": {},
   "outputs": [
    {
     "data": {
      "text/markdown": [
       "* Let's employ the number  of documents in this particular                   collection (N=249) in our calculations"
      ],
      "text/plain": [
       "<IPython.core.display.Markdown object>"
      ]
     },
     "metadata": {},
     "output_type": "display_data"
    }
   ],
   "source": [
    "# number of documents in the collection\n",
    "n_docs = inv_index[\"doc_id:freq\"].apply(lambda x: list(i[0] for i in x)).sum()\n",
    "n_docs = len(set(n_docs))\n",
    "display(Markdown(\"* Let's employ the number  of documents in this particular \\\n",
    "                  collection (N={}) in our calculations\".format(n_docs)))"
   ]
  },
  {
   "cell_type": "code",
   "execution_count": 5,
   "metadata": {},
   "outputs": [
    {
     "data": {
      "text/html": [
       "<div>\n",
       "<style scoped>\n",
       "    .dataframe tbody tr th:only-of-type {\n",
       "        vertical-align: middle;\n",
       "    }\n",
       "\n",
       "    .dataframe tbody tr th {\n",
       "        vertical-align: top;\n",
       "    }\n",
       "\n",
       "    .dataframe thead th {\n",
       "        text-align: right;\n",
       "    }\n",
       "</style>\n",
       "<table border=\"1\" class=\"dataframe\">\n",
       "  <thead>\n",
       "    <tr style=\"text-align: right;\">\n",
       "      <th></th>\n",
       "      <th>doc_id:freq</th>\n",
       "      <th>IDF</th>\n",
       "    </tr>\n",
       "    <tr>\n",
       "      <th>word</th>\n",
       "      <th></th>\n",
       "      <th></th>\n",
       "    </tr>\n",
       "  </thead>\n",
       "  <tbody>\n",
       "    <tr>\n",
       "      <th>babaca</th>\n",
       "      <td>[(215, 1)]</td>\n",
       "      <td>5.521461</td>\n",
       "    </tr>\n",
       "    <tr>\n",
       "      <th>discutirmos</th>\n",
       "      <td>[(28, 1)]</td>\n",
       "      <td>5.521461</td>\n",
       "    </tr>\n",
       "    <tr>\n",
       "      <th>disputas</th>\n",
       "      <td>[(22, 1), (23, 1), (118, 1), (151, 1)]</td>\n",
       "      <td>4.135167</td>\n",
       "    </tr>\n",
       "    <tr>\n",
       "      <th>Mostra</th>\n",
       "      <td>[(172, 1), (240, 1)]</td>\n",
       "      <td>4.828314</td>\n",
       "    </tr>\n",
       "    <tr>\n",
       "      <th>enganar</th>\n",
       "      <td>[(128, 2), (231, 1)]</td>\n",
       "      <td>4.828314</td>\n",
       "    </tr>\n",
       "  </tbody>\n",
       "</table>\n",
       "</div>"
      ],
      "text/plain": [
       "                                        doc_id:freq       IDF\n",
       "word                                                         \n",
       "babaca                                   [(215, 1)]  5.521461\n",
       "discutirmos                               [(28, 1)]  5.521461\n",
       "disputas     [(22, 1), (23, 1), (118, 1), (151, 1)]  4.135167\n",
       "Mostra                         [(172, 1), (240, 1)]  4.828314\n",
       "enganar                        [(128, 2), (231, 1)]  4.828314"
      ]
     },
     "execution_count": 5,
     "metadata": {},
     "output_type": "execute_result"
    }
   ],
   "source": [
    "inv_index[\"IDF\"] = inv_index[\"doc_id:freq\"].apply(lambda x: log((n_docs + 1)/len(x)))\n",
    "inv_index.sample(5)"
   ]
  },
  {
   "cell_type": "markdown",
   "metadata": {},
   "source": [
    "<br>\n",
    "\n",
    "***\n",
    "\n",
    "<br>\n",
    "\n",
    "## Strategies Implementation"
   ]
  },
  {
   "cell_type": "markdown",
   "metadata": {},
   "source": [
    "### Binary Vector Space Model"
   ]
  },
  {
   "cell_type": "code",
   "execution_count": 6,
   "metadata": {},
   "outputs": [],
   "source": [
    "def binary_vsm(**kwargs):\n",
    "    \"\"\"Applies the binary vsm to a query and document\n",
    "\n",
    "    Applies the 'binary vector space model' to a query \n",
    "    and document, calculating a score.\n",
    "\n",
    "    :param pandas.core.frame.DataFrame index: inverted index.\n",
    "    :param list(str) query: list of terms that form a query.\n",
    "    :param int doc_id: id of the document.\n",
    "    \n",
    "    :return: relevance score, how relevant the document is \n",
    "             for that query\n",
    "\n",
    "    :rtype: number\n",
    "    \"\"\"\n",
    "    \n",
    "    index = kwargs[\"index\"]\n",
    "    query = kwargs[\"query\"]\n",
    "    doc_id = kwargs[\"doc_id\"]\n",
    "\n",
    "    result = inv_index.loc[set(query)][\"doc_id:freq\"]\n",
    "    result = result.apply(lambda x: 0 if not list(w for w in x if w[0] == doc_id) else 1)\n",
    "    result = result.sum()\n",
    "    \n",
    "    return result"
   ]
  },
  {
   "cell_type": "markdown",
   "metadata": {},
   "source": [
    "### TF Vector Space Model"
   ]
  },
  {
   "cell_type": "code",
   "execution_count": 7,
   "metadata": {},
   "outputs": [],
   "source": [
    "def tf_vsm(**kwargs):\n",
    "    \"\"\"Applies the tf vsm to a query and document\n",
    "\n",
    "    Applies the 'term frequency vector space model' to a query \n",
    "    and document, calculating a score.\n",
    "\n",
    "    :param pandas.core.frame.DataFrame index: inverted index.\n",
    "    :param list(str) query: list of terms that form a query.\n",
    "    :param int doc_id: id of the document.\n",
    "    \n",
    "    :return: relevance score, how relevant the document is \n",
    "             for that query\n",
    "\n",
    "    :rtype: number\n",
    "    \"\"\"\n",
    "    \n",
    "    index = kwargs[\"index\"]\n",
    "    query = kwargs[\"query\"]\n",
    "    doc_id = kwargs[\"doc_id\"]\n",
    "    \n",
    "    # Calculate frequency in query\n",
    "    query_fd = {}\n",
    "    for term in query:\n",
    "        if term not in query_fd:\n",
    "            query_fd[term] = 0\n",
    "\n",
    "        query_fd[term] += 1\n",
    "\n",
    "    \n",
    "    # Get document frequency from inverted index\n",
    "    term_f_in_doc = index.loc[set(query)][\"doc_id:freq\"]\\\n",
    "                      .apply(lambda x: list(w for w in x if w[0] == doc_id))\\\n",
    "                      .apply(lambda x: x[0][1] if not (len(x) == 0) else 0) # Extract freq \n",
    "\n",
    "    # Combine doc freq and query frequency to make score\n",
    "    score = 0\n",
    "    for term, freq in query_fd.items():\n",
    "        query_score = freq \n",
    "        doc_score = term_f_in_doc.xs(term)\n",
    "        score += query_score * doc_score\n",
    "\n",
    "    return score"
   ]
  },
  {
   "cell_type": "markdown",
   "metadata": {},
   "source": [
    "### TF-IDF"
   ]
  },
  {
   "cell_type": "code",
   "execution_count": 8,
   "metadata": {},
   "outputs": [],
   "source": [
    "def tf_idf_vsm(**kwargs):\n",
    "    \"\"\"Applies the tf-idf vsm to a query and document\n",
    "\n",
    "    Applies the 'term frequency vector inverse document frequency\n",
    "    space model' to a query and document, calculating a score.\n",
    "\n",
    "    :param pandas.core.frame.DataFrame index: inverted index.\n",
    "    :param list(str) query: list of terms that form a query.\n",
    "    :param int doc_id: id of the document.\n",
    "    \n",
    "    :return: relevance score, how relevant the document is \n",
    "             for that query\n",
    "\n",
    "    :rtype: number\n",
    "    \"\"\"    \n",
    "    \n",
    "    index = kwargs[\"index\"]\n",
    "    query = kwargs[\"query\"]\n",
    "    doc_id = kwargs[\"doc_id\"]\n",
    "    \n",
    "    # Calculate frequency in query\n",
    "    query_fd = {}\n",
    "    for term in query:\n",
    "        if term not in query_fd:\n",
    "            query_fd[term] = 0\n",
    "\n",
    "        query_fd[term] += 1\n",
    "\n",
    "    # Get document frequency from inverted index\n",
    "    term_f_in_doc = index.loc[set(query)]\n",
    "    term_f_in_doc[\"doc_id:freq\"] = term_f_in_doc[\"doc_id:freq\"].\\\n",
    "                                   apply(lambda x: list(w for w in x if w[0] == doc_id))\n",
    "    term_f_in_doc[\"doc_id:freq\"] = term_f_in_doc[\"doc_id:freq\"].\\\n",
    "                                   apply(lambda x: x[0][1] if not (len(x) == 0) else 0)\n",
    "\n",
    "    # Combine doc freq and query frequency to make score\n",
    "    score = 0\n",
    "    for term, freq in query_fd.items():\n",
    "        query_score = freq \n",
    "        doc_score = term_f_in_doc.xs(term)['doc_id:freq']\n",
    "        idf_score = term_f_in_doc.xs(term)['IDF']\n",
    "        score += query_score * doc_score * idf_score\n",
    "        \n",
    "    return score"
   ]
  },
  {
   "cell_type": "markdown",
   "metadata": {},
   "source": [
    "### BM25 Vector Space Model"
   ]
  },
  {
   "cell_type": "code",
   "execution_count": 9,
   "metadata": {},
   "outputs": [],
   "source": [
    "def bm25_vsm(**kwargs):\n",
    "    \"\"\"Applies the bm25 vsm to a query and document\n",
    "\n",
    "    Applies the 'Best Matching 25 space model' to a query \n",
    "    and document, calculating a score.\n",
    "\n",
    "    :param pandas.core.frame.DataFrame index: inverted index.\n",
    "    :param list(str) query: list of terms that form a query.\n",
    "    :param int doc_id: id of the document.\n",
    "    :param int k: term frequency saturation factor\n",
    "    \n",
    "    :return: relevance score, how relevant the document is \n",
    "             for that query\n",
    "\n",
    "    :rtype: number\n",
    "    \"\"\"    \n",
    "    \n",
    "    index = kwargs[\"index\"]\n",
    "    query = kwargs[\"query\"]\n",
    "    doc_id = kwargs[\"doc_id\"]\n",
    "    k = kwargs[\"k\"]\n",
    "    \n",
    "    # Calculate frequency in query\n",
    "    query_fd = {}\n",
    "    for term in query:\n",
    "        if term not in query_fd:\n",
    "            query_fd[term] = 0\n",
    "\n",
    "        query_fd[term] += 1\n",
    "\n",
    "    # Get document frequency from inverted index\n",
    "    term_f_in_doc = index.reset_index().set_index('word').loc[set(query)]\n",
    "    term_f_in_doc[\"doc_id:freq\"] = term_f_in_doc[\"doc_id:freq\"].\\\n",
    "                                   apply(lambda x: list(w for w in x if w[0] == doc_id))\n",
    "    term_f_in_doc[\"doc_id:freq\"] = term_f_in_doc[\"doc_id:freq\"].\\\n",
    "                                   apply(lambda x: x[0][1] if not (len(x) == 0) else 0)\n",
    "\n",
    "    # Combine doc freq and query frequency to make score\n",
    "    score = 0\n",
    "    for term, freq in query_fd.items():\n",
    "        query_score = freq \n",
    "        doc_count = term_f_in_doc.xs(term)['doc_id:freq']\n",
    "        doc_score = 0 if doc_count == 0 else (doc_count * (k + 1)) / (doc_count + k)\n",
    "        idf_score = term_f_in_doc.xs(term)['IDF']\n",
    "        score += query_score * doc_score * idf_score\n",
    "\n",
    "    return score"
   ]
  },
  {
   "cell_type": "markdown",
   "metadata": {},
   "source": [
    "### Strategy Wrapper"
   ]
  },
  {
   "cell_type": "code",
   "execution_count": 10,
   "metadata": {},
   "outputs": [],
   "source": [
    "from bisect import insort_left\n",
    "\n",
    "\n",
    "def get_n_best_docs(**kwargs):\n",
    "    \"\"\"Retrieves n most relevant docs according to a strategy\n",
    "\n",
    "    Retrieves the n most relevant documents in a given collection\n",
    "    according to a given strategy.\n",
    "\n",
    "    :param pandas.core.frame.DataFrame index: inverted index.\n",
    "    :param list(str) query: list of terms that form a query.\n",
    "    :param list(int) docs: All documents to be evaluated \n",
    "                           (extracted from index if not specified).\n",
    "    :param function strategy: vsm strategy (its params must be \n",
    "                              supplied as well)\n",
    "    \n",
    "    :return: list of document ids by rank in decrescent order\n",
    "\n",
    "    :rtype: list((number,number))\n",
    "    \"\"\"   \n",
    "\n",
    "    n = kwargs.pop(\"n\")\n",
    "    strategy = kwargs.pop(\"strategy\")\n",
    "    \n",
    "    if \"docs\" in kwargs:\n",
    "        docs = kwargs.pop(\"docs\")\n",
    "    else:        \n",
    "        docs = index[\"doc_id:freq\"].apply(lambda x: list(w[0] for w in x)).sum()\n",
    "        docs = list(set(docs))\n",
    "        \n",
    "    rank = []\n",
    "    for doc in docs:\n",
    "        score = strategy(doc_id=doc,**kwargs)\n",
    "        insort_left(rank, (score,doc))\n",
    "        rank = rank[-n:]\n",
    "\n",
    "    return rank"
   ]
  },
  {
   "cell_type": "markdown",
   "metadata": {},
   "source": [
    "<br>\n",
    "\n",
    "***\n",
    "\n",
    "<br>\n",
    "\n",
    "## Strategy Comparison"
   ]
  },
  {
   "cell_type": "markdown",
   "metadata": {},
   "source": [
    "We'll use the inverted index's source data to retrieve the text, title and url of the documents. \n",
    "\n",
    "These will be inspected to understand the results we arrive to."
   ]
  },
  {
   "cell_type": "code",
   "execution_count": 11,
   "metadata": {},
   "outputs": [
    {
     "data": {
      "text/markdown": [
       "##### Inverted Index's source data"
      ],
      "text/plain": [
       "<IPython.core.display.Markdown object>"
      ]
     },
     "metadata": {},
     "output_type": "display_data"
    },
    {
     "data": {
      "text/plain": [
       "0    “A sociedade foi Rubens Paiva  não os facínora...\n",
       "1    Justiça suspende decisão que proibia Forças Ar...\n",
       "2    Governo Bolsonaro prega “negacionismo históric...\n",
       "3    Quando os pais de Gabo perceberam que tinham u...\n",
       "4    Rádios canadenses banem músicas de Michael Jac...\n",
       "Name: title, dtype: object"
      ]
     },
     "execution_count": 11,
     "metadata": {},
     "output_type": "execute_result"
    }
   ],
   "source": [
    "source = pd.read_csv(\"../output/results.csv\")\n",
    "display(Markdown(\"##### Inverted Index's source data\"))\n",
    "source[\"title\"].head()"
   ]
  },
  {
   "cell_type": "markdown",
   "metadata": {},
   "source": [
    "Let's gather the id of all documents to supply the algorithms:"
   ]
  },
  {
   "cell_type": "code",
   "execution_count": 12,
   "metadata": {},
   "outputs": [
    {
     "data": {
      "text/html": [
       "<div>\n",
       "<style scoped>\n",
       "    .dataframe tbody tr th:only-of-type {\n",
       "        vertical-align: middle;\n",
       "    }\n",
       "\n",
       "    .dataframe tbody tr th {\n",
       "        vertical-align: top;\n",
       "    }\n",
       "\n",
       "    .dataframe thead th {\n",
       "        text-align: right;\n",
       "    }\n",
       "</style>\n",
       "<table border=\"1\" class=\"dataframe\">\n",
       "  <thead>\n",
       "    <tr style=\"text-align: right;\">\n",
       "      <th></th>\n",
       "      <th>docs</th>\n",
       "    </tr>\n",
       "  </thead>\n",
       "  <tbody>\n",
       "    <tr>\n",
       "      <th>count</th>\n",
       "      <td>249.000000</td>\n",
       "    </tr>\n",
       "    <tr>\n",
       "      <th>mean</th>\n",
       "      <td>124.000000</td>\n",
       "    </tr>\n",
       "    <tr>\n",
       "      <th>std</th>\n",
       "      <td>72.024301</td>\n",
       "    </tr>\n",
       "    <tr>\n",
       "      <th>min</th>\n",
       "      <td>0.000000</td>\n",
       "    </tr>\n",
       "    <tr>\n",
       "      <th>25%</th>\n",
       "      <td>62.000000</td>\n",
       "    </tr>\n",
       "    <tr>\n",
       "      <th>50%</th>\n",
       "      <td>124.000000</td>\n",
       "    </tr>\n",
       "    <tr>\n",
       "      <th>75%</th>\n",
       "      <td>186.000000</td>\n",
       "    </tr>\n",
       "    <tr>\n",
       "      <th>max</th>\n",
       "      <td>248.000000</td>\n",
       "    </tr>\n",
       "  </tbody>\n",
       "</table>\n",
       "</div>"
      ],
      "text/plain": [
       "             docs\n",
       "count  249.000000\n",
       "mean   124.000000\n",
       "std     72.024301\n",
       "min      0.000000\n",
       "25%     62.000000\n",
       "50%    124.000000\n",
       "75%    186.000000\n",
       "max    248.000000"
      ]
     },
     "execution_count": 12,
     "metadata": {},
     "output_type": "execute_result"
    }
   ],
   "source": [
    "all_docs = inv_index[\"doc_id:freq\"].apply(lambda x: list(w[0] for w in x)).sum()\n",
    "all_docs = list(set(all_docs))\n",
    "pd.DataFrame(all_docs, columns=[\"docs\"]).describe()"
   ]
  },
  {
   "cell_type": "code",
   "execution_count": 13,
   "metadata": {},
   "outputs": [
    {
     "data": {
      "text/markdown": [
       "##### We'll employ the three following queries:"
      ],
      "text/plain": [
       "<IPython.core.display.Markdown object>"
      ]
     },
     "metadata": {},
     "output_type": "display_data"
    },
    {
     "data": {
      "text/markdown": [
       "* Query 1 : 1964, golpe, ditadura, Bolsonaro, militar"
      ],
      "text/plain": [
       "<IPython.core.display.Markdown object>"
      ]
     },
     "metadata": {},
     "output_type": "display_data"
    },
    {
     "data": {
      "text/markdown": [
       "* Query 2 : árabe, islâmico"
      ],
      "text/plain": [
       "<IPython.core.display.Markdown object>"
      ]
     },
     "metadata": {},
     "output_type": "display_data"
    },
    {
     "data": {
      "text/markdown": [
       "* Query 3 : feminismo, mulher, feminista"
      ],
      "text/plain": [
       "<IPython.core.display.Markdown object>"
      ]
     },
     "metadata": {},
     "output_type": "display_data"
    }
   ],
   "source": [
    "query1 = [\"1964\",\"golpe\",\"ditadura\",\"Bolsonaro\",\"militar\"]\n",
    "query2 = [\"árabe\",\"islâmico\"]\n",
    "query3 = [\"feminismo\",\"mulher\",\"feminista\"]\n",
    "\n",
    "display(Markdown(\"##### We'll employ the three following queries:\"))\n",
    "display(Markdown(\"* Query 1 : {}\".format(', '.join(query1))))\n",
    "display(Markdown(\"* Query 2 : {}\".format(', '.join(query2))))\n",
    "display(Markdown(\"* Query 3 : {}\".format(', '.join(query3))))"
   ]
  },
  {
   "cell_type": "markdown",
   "metadata": {},
   "source": [
    "<br>\n",
    "\n",
    "### K-effect on BM25"
   ]
  },
  {
   "cell_type": "markdown",
   "metadata": {},
   "source": [
    "The strategy BM25 has a parameter *k* which is said to impact in its results.\n",
    "\n",
    "Let's observe the effect of different values of *k* in the algorithm's results."
   ]
  },
  {
   "cell_type": "code",
   "execution_count": 14,
   "metadata": {},
   "outputs": [
    {
     "data": {
      "text/markdown": [
       "##### Top 5 documents by k for 'Query 1' (title)"
      ],
      "text/plain": [
       "<IPython.core.display.Markdown object>"
      ]
     },
     "metadata": {},
     "output_type": "display_data"
    },
    {
     "data": {
      "text/html": [
       "<table border=\"1\" class=\"dataframe\">\n",
       "  <thead>\n",
       "    <tr style=\"text-align: right;\">\n",
       "      <th>BM25(k=0)</th>\n",
       "      <th>BM25(k=1)</th>\n",
       "      <th>BM25(k=10)</th>\n",
       "      <th>BM25(k=100)</th>\n",
       "    </tr>\n",
       "  </thead>\n",
       "  <tbody>\n",
       "    <tr>\n",
       "      <td>Atos pró e contra ditadura militar terminam em confrontos em São Paulo</td>\n",
       "      <td>Boris Fausto e o golpe de 64: “É impossível ir contra fatos estabelecidos”</td>\n",
       "      <td>Boris Fausto e o golpe de 64: “É impossível ir contra fatos estabelecidos”</td>\n",
       "      <td>Boris Fausto e o golpe de 64: “É impossível ir contra fatos estabelecidos”</td>\n",
       "    </tr>\n",
       "    <tr>\n",
       "      <td>“Não me arrependo de nada”</td>\n",
       "      <td>Bolsonaro escancara cadáver insepulto da ditadura com celebração do golpe</td>\n",
       "      <td>Bolsonaro manda festejar o crime</td>\n",
       "      <td>Bolsonaro manda festejar o crime</td>\n",
       "    </tr>\n",
       "    <tr>\n",
       "      <td>Um Brasil de dedo em riste às portas do Mackenzie</td>\n",
       "      <td>Bolsonaro manda festejar o crime</td>\n",
       "      <td>Bolsonaro escancara cadáver insepulto da ditadura com celebração do golpe</td>\n",
       "      <td>Quem mandou matar Marielle? E por quê?</td>\n",
       "    </tr>\n",
       "    <tr>\n",
       "      <td>Bolsonaro escancara cadáver insepulto da ditadura com celebração do golpe</td>\n",
       "      <td>“A sociedade foi Rubens Paiva  não os facínoras que o mataram”</td>\n",
       "      <td>Um Brasil de dedo em riste às portas do Mackenzie</td>\n",
       "      <td>Bolsonaro escancara cadáver insepulto da ditadura com celebração do golpe</td>\n",
       "    </tr>\n",
       "    <tr>\n",
       "      <td>A fuga simbólica de Bolsonaro para Israel no 55º aniversário da ditadura brasileira</td>\n",
       "      <td>Um Brasil de dedo em riste às portas do Mackenzie</td>\n",
       "      <td>Governo Bolsonaro prega “negacionismo histórico” sobre a ditadura</td>\n",
       "      <td>Um Brasil de dedo em riste às portas do Mackenzie</td>\n",
       "    </tr>\n",
       "  </tbody>\n",
       "</table>"
      ],
      "text/plain": [
       "<IPython.core.display.HTML object>"
      ]
     },
     "metadata": {},
     "output_type": "display_data"
    }
   ],
   "source": [
    "strategies = [bm25_vsm,bm25_vsm,bm25_vsm,bm25_vsm]\n",
    "columns = [\"BM25(k=0)\",\"BM25(k=1)\",\"BM25(k=10)\",\"BM25(k=100)\"]\n",
    "k_values =[0,1,10,100]\n",
    "rows = []\n",
    "\n",
    "for idx in range(0,len(strategies)):\n",
    "    top_10 = get_n_best_docs(n=5, k=k_values[idx], docs=all_docs,index=inv_index,\n",
    "                             query=query1, strategy=strategies[idx])\n",
    "    \n",
    "    top_10 = list(reversed(top_10))\n",
    "    top_10 = [i[1] for i in top_10]\n",
    "    \n",
    "    rows.append(top_10)\n",
    "    \n",
    "pd.set_option('max_colwidth', -1)\n",
    "display(Markdown(\"##### Top 5 documents by k for 'Query 1' (title)\"))\n",
    "display(HTML(pd.DataFrame(list(zip(*[list(map(lambda x: source.xs(x)['title'], el)) for el in rows])),\n",
    "                          columns=columns).to_html(index=False)))"
   ]
  },
  {
   "cell_type": "markdown",
   "metadata": {},
   "source": [
    "* An improvement in the results is visible as k increases\n",
    "    + The documents retrieved for k=1 seem more relevant than those retrieve with k=0\n",
    "    + The documents retrieved with k=1 and k=10 seem to be approximately as relevant\n",
    "    + In documents retrieved with k=100 we start to see a decline in relevance (The document about 'Marielle' isn't as directly related to the query as the rest)"
   ]
  },
  {
   "cell_type": "code",
   "execution_count": 15,
   "metadata": {},
   "outputs": [
    {
     "data": {
      "text/markdown": [
       "##### Top 5 documents by k for 'Query 1' (url)"
      ],
      "text/plain": [
       "<IPython.core.display.Markdown object>"
      ]
     },
     "metadata": {},
     "output_type": "display_data"
    },
    {
     "data": {
      "text/html": [
       "<table border=\"1\" class=\"dataframe\">\n",
       "  <thead>\n",
       "    <tr style=\"text-align: right;\">\n",
       "      <th>BM25(k=0)</th>\n",
       "      <th>BM25(k=1)</th>\n",
       "      <th>BM25(k=10)</th>\n",
       "      <th>BM25(k=100)</th>\n",
       "    </tr>\n",
       "  </thead>\n",
       "  <tbody>\n",
       "    <tr>\n",
       "      <td>https://brasil.elpais.com/brasil/2019/04/01/politica/1554118634_296372.html</td>\n",
       "      <td>https://brasil.elpais.com/brasil/2019/03/30/politica/1553984610_147330.html</td>\n",
       "      <td>https://brasil.elpais.com/brasil/2019/03/30/politica/1553984610_147330.html</td>\n",
       "      <td>https://brasil.elpais.com/brasil/2019/03/30/politica/1553984610_147330.html</td>\n",
       "    </tr>\n",
       "    <tr>\n",
       "      <td>https://brasil.elpais.com/brasil/2019/03/28/politica/1553789942_315053.html</td>\n",
       "      <td>https://brasil.elpais.com/brasil/2019/03/26/politica/1553609505_570456.html</td>\n",
       "      <td>https://brasil.elpais.com/brasil/2019/03/27/opinion/1553688411_058227.html</td>\n",
       "      <td>https://brasil.elpais.com/brasil/2019/03/27/opinion/1553688411_058227.html</td>\n",
       "    </tr>\n",
       "    <tr>\n",
       "      <td>https://brasil.elpais.com/brasil/2019/03/27/politica/1553717682_889482.html</td>\n",
       "      <td>https://brasil.elpais.com/brasil/2019/03/27/opinion/1553688411_058227.html</td>\n",
       "      <td>https://brasil.elpais.com/brasil/2019/03/26/politica/1553609505_570456.html</td>\n",
       "      <td>https://brasil.elpais.com/brasil/2019/03/13/opinion/1552485039_897963.html</td>\n",
       "    </tr>\n",
       "    <tr>\n",
       "      <td>https://brasil.elpais.com/brasil/2019/03/26/politica/1553609505_570456.html</td>\n",
       "      <td>https://brasil.elpais.com/brasil/2019/03/26/politica/1553638410_317117.html</td>\n",
       "      <td>https://brasil.elpais.com/brasil/2019/03/27/politica/1553717682_889482.html</td>\n",
       "      <td>https://brasil.elpais.com/brasil/2019/03/26/politica/1553609505_570456.html</td>\n",
       "    </tr>\n",
       "    <tr>\n",
       "      <td>https://brasil.elpais.com/brasil/2019/04/01/opinion/1554078976_839038.html</td>\n",
       "      <td>https://brasil.elpais.com/brasil/2019/03/27/politica/1553717682_889482.html</td>\n",
       "      <td>https://brasil.elpais.com/brasil/2019/04/05/politica/1554419295_939718.html</td>\n",
       "      <td>https://brasil.elpais.com/brasil/2019/03/27/politica/1553717682_889482.html</td>\n",
       "    </tr>\n",
       "  </tbody>\n",
       "</table>"
      ],
      "text/plain": [
       "<IPython.core.display.HTML object>"
      ]
     },
     "metadata": {},
     "output_type": "display_data"
    }
   ],
   "source": [
    "pd.set_option('max_colwidth', -1)\n",
    "display(Markdown(\"##### Top 5 documents by k for 'Query 1' (url)\"))\n",
    "display(HTML(pd.DataFrame(list(zip(*[list(map(lambda x: source.xs(x)['url'], el)) for el in rows])),\n",
    "                          columns=columns).to_html(index=False)))"
   ]
  },
  {
   "cell_type": "markdown",
   "metadata": {},
   "source": [
    "* Although the topic of military dictatorship and Bolsonaro is mentioned/discussed in the article about 'Marielle' (k=100) it isn't as central to the article as in other topics.\n",
    "    + The results for (k=100) are of good quality but we start to see a sightly fall in relevance."
   ]
  },
  {
   "cell_type": "code",
   "execution_count": 16,
   "metadata": {},
   "outputs": [
    {
     "data": {
      "text/markdown": [
       "##### Top 5 documents by k for 'Query 2' (title)"
      ],
      "text/plain": [
       "<IPython.core.display.Markdown object>"
      ]
     },
     "metadata": {},
     "output_type": "display_data"
    },
    {
     "data": {
      "text/html": [
       "<table border=\"1\" class=\"dataframe\">\n",
       "  <thead>\n",
       "    <tr style=\"text-align: right;\">\n",
       "      <th>BM25(k=0)</th>\n",
       "      <th>BM25(k=1)</th>\n",
       "      <th>BM25(k=10)</th>\n",
       "      <th>BM25(k=100)</th>\n",
       "    </tr>\n",
       "  </thead>\n",
       "  <tbody>\n",
       "    <tr>\n",
       "      <td>Bolsonaro troca embaixada por escritório em Jerusalém  mas não evita retaliação palestina</td>\n",
       "      <td>Bolsonaro troca embaixada por escritório em Jerusalém  mas não evita retaliação palestina</td>\n",
       "      <td>As três espanholas do Estado Islâmico: “Só queremos ir embora”</td>\n",
       "      <td>As três espanholas do Estado Islâmico: “Só queremos ir embora”</td>\n",
       "    </tr>\n",
       "    <tr>\n",
       "      <td>As três espanholas do Estado Islâmico: “Só queremos ir embora”</td>\n",
       "      <td>As três espanholas do Estado Islâmico: “Só queremos ir embora”</td>\n",
       "      <td>Bolsonaro troca embaixada por escritório em Jerusalém  mas não evita retaliação palestina</td>\n",
       "      <td>Bolsonaro troca embaixada por escritório em Jerusalém  mas não evita retaliação palestina</td>\n",
       "    </tr>\n",
       "    <tr>\n",
       "      <td>Brunei começa a punir com apedrejamento o adultério e a homossexualidade</td>\n",
       "      <td>Brunei começa a punir com apedrejamento o adultério e a homossexualidade</td>\n",
       "      <td>Brunei começa a punir com apedrejamento o adultério e a homossexualidade</td>\n",
       "      <td>Brunei começa a punir com apedrejamento o adultério e a homossexualidade</td>\n",
       "    </tr>\n",
       "    <tr>\n",
       "      <td>Tatiana Roque: “O problema da esquerda não é a pauta dita identitária  mas sim a lacração”</td>\n",
       "      <td>Tatiana Roque: “O problema da esquerda não é a pauta dita identitária  mas sim a lacração”</td>\n",
       "      <td>Tatiana Roque: “O problema da esquerda não é a pauta dita identitária  mas sim a lacração”</td>\n",
       "      <td>Tatiana Roque: “O problema da esquerda não é a pauta dita identitária  mas sim a lacração”</td>\n",
       "    </tr>\n",
       "    <tr>\n",
       "      <td>Dois aviões russos chegam à Venezuela com uma centena de militares</td>\n",
       "      <td>Dois aviões russos chegam à Venezuela com uma centena de militares</td>\n",
       "      <td>Dois aviões russos chegam à Venezuela com uma centena de militares</td>\n",
       "      <td>Dois aviões russos chegam à Venezuela com uma centena de militares</td>\n",
       "    </tr>\n",
       "  </tbody>\n",
       "</table>"
      ],
      "text/plain": [
       "<IPython.core.display.HTML object>"
      ]
     },
     "metadata": {},
     "output_type": "display_data"
    }
   ],
   "source": [
    "strategies = [bm25_vsm,bm25_vsm,bm25_vsm,bm25_vsm]\n",
    "columns = [\"BM25(k=0)\",\"BM25(k=1)\",\"BM25(k=10)\",\"BM25(k=100)\"]\n",
    "k_values =[0,1,10,100]\n",
    "rows = []\n",
    "\n",
    "for idx in range(0,len(strategies)):\n",
    "    top_10 = get_n_best_docs(n=5, k=k_values[idx], docs=all_docs,index=inv_index,\n",
    "                             query=query2, strategy=strategies[idx])\n",
    "    \n",
    "    top_10 = list(reversed(top_10))\n",
    "    top_10 = [i[1] for i in top_10]\n",
    "    \n",
    "    rows.append(top_10)\n",
    "    \n",
    "pd.set_option('max_colwidth', -1)\n",
    "display(Markdown(\"##### Top 5 documents by k for 'Query 2' (title)\"))\n",
    "display(HTML(pd.DataFrame(list(zip(*[list(map(lambda x: source.xs(x)['title'], el)) for el in rows])),\n",
    "                          columns=columns).to_html(index=False)))"
   ]
  },
  {
   "cell_type": "markdown",
   "metadata": {},
   "source": [
    "* The biggger the k the more relevant the retrieved documents\n",
    "* Results for k=10 and k=100 are the same"
   ]
  },
  {
   "cell_type": "code",
   "execution_count": 17,
   "metadata": {},
   "outputs": [
    {
     "data": {
      "text/markdown": [
       "##### Top 5 documents by k for 'Query 2' (url)"
      ],
      "text/plain": [
       "<IPython.core.display.Markdown object>"
      ]
     },
     "metadata": {},
     "output_type": "display_data"
    },
    {
     "data": {
      "text/html": [
       "<table border=\"1\" class=\"dataframe\">\n",
       "  <thead>\n",
       "    <tr style=\"text-align: right;\">\n",
       "      <th>BM25(k=0)</th>\n",
       "      <th>BM25(k=1)</th>\n",
       "      <th>BM25(k=10)</th>\n",
       "      <th>BM25(k=100)</th>\n",
       "    </tr>\n",
       "  </thead>\n",
       "  <tbody>\n",
       "    <tr>\n",
       "      <td>https://brasil.elpais.com/brasil/2019/03/31/politica/1554060705_325198.html</td>\n",
       "      <td>https://brasil.elpais.com/brasil/2019/03/31/politica/1554060705_325198.html</td>\n",
       "      <td>https://brasil.elpais.com/brasil/2019/04/03/internacional/1554297555_947058.html</td>\n",
       "      <td>https://brasil.elpais.com/brasil/2019/04/03/internacional/1554297555_947058.html</td>\n",
       "    </tr>\n",
       "    <tr>\n",
       "      <td>https://brasil.elpais.com/brasil/2019/04/03/internacional/1554297555_947058.html</td>\n",
       "      <td>https://brasil.elpais.com/brasil/2019/04/03/internacional/1554297555_947058.html</td>\n",
       "      <td>https://brasil.elpais.com/brasil/2019/03/31/politica/1554060705_325198.html</td>\n",
       "      <td>https://brasil.elpais.com/brasil/2019/03/31/politica/1554060705_325198.html</td>\n",
       "    </tr>\n",
       "    <tr>\n",
       "      <td>https://brasil.elpais.com/brasil/2019/04/03/internacional/1554284355_385703.html</td>\n",
       "      <td>https://brasil.elpais.com/brasil/2019/04/03/internacional/1554284355_385703.html</td>\n",
       "      <td>https://brasil.elpais.com/brasil/2019/04/03/internacional/1554284355_385703.html</td>\n",
       "      <td>https://brasil.elpais.com/brasil/2019/04/03/internacional/1554284355_385703.html</td>\n",
       "    </tr>\n",
       "    <tr>\n",
       "      <td>https://brasil.elpais.com/brasil/2019/03/20/politica/1553037448_213932.html</td>\n",
       "      <td>https://brasil.elpais.com/brasil/2019/03/20/politica/1553037448_213932.html</td>\n",
       "      <td>https://brasil.elpais.com/brasil/2019/03/20/politica/1553037448_213932.html</td>\n",
       "      <td>https://brasil.elpais.com/brasil/2019/03/20/politica/1553037448_213932.html</td>\n",
       "    </tr>\n",
       "    <tr>\n",
       "      <td>https://brasil.elpais.com/brasil/2019/03/24/internacional/1553458236_783517.html</td>\n",
       "      <td>https://brasil.elpais.com/brasil/2019/03/24/internacional/1553458236_783517.html</td>\n",
       "      <td>https://brasil.elpais.com/brasil/2019/03/24/internacional/1553458236_783517.html</td>\n",
       "      <td>https://brasil.elpais.com/brasil/2019/03/24/internacional/1553458236_783517.html</td>\n",
       "    </tr>\n",
       "  </tbody>\n",
       "</table>"
      ],
      "text/plain": [
       "<IPython.core.display.HTML object>"
      ]
     },
     "metadata": {},
     "output_type": "display_data"
    }
   ],
   "source": [
    "pd.set_option('max_colwidth', -1)\n",
    "display(Markdown(\"##### Top 5 documents by k for 'Query 2' (url)\"))\n",
    "display(HTML(pd.DataFrame(list(zip(*[list(map(lambda x: source.xs(x)['url'], el)) for el in rows])),\n",
    "                          columns=columns).to_html(index=False)))"
   ]
  },
  {
   "cell_type": "markdown",
   "metadata": {},
   "source": [
    "* The articles themselves are consistent with the results gathered through their titles."
   ]
  },
  {
   "cell_type": "code",
   "execution_count": 18,
   "metadata": {},
   "outputs": [
    {
     "data": {
      "text/markdown": [
       "##### Top 5 documents by k for 'Query 3' (title)"
      ],
      "text/plain": [
       "<IPython.core.display.Markdown object>"
      ]
     },
     "metadata": {},
     "output_type": "display_data"
    },
    {
     "data": {
      "text/html": [
       "<table border=\"1\" class=\"dataframe\">\n",
       "  <thead>\n",
       "    <tr style=\"text-align: right;\">\n",
       "      <th>BM25(k=0)</th>\n",
       "      <th>BM25(k=1)</th>\n",
       "      <th>BM25(k=10)</th>\n",
       "      <th>BM25(k=100)</th>\n",
       "    </tr>\n",
       "  </thead>\n",
       "  <tbody>\n",
       "    <tr>\n",
       "      <td>A ética da solidariedade feminista</td>\n",
       "      <td>A feminista Susan Sontag contra Norman Mailer</td>\n",
       "      <td>A feminista Susan Sontag contra Norman Mailer</td>\n",
       "      <td>A feminista Susan Sontag contra Norman Mailer</td>\n",
       "    </tr>\n",
       "    <tr>\n",
       "      <td>A feminista Susan Sontag contra Norman Mailer</td>\n",
       "      <td>A ética da solidariedade feminista</td>\n",
       "      <td>Não há ‘backlash’ provocado pelo feminismo</td>\n",
       "      <td>Não há ‘backlash’ provocado pelo feminismo</td>\n",
       "    </tr>\n",
       "    <tr>\n",
       "      <td>Igualdade radical</td>\n",
       "      <td>Igualdade radical</td>\n",
       "      <td>A ética da solidariedade feminista</td>\n",
       "      <td>A ética da solidariedade feminista</td>\n",
       "    </tr>\n",
       "    <tr>\n",
       "      <td>Atos pró e contra ditadura militar terminam em confrontos em São Paulo</td>\n",
       "      <td>Não há ‘backlash’ provocado pelo feminismo</td>\n",
       "      <td>Igualdade radical</td>\n",
       "      <td>O que a fama fez com Susan Boyle  a mulher que revolucionou a música  a televisão e as redes sociais</td>\n",
       "    </tr>\n",
       "    <tr>\n",
       "      <td>Não há ‘backlash’ provocado pelo feminismo</td>\n",
       "      <td>Atos pró e contra ditadura militar terminam em confrontos em São Paulo</td>\n",
       "      <td>O que a fama fez com Susan Boyle  a mulher que revolucionou a música  a televisão e as redes sociais</td>\n",
       "      <td>Igualdade radical</td>\n",
       "    </tr>\n",
       "  </tbody>\n",
       "</table>"
      ],
      "text/plain": [
       "<IPython.core.display.HTML object>"
      ]
     },
     "metadata": {},
     "output_type": "display_data"
    }
   ],
   "source": [
    "strategies = [bm25_vsm,bm25_vsm,bm25_vsm,bm25_vsm]\n",
    "columns = [\"BM25(k=0)\",\"BM25(k=1)\",\"BM25(k=10)\",\"BM25(k=100)\"]\n",
    "k_values =[0,1,10,100]\n",
    "rows = []\n",
    "\n",
    "for idx in range(0,len(strategies)):\n",
    "    top_10 = get_n_best_docs(n=5, k=k_values[idx], docs=all_docs,index=inv_index,\n",
    "                             query=query3, strategy=strategies[idx])\n",
    "    \n",
    "    top_10 = list(reversed(top_10))\n",
    "    top_10 = [i[1] for i in top_10]\n",
    "    \n",
    "    rows.append(top_10)\n",
    "    \n",
    "pd.set_option('max_colwidth', -1)\n",
    "display(Markdown(\"##### Top 5 documents by k for 'Query 3' (title)\"))\n",
    "display(HTML(pd.DataFrame(list(zip(*[list(map(lambda x: source.xs(x)['title'], el)) for el in rows])),\n",
    "                          columns=columns).to_html(index=False)))"
   ]
  },
  {
   "cell_type": "markdown",
   "metadata": {},
   "source": [
    "* k = 1 represents a clear improvement over k=0\n",
    "* Starting with k=10 we see an introduction of a less relevant document (about Susan Boyle)\n",
    "    + With k=100 this less relevant document takes the place of a relevant document (about Igualdade radical)"
   ]
  },
  {
   "cell_type": "code",
   "execution_count": 19,
   "metadata": {},
   "outputs": [
    {
     "data": {
      "text/markdown": [
       "##### Top 5 documents by k for 'Query 3' (url)"
      ],
      "text/plain": [
       "<IPython.core.display.Markdown object>"
      ]
     },
     "metadata": {},
     "output_type": "display_data"
    },
    {
     "data": {
      "text/html": [
       "<table border=\"1\" class=\"dataframe\">\n",
       "  <thead>\n",
       "    <tr style=\"text-align: right;\">\n",
       "      <th>BM25(k=0)</th>\n",
       "      <th>BM25(k=1)</th>\n",
       "      <th>BM25(k=10)</th>\n",
       "      <th>BM25(k=100)</th>\n",
       "    </tr>\n",
       "  </thead>\n",
       "  <tbody>\n",
       "    <tr>\n",
       "      <td>https://brasil.elpais.com/brasil/2019/03/01/opinion/1551471471_656137.html</td>\n",
       "      <td>https://brasil.elpais.com/brasil/2019/03/05/cultura/1551786137_303043.html</td>\n",
       "      <td>https://brasil.elpais.com/brasil/2019/03/05/cultura/1551786137_303043.html</td>\n",
       "      <td>https://brasil.elpais.com/brasil/2019/03/05/cultura/1551786137_303043.html</td>\n",
       "    </tr>\n",
       "    <tr>\n",
       "      <td>https://brasil.elpais.com/brasil/2019/03/05/cultura/1551786137_303043.html</td>\n",
       "      <td>https://brasil.elpais.com/brasil/2019/03/01/opinion/1551471471_656137.html</td>\n",
       "      <td>https://brasil.elpais.com/brasil/2019/03/07/opinion/1551994753_797742.html</td>\n",
       "      <td>https://brasil.elpais.com/brasil/2019/03/07/opinion/1551994753_797742.html</td>\n",
       "    </tr>\n",
       "    <tr>\n",
       "      <td>https://brasil.elpais.com/brasil/2019/03/07/opinion/1551972628_054337.html</td>\n",
       "      <td>https://brasil.elpais.com/brasil/2019/03/07/opinion/1551972628_054337.html</td>\n",
       "      <td>https://brasil.elpais.com/brasil/2019/03/01/opinion/1551471471_656137.html</td>\n",
       "      <td>https://brasil.elpais.com/brasil/2019/03/01/opinion/1551471471_656137.html</td>\n",
       "    </tr>\n",
       "    <tr>\n",
       "      <td>https://brasil.elpais.com/brasil/2019/04/01/politica/1554118634_296372.html</td>\n",
       "      <td>https://brasil.elpais.com/brasil/2019/03/07/opinion/1551994753_797742.html</td>\n",
       "      <td>https://brasil.elpais.com/brasil/2019/03/07/opinion/1551972628_054337.html</td>\n",
       "      <td>https://brasil.elpais.com/brasil/2019/04/04/cultura/1554380845_480636.html</td>\n",
       "    </tr>\n",
       "    <tr>\n",
       "      <td>https://brasil.elpais.com/brasil/2019/03/07/opinion/1551994753_797742.html</td>\n",
       "      <td>https://brasil.elpais.com/brasil/2019/04/01/politica/1554118634_296372.html</td>\n",
       "      <td>https://brasil.elpais.com/brasil/2019/04/04/cultura/1554380845_480636.html</td>\n",
       "      <td>https://brasil.elpais.com/brasil/2019/03/07/opinion/1551972628_054337.html</td>\n",
       "    </tr>\n",
       "  </tbody>\n",
       "</table>"
      ],
      "text/plain": [
       "<IPython.core.display.HTML object>"
      ]
     },
     "metadata": {},
     "output_type": "display_data"
    }
   ],
   "source": [
    "pd.set_option('max_colwidth', -1)\n",
    "display(Markdown(\"##### Top 5 documents by k for 'Query 3' (url)\"))\n",
    "display(HTML(pd.DataFrame(list(zip(*[list(map(lambda x: source.xs(x)['url'], el)) for el in rows])),\n",
    "                          columns=columns).to_html(index=False)))"
   ]
  },
  {
   "cell_type": "markdown",
   "metadata": {},
   "source": [
    "* The document about Susan Boyle is indeed less relevant"
   ]
  },
  {
   "cell_type": "markdown",
   "metadata": {},
   "source": [
    "> Up to moderate values (k=1 to k=10) an increase in k overall translates into more relevant results.\n",
    "\n",
    "> If increased too much (e.g. k=100) we see either no change or the addition of less relevant results."
   ]
  },
  {
   "cell_type": "markdown",
   "metadata": {},
   "source": [
    "<br>\n",
    "\n",
    "### Relevance of results by strategy"
   ]
  },
  {
   "cell_type": "markdown",
   "metadata": {},
   "source": [
    "In view of the previous section's results we shall use k=10 for the algorithm BM25 "
   ]
  },
  {
   "cell_type": "code",
   "execution_count": 20,
   "metadata": {},
   "outputs": [
    {
     "data": {
      "text/markdown": [
       "##### Top 5 best docs by strategy for query1 (title)"
      ],
      "text/plain": [
       "<IPython.core.display.Markdown object>"
      ]
     },
     "metadata": {},
     "output_type": "display_data"
    },
    {
     "data": {
      "text/html": [
       "<table border=\"1\" class=\"dataframe\">\n",
       "  <thead>\n",
       "    <tr style=\"text-align: right;\">\n",
       "      <th>Binary</th>\n",
       "      <th>TF</th>\n",
       "      <th>TF-IDF</th>\n",
       "      <th>BM25(k=10)</th>\n",
       "    </tr>\n",
       "  </thead>\n",
       "  <tbody>\n",
       "    <tr>\n",
       "      <td>Atos pró e contra ditadura militar terminam em confrontos em São Paulo</td>\n",
       "      <td>Quem mandou matar Marielle? E por quê?</td>\n",
       "      <td>Bolsonaro manda festejar o crime</td>\n",
       "      <td>Boris Fausto e o golpe de 64: “É impossível ir contra fatos estabelecidos”</td>\n",
       "    </tr>\n",
       "    <tr>\n",
       "      <td>“Não me arrependo de nada”</td>\n",
       "      <td>Bolsonaro manda festejar o crime</td>\n",
       "      <td>Boris Fausto e o golpe de 64: “É impossível ir contra fatos estabelecidos”</td>\n",
       "      <td>Bolsonaro manda festejar o crime</td>\n",
       "    </tr>\n",
       "    <tr>\n",
       "      <td>Um Brasil de dedo em riste às portas do Mackenzie</td>\n",
       "      <td>Boris Fausto e o golpe de 64: “É impossível ir contra fatos estabelecidos”</td>\n",
       "      <td>Quem mandou matar Marielle? E por quê?</td>\n",
       "      <td>Bolsonaro escancara cadáver insepulto da ditadura com celebração do golpe</td>\n",
       "    </tr>\n",
       "    <tr>\n",
       "      <td>Bolsonaro escancara cadáver insepulto da ditadura com celebração do golpe</td>\n",
       "      <td>Dois assessores de Bolsonaro doaram mais de 100.000 reais a campanhas da família</td>\n",
       "      <td>Bolsonaro escancara cadáver insepulto da ditadura com celebração do golpe</td>\n",
       "      <td>Um Brasil de dedo em riste às portas do Mackenzie</td>\n",
       "    </tr>\n",
       "    <tr>\n",
       "      <td>A fuga simbólica de Bolsonaro para Israel no 55º aniversário da ditadura brasileira</td>\n",
       "      <td>Bolsonaro escancara cadáver insepulto da ditadura com celebração do golpe</td>\n",
       "      <td>Um Brasil de dedo em riste às portas do Mackenzie</td>\n",
       "      <td>Governo Bolsonaro prega “negacionismo histórico” sobre a ditadura</td>\n",
       "    </tr>\n",
       "  </tbody>\n",
       "</table>"
      ],
      "text/plain": [
       "<IPython.core.display.HTML object>"
      ]
     },
     "metadata": {},
     "output_type": "display_data"
    }
   ],
   "source": [
    "strategies = [binary_vsm,tf_vsm,tf_idf_vsm,bm25_vsm]\n",
    "columns = [\"Binary\",\"TF\",\"TF-IDF\",\"BM25(k=10)\"]\n",
    "k_values =[None,None,None,10]\n",
    "rows = []\n",
    "\n",
    "for idx in range(0,len(strategies)):\n",
    "    top_10 = get_n_best_docs(n=5, k=k_values[idx], docs=all_docs,index=inv_index,\n",
    "                             query=query1, strategy=strategies[idx])\n",
    "    \n",
    "    top_10 = list(reversed(top_10))\n",
    "    top_10 = [i[1] for i in top_10]\n",
    "    \n",
    "    rows.append(top_10)\n",
    "\n",
    "rst_q1 = rows\n",
    "pd.set_option('max_colwidth', -1)\n",
    "display(Markdown(\"##### Top 5 best docs by strategy for query1 (title)\"))\n",
    "display(HTML(pd.DataFrame(list(zip(*[list(map(lambda x: source.xs(x)['title'], el)) for el in rows])),\n",
    "                          columns=columns).to_html(index=False)))"
   ]
  },
  {
   "cell_type": "markdown",
   "metadata": {},
   "source": [
    "* The strategy that provided the best results, in terms of titles, was BM25(k=1)\n",
    "    + Its documents e.g. cite Bolsonaro directly "
   ]
  },
  {
   "cell_type": "code",
   "execution_count": 21,
   "metadata": {},
   "outputs": [
    {
     "data": {
      "text/markdown": [
       "##### Top 5 best docs by strategy for query1 (url)"
      ],
      "text/plain": [
       "<IPython.core.display.Markdown object>"
      ]
     },
     "metadata": {},
     "output_type": "display_data"
    },
    {
     "data": {
      "text/html": [
       "<table border=\"1\" class=\"dataframe\">\n",
       "  <thead>\n",
       "    <tr style=\"text-align: right;\">\n",
       "      <th>Binary</th>\n",
       "      <th>TF</th>\n",
       "      <th>TF-IDF</th>\n",
       "      <th>BM25(k=10)</th>\n",
       "    </tr>\n",
       "  </thead>\n",
       "  <tbody>\n",
       "    <tr>\n",
       "      <td>https://brasil.elpais.com/brasil/2019/04/01/politica/1554118634_296372.html</td>\n",
       "      <td>https://brasil.elpais.com/brasil/2019/03/13/opinion/1552485039_897963.html</td>\n",
       "      <td>https://brasil.elpais.com/brasil/2019/03/27/opinion/1553688411_058227.html</td>\n",
       "      <td>https://brasil.elpais.com/brasil/2019/03/30/politica/1553984610_147330.html</td>\n",
       "    </tr>\n",
       "    <tr>\n",
       "      <td>https://brasil.elpais.com/brasil/2019/03/28/politica/1553789942_315053.html</td>\n",
       "      <td>https://brasil.elpais.com/brasil/2019/03/27/opinion/1553688411_058227.html</td>\n",
       "      <td>https://brasil.elpais.com/brasil/2019/03/30/politica/1553984610_147330.html</td>\n",
       "      <td>https://brasil.elpais.com/brasil/2019/03/27/opinion/1553688411_058227.html</td>\n",
       "    </tr>\n",
       "    <tr>\n",
       "      <td>https://brasil.elpais.com/brasil/2019/03/27/politica/1553717682_889482.html</td>\n",
       "      <td>https://brasil.elpais.com/brasil/2019/03/30/politica/1553984610_147330.html</td>\n",
       "      <td>https://brasil.elpais.com/brasil/2019/03/13/opinion/1552485039_897963.html</td>\n",
       "      <td>https://brasil.elpais.com/brasil/2019/03/26/politica/1553609505_570456.html</td>\n",
       "    </tr>\n",
       "    <tr>\n",
       "      <td>https://brasil.elpais.com/brasil/2019/03/26/politica/1553609505_570456.html</td>\n",
       "      <td>https://brasil.elpais.com/brasil/2019/03/21/politica/1553173153_987739.html</td>\n",
       "      <td>https://brasil.elpais.com/brasil/2019/03/26/politica/1553609505_570456.html</td>\n",
       "      <td>https://brasil.elpais.com/brasil/2019/03/27/politica/1553717682_889482.html</td>\n",
       "    </tr>\n",
       "    <tr>\n",
       "      <td>https://brasil.elpais.com/brasil/2019/04/01/opinion/1554078976_839038.html</td>\n",
       "      <td>https://brasil.elpais.com/brasil/2019/03/26/politica/1553609505_570456.html</td>\n",
       "      <td>https://brasil.elpais.com/brasil/2019/03/27/politica/1553717682_889482.html</td>\n",
       "      <td>https://brasil.elpais.com/brasil/2019/04/05/politica/1554419295_939718.html</td>\n",
       "    </tr>\n",
       "  </tbody>\n",
       "</table>"
      ],
      "text/plain": [
       "<IPython.core.display.HTML object>"
      ]
     },
     "metadata": {},
     "output_type": "display_data"
    }
   ],
   "source": [
    "pd.set_option('max_colwidth', -1)\n",
    "display(Markdown(\"##### Top 5 best docs by strategy for query1 (url)\"))\n",
    "display(HTML(pd.DataFrame(list(zip(*[list(map(lambda x: source.xs(x)['url'], el)) for el in rows])),\n",
    "                          columns=columns).to_html(index=False)))"
   ]
  },
  {
   "cell_type": "markdown",
   "metadata": {},
   "source": [
    "Inspecting the articles we can see that BM25(k=1) really is the strategy with the best results\n",
    "* TF retrieved documents who talk about Bolsonaro but not directly about dictatorship\n",
    "* TF-IDF retrieved the document about 'Marielle' where as mentioned before Bolsonaro/Dictatorship isn't the central topic"
   ]
  },
  {
   "cell_type": "code",
   "execution_count": 22,
   "metadata": {},
   "outputs": [
    {
     "data": {
      "text/markdown": [
       "##### Top 5 best docs by strategy for query2 (title)"
      ],
      "text/plain": [
       "<IPython.core.display.Markdown object>"
      ]
     },
     "metadata": {},
     "output_type": "display_data"
    },
    {
     "data": {
      "text/html": [
       "<table border=\"1\" class=\"dataframe\">\n",
       "  <thead>\n",
       "    <tr style=\"text-align: right;\">\n",
       "      <th>Binary</th>\n",
       "      <th>TF</th>\n",
       "      <th>TF-IDF</th>\n",
       "      <th>BM25(k=10)</th>\n",
       "    </tr>\n",
       "  </thead>\n",
       "  <tbody>\n",
       "    <tr>\n",
       "      <td>Bolsonaro troca embaixada por escritório em Jerusalém  mas não evita retaliação palestina</td>\n",
       "      <td>As três espanholas do Estado Islâmico: “Só queremos ir embora”</td>\n",
       "      <td>As três espanholas do Estado Islâmico: “Só queremos ir embora”</td>\n",
       "      <td>As três espanholas do Estado Islâmico: “Só queremos ir embora”</td>\n",
       "    </tr>\n",
       "    <tr>\n",
       "      <td>As três espanholas do Estado Islâmico: “Só queremos ir embora”</td>\n",
       "      <td>Bolsonaro troca embaixada por escritório em Jerusalém  mas não evita retaliação palestina</td>\n",
       "      <td>Bolsonaro troca embaixada por escritório em Jerusalém  mas não evita retaliação palestina</td>\n",
       "      <td>Bolsonaro troca embaixada por escritório em Jerusalém  mas não evita retaliação palestina</td>\n",
       "    </tr>\n",
       "    <tr>\n",
       "      <td>Brunei começa a punir com apedrejamento o adultério e a homossexualidade</td>\n",
       "      <td>Brunei começa a punir com apedrejamento o adultério e a homossexualidade</td>\n",
       "      <td>Brunei começa a punir com apedrejamento o adultério e a homossexualidade</td>\n",
       "      <td>Brunei começa a punir com apedrejamento o adultério e a homossexualidade</td>\n",
       "    </tr>\n",
       "    <tr>\n",
       "      <td>Tatiana Roque: “O problema da esquerda não é a pauta dita identitária  mas sim a lacração”</td>\n",
       "      <td>Tatiana Roque: “O problema da esquerda não é a pauta dita identitária  mas sim a lacração”</td>\n",
       "      <td>Tatiana Roque: “O problema da esquerda não é a pauta dita identitária  mas sim a lacração”</td>\n",
       "      <td>Tatiana Roque: “O problema da esquerda não é a pauta dita identitária  mas sim a lacração”</td>\n",
       "    </tr>\n",
       "    <tr>\n",
       "      <td>Dois aviões russos chegam à Venezuela com uma centena de militares</td>\n",
       "      <td>Dois aviões russos chegam à Venezuela com uma centena de militares</td>\n",
       "      <td>Dois aviões russos chegam à Venezuela com uma centena de militares</td>\n",
       "      <td>Dois aviões russos chegam à Venezuela com uma centena de militares</td>\n",
       "    </tr>\n",
       "  </tbody>\n",
       "</table>"
      ],
      "text/plain": [
       "<IPython.core.display.HTML object>"
      ]
     },
     "metadata": {},
     "output_type": "display_data"
    }
   ],
   "source": [
    "strategies = [binary_vsm,tf_vsm,tf_idf_vsm,bm25_vsm]\n",
    "columns = [\"Binary\",\"TF\",\"TF-IDF\",\"BM25(k=10)\"]\n",
    "k_values =[None,None,None,10]\n",
    "rows = []\n",
    "\n",
    "for idx in range(0,len(strategies)):\n",
    "    top_10 = get_n_best_docs(n=5, k=k_values[idx], docs=all_docs,index=inv_index,\n",
    "                             query=query2, strategy=strategies[idx])\n",
    "    \n",
    "    top_10 = list(reversed(top_10))\n",
    "    top_10 = [i[1] for i in top_10]\n",
    "    \n",
    "    rows.append(top_10)\n",
    "\n",
    "rst_q2 = rows\n",
    "pd.set_option('max_colwidth', -1)\n",
    "display(Markdown(\"##### Top 5 best docs by strategy for query2 (title)\"))\n",
    "display(HTML(pd.DataFrame(list(zip(*[list(map(lambda x: source.xs(x)['title'], el)) for el in rows])),\n",
    "                          columns=columns).to_html(index=False)))"
   ]
  },
  {
   "cell_type": "markdown",
   "metadata": {},
   "source": [
    "* Excluding Binary all strategies performed the same\n",
    "* Binary had a worse result, it's top document is less relevant than that of the other strategies"
   ]
  },
  {
   "cell_type": "code",
   "execution_count": 23,
   "metadata": {},
   "outputs": [
    {
     "data": {
      "text/markdown": [
       "##### Top 5 best docs by strategy for query2 (url)"
      ],
      "text/plain": [
       "<IPython.core.display.Markdown object>"
      ]
     },
     "metadata": {},
     "output_type": "display_data"
    },
    {
     "data": {
      "text/html": [
       "<table border=\"1\" class=\"dataframe\">\n",
       "  <thead>\n",
       "    <tr style=\"text-align: right;\">\n",
       "      <th>Binary</th>\n",
       "      <th>TF</th>\n",
       "      <th>TF-IDF</th>\n",
       "      <th>BM25(k=10)</th>\n",
       "    </tr>\n",
       "  </thead>\n",
       "  <tbody>\n",
       "    <tr>\n",
       "      <td>https://brasil.elpais.com/brasil/2019/03/31/politica/1554060705_325198.html</td>\n",
       "      <td>https://brasil.elpais.com/brasil/2019/04/03/internacional/1554297555_947058.html</td>\n",
       "      <td>https://brasil.elpais.com/brasil/2019/04/03/internacional/1554297555_947058.html</td>\n",
       "      <td>https://brasil.elpais.com/brasil/2019/04/03/internacional/1554297555_947058.html</td>\n",
       "    </tr>\n",
       "    <tr>\n",
       "      <td>https://brasil.elpais.com/brasil/2019/04/03/internacional/1554297555_947058.html</td>\n",
       "      <td>https://brasil.elpais.com/brasil/2019/03/31/politica/1554060705_325198.html</td>\n",
       "      <td>https://brasil.elpais.com/brasil/2019/03/31/politica/1554060705_325198.html</td>\n",
       "      <td>https://brasil.elpais.com/brasil/2019/03/31/politica/1554060705_325198.html</td>\n",
       "    </tr>\n",
       "    <tr>\n",
       "      <td>https://brasil.elpais.com/brasil/2019/04/03/internacional/1554284355_385703.html</td>\n",
       "      <td>https://brasil.elpais.com/brasil/2019/04/03/internacional/1554284355_385703.html</td>\n",
       "      <td>https://brasil.elpais.com/brasil/2019/04/03/internacional/1554284355_385703.html</td>\n",
       "      <td>https://brasil.elpais.com/brasil/2019/04/03/internacional/1554284355_385703.html</td>\n",
       "    </tr>\n",
       "    <tr>\n",
       "      <td>https://brasil.elpais.com/brasil/2019/03/20/politica/1553037448_213932.html</td>\n",
       "      <td>https://brasil.elpais.com/brasil/2019/03/20/politica/1553037448_213932.html</td>\n",
       "      <td>https://brasil.elpais.com/brasil/2019/03/20/politica/1553037448_213932.html</td>\n",
       "      <td>https://brasil.elpais.com/brasil/2019/03/20/politica/1553037448_213932.html</td>\n",
       "    </tr>\n",
       "    <tr>\n",
       "      <td>https://brasil.elpais.com/brasil/2019/03/24/internacional/1553458236_783517.html</td>\n",
       "      <td>https://brasil.elpais.com/brasil/2019/03/24/internacional/1553458236_783517.html</td>\n",
       "      <td>https://brasil.elpais.com/brasil/2019/03/24/internacional/1553458236_783517.html</td>\n",
       "      <td>https://brasil.elpais.com/brasil/2019/03/24/internacional/1553458236_783517.html</td>\n",
       "    </tr>\n",
       "  </tbody>\n",
       "</table>"
      ],
      "text/plain": [
       "<IPython.core.display.HTML object>"
      ]
     },
     "metadata": {},
     "output_type": "display_data"
    }
   ],
   "source": [
    "pd.set_option('max_colwidth', -1)\n",
    "display(Markdown(\"##### Top 5 best docs by strategy for query2 (url)\"))\n",
    "display(HTML(pd.DataFrame(list(zip(*[list(map(lambda x: source.xs(x)['url'], el)) for el in rows])),\n",
    "                          columns=columns).to_html(index=False)))"
   ]
  },
  {
   "cell_type": "markdown",
   "metadata": {},
   "source": [
    "* The articles themselves are consistent with the results gathered through their titles."
   ]
  },
  {
   "cell_type": "code",
   "execution_count": 24,
   "metadata": {},
   "outputs": [
    {
     "data": {
      "text/markdown": [
       "##### Top 5 best docs by strategy for query3 (title)"
      ],
      "text/plain": [
       "<IPython.core.display.Markdown object>"
      ]
     },
     "metadata": {},
     "output_type": "display_data"
    },
    {
     "data": {
      "text/html": [
       "<table border=\"1\" class=\"dataframe\">\n",
       "  <thead>\n",
       "    <tr style=\"text-align: right;\">\n",
       "      <th>Binary</th>\n",
       "      <th>TF</th>\n",
       "      <th>TF-IDF</th>\n",
       "      <th>BM25(k=10)</th>\n",
       "    </tr>\n",
       "  </thead>\n",
       "  <tbody>\n",
       "    <tr>\n",
       "      <td>A ética da solidariedade feminista</td>\n",
       "      <td>A feminista Susan Sontag contra Norman Mailer</td>\n",
       "      <td>A feminista Susan Sontag contra Norman Mailer</td>\n",
       "      <td>A feminista Susan Sontag contra Norman Mailer</td>\n",
       "    </tr>\n",
       "    <tr>\n",
       "      <td>A feminista Susan Sontag contra Norman Mailer</td>\n",
       "      <td>O que a fama fez com Susan Boyle  a mulher que revolucionou a música  a televisão e as redes sociais</td>\n",
       "      <td>Não há ‘backlash’ provocado pelo feminismo</td>\n",
       "      <td>Não há ‘backlash’ provocado pelo feminismo</td>\n",
       "    </tr>\n",
       "    <tr>\n",
       "      <td>Atos pró e contra ditadura militar terminam em confrontos em São Paulo</td>\n",
       "      <td>Não há ‘backlash’ provocado pelo feminismo</td>\n",
       "      <td>O que a fama fez com Susan Boyle  a mulher que revolucionou a música  a televisão e as redes sociais</td>\n",
       "      <td>A ética da solidariedade feminista</td>\n",
       "    </tr>\n",
       "    <tr>\n",
       "      <td>Não há ‘backlash’ provocado pelo feminismo</td>\n",
       "      <td>As três espanholas do Estado Islâmico: “Só queremos ir embora”</td>\n",
       "      <td>A ética da solidariedade feminista</td>\n",
       "      <td>Igualdade radical</td>\n",
       "    </tr>\n",
       "    <tr>\n",
       "      <td>Boris Fausto e o golpe de 64: “É impossível ir contra fatos estabelecidos”</td>\n",
       "      <td>Quem mandou matar Marielle? E por quê?</td>\n",
       "      <td>Igualdade radical</td>\n",
       "      <td>O que a fama fez com Susan Boyle  a mulher que revolucionou a música  a televisão e as redes sociais</td>\n",
       "    </tr>\n",
       "  </tbody>\n",
       "</table>"
      ],
      "text/plain": [
       "<IPython.core.display.HTML object>"
      ]
     },
     "metadata": {},
     "output_type": "display_data"
    }
   ],
   "source": [
    "strategies = [binary_vsm,tf_vsm,tf_idf_vsm,bm25_vsm]\n",
    "columns = [\"Binary\",\"TF\",\"TF-IDF\",\"BM25(k=10)\"]\n",
    "k_values =[None,None,None,10]\n",
    "rows = []\n",
    "\n",
    "for idx in range(0,len(strategies)):\n",
    "    top_10 = get_n_best_docs(n=5, k=k_values[idx], docs=all_docs,index=inv_index,\n",
    "                             query=query3, strategy=strategies[idx])\n",
    "    \n",
    "    top_10 = list(reversed(top_10))\n",
    "    top_10 = [i[1] for i in top_10]\n",
    "    \n",
    "    rows.append(top_10)\n",
    "\n",
    "rst_q3 = rows\n",
    "pd.set_option('max_colwidth', -1)\n",
    "display(Markdown(\"##### Top 5 best docs by strategy for query3 (title)\"))\n",
    "display(HTML(pd.DataFrame(list(zip(*[list(map(lambda x: source.xs(x)['title'], el)) for el in rows])),\n",
    "                          columns=columns).to_html(index=False)))"
   ]
  },
  {
   "cell_type": "markdown",
   "metadata": {},
   "source": [
    "* Binary retrieved documents of little relevance (e.g. about Brazilian dictatorship)\n",
    "* The document of little relevance about Susan Boyle was featured by TF, TF-IDF and BM25(k=10)\n",
    "    + It was given a higher ranking by TF and TF-IDF than by BM25(k=10)\n",
    "    \n",
    "* Overall BM25(k=10) performed better"
   ]
  },
  {
   "cell_type": "code",
   "execution_count": 25,
   "metadata": {},
   "outputs": [
    {
     "data": {
      "text/markdown": [
       "##### Top 5 best docs by strategy for query3 (url)"
      ],
      "text/plain": [
       "<IPython.core.display.Markdown object>"
      ]
     },
     "metadata": {},
     "output_type": "display_data"
    },
    {
     "data": {
      "text/html": [
       "<table border=\"1\" class=\"dataframe\">\n",
       "  <thead>\n",
       "    <tr style=\"text-align: right;\">\n",
       "      <th>Binary</th>\n",
       "      <th>TF</th>\n",
       "      <th>TF-IDF</th>\n",
       "      <th>BM25(k=10)</th>\n",
       "    </tr>\n",
       "  </thead>\n",
       "  <tbody>\n",
       "    <tr>\n",
       "      <td>https://brasil.elpais.com/brasil/2019/03/01/opinion/1551471471_656137.html</td>\n",
       "      <td>https://brasil.elpais.com/brasil/2019/03/05/cultura/1551786137_303043.html</td>\n",
       "      <td>https://brasil.elpais.com/brasil/2019/03/05/cultura/1551786137_303043.html</td>\n",
       "      <td>https://brasil.elpais.com/brasil/2019/03/05/cultura/1551786137_303043.html</td>\n",
       "    </tr>\n",
       "    <tr>\n",
       "      <td>https://brasil.elpais.com/brasil/2019/03/05/cultura/1551786137_303043.html</td>\n",
       "      <td>https://brasil.elpais.com/brasil/2019/04/04/cultura/1554380845_480636.html</td>\n",
       "      <td>https://brasil.elpais.com/brasil/2019/03/07/opinion/1551994753_797742.html</td>\n",
       "      <td>https://brasil.elpais.com/brasil/2019/03/07/opinion/1551994753_797742.html</td>\n",
       "    </tr>\n",
       "    <tr>\n",
       "      <td>https://brasil.elpais.com/brasil/2019/04/01/politica/1554118634_296372.html</td>\n",
       "      <td>https://brasil.elpais.com/brasil/2019/03/07/opinion/1551994753_797742.html</td>\n",
       "      <td>https://brasil.elpais.com/brasil/2019/04/04/cultura/1554380845_480636.html</td>\n",
       "      <td>https://brasil.elpais.com/brasil/2019/03/01/opinion/1551471471_656137.html</td>\n",
       "    </tr>\n",
       "    <tr>\n",
       "      <td>https://brasil.elpais.com/brasil/2019/03/07/opinion/1551994753_797742.html</td>\n",
       "      <td>https://brasil.elpais.com/brasil/2019/04/03/internacional/1554297555_947058.html</td>\n",
       "      <td>https://brasil.elpais.com/brasil/2019/03/01/opinion/1551471471_656137.html</td>\n",
       "      <td>https://brasil.elpais.com/brasil/2019/03/07/opinion/1551972628_054337.html</td>\n",
       "    </tr>\n",
       "    <tr>\n",
       "      <td>https://brasil.elpais.com/brasil/2019/03/30/politica/1553984610_147330.html</td>\n",
       "      <td>https://brasil.elpais.com/brasil/2019/03/13/opinion/1552485039_897963.html</td>\n",
       "      <td>https://brasil.elpais.com/brasil/2019/03/07/opinion/1551972628_054337.html</td>\n",
       "      <td>https://brasil.elpais.com/brasil/2019/04/04/cultura/1554380845_480636.html</td>\n",
       "    </tr>\n",
       "  </tbody>\n",
       "</table>"
      ],
      "text/plain": [
       "<IPython.core.display.HTML object>"
      ]
     },
     "metadata": {},
     "output_type": "display_data"
    }
   ],
   "source": [
    "pd.set_option('max_colwidth', -1)\n",
    "display(Markdown(\"##### Top 5 best docs by strategy for query3 (url)\"))\n",
    "display(HTML(pd.DataFrame(list(zip(*[list(map(lambda x: source.xs(x)['url'], el)) for el in rows])),\n",
    "                          columns=columns).to_html(index=False)))"
   ]
  },
  {
   "cell_type": "markdown",
   "metadata": {},
   "source": [
    "* The articles themselves are consistent with the results gathered through their titles."
   ]
  },
  {
   "cell_type": "markdown",
   "metadata": {},
   "source": [
    "> All queries' results put together, **BM25(k=10)** *performed better than the other strategies* (retrieved the most relevant documents) "
   ]
  },
  {
   "cell_type": "code",
   "execution_count": 26,
   "metadata": {},
   "outputs": [],
   "source": [
    "def intersection(lst1, lst2): \n",
    "    return [value for value in lst1 if value in lst2] \n",
    "     \n",
    "def jaccard_index(A,B):\n",
    "    n_A = len(A)\n",
    "    n_B = len(B)\n",
    "    n_intxn = len(intersection(A,B))\n",
    "    return n_intxn/ ((n_A + n_B) - n_intxn)"
   ]
  },
  {
   "cell_type": "markdown",
   "metadata": {},
   "source": [
    "<br>\n",
    "\n",
    "***\n",
    "\n",
    "<br>\n",
    "\n",
    "## Similarity between strategies  (Jaccard Index)"
   ]
  },
  {
   "cell_type": "code",
   "execution_count": 27,
   "metadata": {},
   "outputs": [
    {
     "data": {
      "text/markdown": [
       "##### Jaccard Index among strategies (Query 1)"
      ],
      "text/plain": [
       "<IPython.core.display.Markdown object>"
      ]
     },
     "metadata": {},
     "output_type": "display_data"
    },
    {
     "data": {
      "text/html": [
       "<table border=\"1\" class=\"dataframe\">\n",
       "  <thead>\n",
       "    <tr style=\"text-align: right;\">\n",
       "      <th>target</th>\n",
       "      <th>Binary</th>\n",
       "      <th>TF</th>\n",
       "      <th>TF-IDF</th>\n",
       "      <th>BM25(k=10)</th>\n",
       "    </tr>\n",
       "  </thead>\n",
       "  <tbody>\n",
       "    <tr>\n",
       "      <td>Binary</td>\n",
       "      <td>1.000000</td>\n",
       "      <td>0.111111</td>\n",
       "      <td>0.250000</td>\n",
       "      <td>0.250000</td>\n",
       "    </tr>\n",
       "    <tr>\n",
       "      <td>TF</td>\n",
       "      <td>0.111111</td>\n",
       "      <td>1.000000</td>\n",
       "      <td>0.666667</td>\n",
       "      <td>0.428571</td>\n",
       "    </tr>\n",
       "    <tr>\n",
       "      <td>TF-IDF</td>\n",
       "      <td>0.250000</td>\n",
       "      <td>0.666667</td>\n",
       "      <td>1.000000</td>\n",
       "      <td>0.666667</td>\n",
       "    </tr>\n",
       "    <tr>\n",
       "      <td>BM25(k=10)</td>\n",
       "      <td>0.250000</td>\n",
       "      <td>0.428571</td>\n",
       "      <td>0.666667</td>\n",
       "      <td>1.000000</td>\n",
       "    </tr>\n",
       "  </tbody>\n",
       "</table>"
      ],
      "text/plain": [
       "<IPython.core.display.HTML object>"
      ]
     },
     "metadata": {},
     "output_type": "display_data"
    }
   ],
   "source": [
    "columns = [\"target\",\"Binary\",\"TF\",\"TF-IDF\",\"BM25(k=10)\"]\n",
    "target = [\"Binary\",\"TF\",\"TF-IDF\",\"BM25(k=10)\"]\n",
    "\n",
    "rows = []\n",
    "for idx, el in enumerate(rst_q1):\n",
    "    row = [jaccard_index(el,rst_q1[idx]) for el in rst_q1]\n",
    "    row = [target[idx]] + row\n",
    "    rows.append(tuple(row))\n",
    "\n",
    "display(Markdown(\"##### Jaccard Index among strategies (Query 1)\"))\n",
    "display(HTML(pd.DataFrame(rows,columns=columns).to_html(index=False)))"
   ]
  },
  {
   "cell_type": "markdown",
   "metadata": {},
   "source": [
    "* Binary results are not very similar to the results of the other strategies\n",
    "* TF-IDF results are moderately similar to those of BM25 and TF\n",
    "    + This make sense as this strategy is much like an intermediary stage between the other two"
   ]
  },
  {
   "cell_type": "code",
   "execution_count": 28,
   "metadata": {},
   "outputs": [
    {
     "data": {
      "text/markdown": [
       "##### Jaccard Index among strategies (Query 2)"
      ],
      "text/plain": [
       "<IPython.core.display.Markdown object>"
      ]
     },
     "metadata": {},
     "output_type": "display_data"
    },
    {
     "data": {
      "text/html": [
       "<table border=\"1\" class=\"dataframe\">\n",
       "  <thead>\n",
       "    <tr style=\"text-align: right;\">\n",
       "      <th>target</th>\n",
       "      <th>Binary</th>\n",
       "      <th>TF</th>\n",
       "      <th>TF-IDF</th>\n",
       "      <th>BM25(k=10)</th>\n",
       "    </tr>\n",
       "  </thead>\n",
       "  <tbody>\n",
       "    <tr>\n",
       "      <td>Binary</td>\n",
       "      <td>1.0</td>\n",
       "      <td>1.0</td>\n",
       "      <td>1.0</td>\n",
       "      <td>1.0</td>\n",
       "    </tr>\n",
       "    <tr>\n",
       "      <td>TF</td>\n",
       "      <td>1.0</td>\n",
       "      <td>1.0</td>\n",
       "      <td>1.0</td>\n",
       "      <td>1.0</td>\n",
       "    </tr>\n",
       "    <tr>\n",
       "      <td>TF-IDF</td>\n",
       "      <td>1.0</td>\n",
       "      <td>1.0</td>\n",
       "      <td>1.0</td>\n",
       "      <td>1.0</td>\n",
       "    </tr>\n",
       "    <tr>\n",
       "      <td>BM25(k=10)</td>\n",
       "      <td>1.0</td>\n",
       "      <td>1.0</td>\n",
       "      <td>1.0</td>\n",
       "      <td>1.0</td>\n",
       "    </tr>\n",
       "  </tbody>\n",
       "</table>"
      ],
      "text/plain": [
       "<IPython.core.display.HTML object>"
      ]
     },
     "metadata": {},
     "output_type": "display_data"
    }
   ],
   "source": [
    "columns = [\"target\",\"Binary\",\"TF\",\"TF-IDF\",\"BM25(k=10)\"]\n",
    "target = [\"Binary\",\"TF\",\"TF-IDF\",\"BM25(k=10)\"]\n",
    "\n",
    "rows = []\n",
    "for idx, el in enumerate(rst_q2):\n",
    "    row = [jaccard_index(el,rst_q2[idx]) for el in rst_q2]\n",
    "    row = [target[idx]] + row\n",
    "    rows.append(tuple(row))\n",
    "\n",
    "display(Markdown(\"##### Jaccard Index among strategies (Query 2)\"))\n",
    "display(HTML(pd.DataFrame(rows,columns=columns).to_html(index=False)))"
   ]
  },
  {
   "cell_type": "markdown",
   "metadata": {},
   "source": [
    "* As seen before, the results differ in terms of which document occupies which position in the rank\n",
    "    + Jaccard Index doesn't represent this information and for this reason all strategies are identical according to it"
   ]
  },
  {
   "cell_type": "code",
   "execution_count": 29,
   "metadata": {},
   "outputs": [
    {
     "data": {
      "text/markdown": [
       "##### Jaccard Index among strategies (Query 3)"
      ],
      "text/plain": [
       "<IPython.core.display.Markdown object>"
      ]
     },
     "metadata": {},
     "output_type": "display_data"
    },
    {
     "data": {
      "text/html": [
       "<table border=\"1\" class=\"dataframe\">\n",
       "  <thead>\n",
       "    <tr style=\"text-align: right;\">\n",
       "      <th>target</th>\n",
       "      <th>Binary</th>\n",
       "      <th>TF</th>\n",
       "      <th>TF-IDF</th>\n",
       "      <th>BM25(k=10)</th>\n",
       "    </tr>\n",
       "  </thead>\n",
       "  <tbody>\n",
       "    <tr>\n",
       "      <td>Binary</td>\n",
       "      <td>1.000000</td>\n",
       "      <td>0.250000</td>\n",
       "      <td>0.428571</td>\n",
       "      <td>0.428571</td>\n",
       "    </tr>\n",
       "    <tr>\n",
       "      <td>TF</td>\n",
       "      <td>0.250000</td>\n",
       "      <td>1.000000</td>\n",
       "      <td>0.428571</td>\n",
       "      <td>0.428571</td>\n",
       "    </tr>\n",
       "    <tr>\n",
       "      <td>TF-IDF</td>\n",
       "      <td>0.428571</td>\n",
       "      <td>0.428571</td>\n",
       "      <td>1.000000</td>\n",
       "      <td>1.000000</td>\n",
       "    </tr>\n",
       "    <tr>\n",
       "      <td>BM25(k=10)</td>\n",
       "      <td>0.428571</td>\n",
       "      <td>0.428571</td>\n",
       "      <td>1.000000</td>\n",
       "      <td>1.000000</td>\n",
       "    </tr>\n",
       "  </tbody>\n",
       "</table>"
      ],
      "text/plain": [
       "<IPython.core.display.HTML object>"
      ]
     },
     "metadata": {},
     "output_type": "display_data"
    }
   ],
   "source": [
    "columns = [\"target\",\"Binary\",\"TF\",\"TF-IDF\",\"BM25(k=10)\"]\n",
    "target = [\"Binary\",\"TF\",\"TF-IDF\",\"BM25(k=10)\"]\n",
    "\n",
    "rows = []\n",
    "for idx, el in enumerate(rst_q3):\n",
    "    row = [jaccard_index(el,rst_q3[idx]) for el in rst_q3]\n",
    "    row = [target[idx]] + row\n",
    "    rows.append(tuple(row))\n",
    "\n",
    "display(Markdown(\"##### Jaccard Index among strategies (Query 3)\"))\n",
    "display(HTML(pd.DataFrame(rows,columns=columns).to_html(index=False)))"
   ]
  },
  {
   "cell_type": "markdown",
   "metadata": {},
   "source": [
    "* TF-IDF and BM25(k=10)\tare identical in terms of Jaccard Index\n",
    "    + Once again, Jaccard disregard ranking order\n",
    "+ Binary and TF are equaly similar to TF-IDF/BM25(k=10)\n",
    "    + Binary and TF however are even less similar to each other"
   ]
  },
  {
   "cell_type": "markdown",
   "metadata": {},
   "source": [
    "> Using Jaccard Index we lose the information of which documents occupy which position in the rank (quite important, come to think of it), see the case of Query 2 for instance. \n",
    "\n",
    "> Overall the Binary VSM's results differed quite a lot from the rest, this is a reflect of all the information this particular implementation disregards."
   ]
  },
  {
   "cell_type": "markdown",
   "metadata": {},
   "source": [
    "<br>\n",
    "\n",
    "***\n",
    "\n",
    "<br>\n",
    "    \n",
    "## Summary\n",
    "\n",
    "<br>\n",
    "\n",
    "> An increase in K meant improvement in BM25's results (up to a point) for this particular collection\n",
    "\n",
    "> BM25 with k=10 had the best overall results for the 3 queries considered in this report\n",
    "\n",
    "> Jaccard Index showed that Binary was less similar to the other implementations, which might be attributed to its naivety"
   ]
  }
 ],
 "metadata": {
  "kernelspec": {
   "display_name": "Python 3",
   "language": "python",
   "name": "python3"
  },
  "language_info": {
   "codemirror_mode": {
    "name": "ipython",
    "version": 3
   },
   "file_extension": ".py",
   "mimetype": "text/x-python",
   "name": "python",
   "nbconvert_exporter": "python",
   "pygments_lexer": "ipython3",
   "version": "3.7.0"
  }
 },
 "nbformat": 4,
 "nbformat_minor": 2
}
