{
 "cells": [
  {
   "cell_type": "markdown",
   "metadata": {},
   "source": [
    "# Building an index"
   ]
  },
  {
   "cell_type": "code",
   "execution_count": 300,
   "metadata": {},
   "outputs": [
    {
     "data": {
      "text/html": [
       "<script>\n",
       "code_show=true; \n",
       "function code_toggle() {\n",
       " if (code_show){\n",
       " $('div.input').hide();\n",
       " } else {\n",
       " $('div.input').show();\n",
       " }\n",
       " code_show = !code_show\n",
       "} \n",
       "$( document ).ready(code_toggle);\n",
       "</script>\n",
       "<form action=\"javascript:code_toggle()\"><input type=\"submit\" value=\"Click here to toggle on/off the raw code.\"></form>"
      ],
      "text/plain": [
       "<IPython.core.display.HTML object>"
      ]
     },
     "execution_count": 300,
     "metadata": {},
     "output_type": "execute_result"
    }
   ],
   "source": [
    "from IPython.display import HTML\n",
    "\n",
    "HTML('''<script>\n",
    "code_show=true; \n",
    "function code_toggle() {\n",
    " if (code_show){\n",
    " $('div.input').hide();\n",
    " } else {\n",
    " $('div.input').show();\n",
    " }\n",
    " code_show = !code_show\n",
    "} \n",
    "$( document ).ready(code_toggle);\n",
    "</script>\n",
    "<form action=\"javascript:code_toggle()\"><input type=\"submit\" value=\"Click here to toggle on/off the raw code.\"></form>''')"
   ]
  },
  {
   "cell_type": "code",
   "execution_count": 326,
   "metadata": {},
   "outputs": [],
   "source": [
    "from functools import reduce\n",
    "from ast import literal_eval\n",
    "from math import log10\n",
    "import re\n",
    "\n",
    "#import nltk\n",
    "#nltk.download('punkt')\n",
    "#nltk.download('stopwords')\n",
    "\n",
    "import pandas as pd\n",
    "from plotnine import *\n",
    "from numpy import arange\n",
    "from nltk.util import ngrams    \n",
    "from nltk.corpus import stopwords\n",
    "from nltk import FreqDist, word_tokenize, stem\n",
    "from IPython.display import Markdown, display, HTML\n",
    "\n",
    "%matplotlib inline\n",
    "default_stopwords = set(stopwords.words('portuguese'))\n",
    "pd.reset_option('^display.', silent=True)"
   ]
  },
  {
   "cell_type": "code",
   "execution_count": 2,
   "metadata": {},
   "outputs": [],
   "source": [
    "def split_spread_words(words, delim):\n",
    "\n",
    "    \"\"\" Split then spread alpha word with certain delimiters.\n",
    "\n",
    "    Split words with alphabetical characters that have certain \n",
    "    delimiters then spread the resulting words across the corpus.\n",
    "\n",
    "    :param list corpus: list of words.\n",
    "    :param str delim: target delimiter.\n",
    "\n",
    "    :return: updated list of words \n",
    "\n",
    "    :rtype: list\n",
    "    \"\"\"\n",
    "    \n",
    "    new_words = []\n",
    "    for word in words:\n",
    "        if any(c.isalnum() for c in word):\n",
    "            new_words.extend(word.split(delim))\n",
    "        else:\n",
    "            new_words.append(word)\n",
    "\n",
    "    return new_words\n",
    "\n",
    "\n",
    "def melt_merge_zipf_dfs(df_orig, df_stem, data_grain):\n",
    "\n",
    "    \"\"\" Melt then merge zipf stats dfs with and without stemming.\n",
    "\n",
    "    Melt two dfs containing zipf statistics generated with and\n",
    "    without stemming and merge both into a single dataframe.\n",
    "    \n",
    "    :param pandas.core.frame.DataFrame df_orig: zipf df without stemming.\n",
    "    :param pandas.core.frame.DataFrame dif_stem: zipf df with stemming\n",
    "    :param str data_gram: name of the n-gram (e.g bigram).\n",
    "\n",
    "    :return: resulting df containing both given dfs. \n",
    "\n",
    "    :rtype: pandas.core.frame.DataFrame\n",
    "    \"\"\"\n",
    "    \n",
    "    melt_df_orig = df_orig.melt(id_vars=[data_grain, 'Freq.','ln(Pr)'], var_name = \"ranking\",\n",
    "                          value_vars=['ln(r)', 'ln(pred_r)'])\n",
    "    melt_df_orig[\"stemming\"] = \"no_stemming\"\n",
    "    \n",
    "    melt_df_stem = df_stem.melt(id_vars=[data_grain, 'Freq.','ln(Pr)'], var_name = \"ranking\",\n",
    "                               value_vars=['ln(r)', 'ln(pred_r)'])\n",
    "    melt_df_stem[\"stemming\"] = \"stemming\"\n",
    "\n",
    "\n",
    "    melt_df = pd.concat([melt_df_orig, melt_df_stem])\n",
    "\n",
    "    return melt_df"
   ]
  },
  {
   "cell_type": "markdown",
   "metadata": {},
   "source": [
    "## Load Data"
   ]
  },
  {
   "cell_type": "code",
   "execution_count": 327,
   "metadata": {},
   "outputs": [
    {
     "data": {
      "text/html": [
       "<div>\n",
       "<style scoped>\n",
       "    .dataframe tbody tr th:only-of-type {\n",
       "        vertical-align: middle;\n",
       "    }\n",
       "\n",
       "    .dataframe tbody tr th {\n",
       "        vertical-align: top;\n",
       "    }\n",
       "\n",
       "    .dataframe thead th {\n",
       "        text-align: right;\n",
       "    }\n",
       "</style>\n",
       "<table border=\"1\" class=\"dataframe\">\n",
       "  <thead>\n",
       "    <tr style=\"text-align: right;\">\n",
       "      <th></th>\n",
       "      <th>title</th>\n",
       "      <th>subtitle</th>\n",
       "      <th>author</th>\n",
       "      <th>date</th>\n",
       "      <th>section</th>\n",
       "      <th>text</th>\n",
       "      <th>url</th>\n",
       "    </tr>\n",
       "  </thead>\n",
       "  <tbody>\n",
       "    <tr>\n",
       "      <th>0</th>\n",
       "      <td>“A sociedade foi Rubens Paiva  não os facínora...</td>\n",
       "      <td>A decisão da juíza que proíbe as Forças Armada...</td>\n",
       "      <td>F. M.</td>\n",
       "      <td>30/03/2019 00:11:08</td>\n",
       "      <td>Brasil</td>\n",
       "      <td>A juíza federal Ivani Silva da Luz  de Brasíli...</td>\n",
       "      <td>https://brasil.elpais.com/brasil/2019/03/26/po...</td>\n",
       "    </tr>\n",
       "    <tr>\n",
       "      <th>1</th>\n",
       "      <td>Justiça suspende decisão que proibia Forças Ar...</td>\n",
       "      <td>Liminar havia sido concedida na sexta-feira a ...</td>\n",
       "      <td>Marina Rossi</td>\n",
       "      <td>30/03/2019 16:17:59</td>\n",
       "      <td>Brasil</td>\n",
       "      <td>Menos de 24 horas depois de a juíza federal Iv...</td>\n",
       "      <td>https://brasil.elpais.com/brasil/2019/03/30/po...</td>\n",
       "    </tr>\n",
       "    <tr>\n",
       "      <th>2</th>\n",
       "      <td>Governo Bolsonaro prega “negacionismo históric...</td>\n",
       "      <td>Marcos Napolitano  professor da USP  diz que o...</td>\n",
       "      <td>Regiane Oliveira</td>\n",
       "      <td>04/04/2019 22:37:48</td>\n",
       "      <td>Brasil</td>\n",
       "      <td>Quando  determinou que  de 31 de março 1964  u...</td>\n",
       "      <td>https://brasil.elpais.com/brasil/2019/04/05/po...</td>\n",
       "    </tr>\n",
       "    <tr>\n",
       "      <th>3</th>\n",
       "      <td>Quando os pais de Gabo perceberam que tinham u...</td>\n",
       "      <td>Gustavo Tatis percorre o universo de García Má...</td>\n",
       "      <td>Jesús Ruiz Mantilla</td>\n",
       "      <td>07/03/2019 16:38:56</td>\n",
       "      <td>Cultura</td>\n",
       "      <td>Quando  era pequeno   Luisa e  Gabriel se preo...</td>\n",
       "      <td>https://brasil.elpais.com/brasil/2019/03/06/cu...</td>\n",
       "    </tr>\n",
       "    <tr>\n",
       "      <th>4</th>\n",
       "      <td>Rádios canadenses banem músicas de Michael Jac...</td>\n",
       "      <td>Quebec Cogeco Media toma a decisão após queixa...</td>\n",
       "      <td>Jaime Porras Ferreyra</td>\n",
       "      <td>07/03/2019 16:12:37</td>\n",
       "      <td>Cultura</td>\n",
       "      <td>Desde a manhã da última segunda-feira     e   ...</td>\n",
       "      <td>https://brasil.elpais.com/brasil/2019/03/06/cu...</td>\n",
       "    </tr>\n",
       "  </tbody>\n",
       "</table>\n",
       "</div>"
      ],
      "text/plain": [
       "                                               title  \\\n",
       "0  “A sociedade foi Rubens Paiva  não os facínora...   \n",
       "1  Justiça suspende decisão que proibia Forças Ar...   \n",
       "2  Governo Bolsonaro prega “negacionismo históric...   \n",
       "3  Quando os pais de Gabo perceberam que tinham u...   \n",
       "4  Rádios canadenses banem músicas de Michael Jac...   \n",
       "\n",
       "                                            subtitle                 author  \\\n",
       "0  A decisão da juíza que proíbe as Forças Armada...                  F. M.   \n",
       "1  Liminar havia sido concedida na sexta-feira a ...           Marina Rossi   \n",
       "2  Marcos Napolitano  professor da USP  diz que o...       Regiane Oliveira   \n",
       "3  Gustavo Tatis percorre o universo de García Má...    Jesús Ruiz Mantilla   \n",
       "4  Quebec Cogeco Media toma a decisão após queixa...  Jaime Porras Ferreyra   \n",
       "\n",
       "                  date  section  \\\n",
       "0  30/03/2019 00:11:08   Brasil   \n",
       "1  30/03/2019 16:17:59   Brasil   \n",
       "2  04/04/2019 22:37:48   Brasil   \n",
       "3  07/03/2019 16:38:56  Cultura   \n",
       "4  07/03/2019 16:12:37  Cultura   \n",
       "\n",
       "                                                text  \\\n",
       "0  A juíza federal Ivani Silva da Luz  de Brasíli...   \n",
       "1  Menos de 24 horas depois de a juíza federal Iv...   \n",
       "2  Quando  determinou que  de 31 de março 1964  u...   \n",
       "3  Quando  era pequeno   Luisa e  Gabriel se preo...   \n",
       "4  Desde a manhã da última segunda-feira     e   ...   \n",
       "\n",
       "                                                 url  \n",
       "0  https://brasil.elpais.com/brasil/2019/03/26/po...  \n",
       "1  https://brasil.elpais.com/brasil/2019/03/30/po...  \n",
       "2  https://brasil.elpais.com/brasil/2019/04/05/po...  \n",
       "3  https://brasil.elpais.com/brasil/2019/03/06/cu...  \n",
       "4  https://brasil.elpais.com/brasil/2019/03/06/cu...  "
      ]
     },
     "execution_count": 327,
     "metadata": {},
     "output_type": "execute_result"
    }
   ],
   "source": [
    "data = pd.read_csv(\"../output/results.csv\")\n",
    "data.head()"
   ]
  },
  {
   "cell_type": "markdown",
   "metadata": {},
   "source": [
    "### Tokenize and Filter text"
   ]
  },
  {
   "cell_type": "code",
   "execution_count": 328,
   "metadata": {},
   "outputs": [],
   "source": [
    "data[\"words\"] = data[\"text\"].apply(lambda x: word_tokenize(x))\n",
    "\n",
    "# Remove words that don't have at least one alphabetical character \n",
    "data[\"words\"] = data[\"words\"].apply(lambda words: list((word for word in words if any(c.isalnum() for c in word))))\n",
    "\n",
    "# Remove hyphen at end of word\n",
    "data[\"words\"] = data[\"words\"].apply(lambda words: list(word[:-1] if word[-1] == '-' else word for word in words))\n",
    "\n",
    "# Split words joined by en dash\n",
    "data[\"words\"] = data[\"words\"].apply(lambda words: list(word for line in words for word in line.split('–')))\n",
    "# different encoding \n",
    "data[\"words\"] = data[\"words\"].apply(lambda words: list(word for line in words for word in line.split('—')))\n",
    "\n",
    "# Split words joined by dot if they are alphabetical\n",
    "data[\"words\"] = data[\"words\"].apply(lambda words: split_spread_words(words, '.'))\n",
    "\n",
    "# Remove lone punctuation from the splits\n",
    "data[\"words\"] = data[\"words\"].apply(lambda words: list(word for word in words if any(c.isalnum() for c in word)))\n",
    "\n",
    "# Remove stopwords\n",
    "data[\"words\"] = data[\"words\"].apply(lambda words: list(word for word in words if word.lower() not in default_stopwords))"
   ]
  },
  {
   "cell_type": "code",
   "execution_count": 329,
   "metadata": {},
   "outputs": [
    {
     "data": {
      "text/html": [
       "<div>\n",
       "<style scoped>\n",
       "    .dataframe tbody tr th:only-of-type {\n",
       "        vertical-align: middle;\n",
       "    }\n",
       "\n",
       "    .dataframe tbody tr th {\n",
       "        vertical-align: top;\n",
       "    }\n",
       "\n",
       "    .dataframe thead th {\n",
       "        text-align: right;\n",
       "    }\n",
       "</style>\n",
       "<table border=\"1\" class=\"dataframe\">\n",
       "  <thead>\n",
       "    <tr style=\"text-align: right;\">\n",
       "      <th></th>\n",
       "      <th>title</th>\n",
       "      <th>subtitle</th>\n",
       "      <th>author</th>\n",
       "      <th>date</th>\n",
       "      <th>section</th>\n",
       "      <th>text</th>\n",
       "      <th>url</th>\n",
       "      <th>words</th>\n",
       "    </tr>\n",
       "  </thead>\n",
       "  <tbody>\n",
       "    <tr>\n",
       "      <th>0</th>\n",
       "      <td>“A sociedade foi Rubens Paiva  não os facínora...</td>\n",
       "      <td>A decisão da juíza que proíbe as Forças Armada...</td>\n",
       "      <td>F. M.</td>\n",
       "      <td>30/03/2019 00:11:08</td>\n",
       "      <td>Brasil</td>\n",
       "      <td>A juíza federal Ivani Silva da Luz  de Brasíli...</td>\n",
       "      <td>https://brasil.elpais.com/brasil/2019/03/26/po...</td>\n",
       "      <td>[juíza, federal, Ivani, Silva, Luz, Brasília, ...</td>\n",
       "    </tr>\n",
       "    <tr>\n",
       "      <th>1</th>\n",
       "      <td>Justiça suspende decisão que proibia Forças Ar...</td>\n",
       "      <td>Liminar havia sido concedida na sexta-feira a ...</td>\n",
       "      <td>Marina Rossi</td>\n",
       "      <td>30/03/2019 16:17:59</td>\n",
       "      <td>Brasil</td>\n",
       "      <td>Menos de 24 horas depois de a juíza federal Iv...</td>\n",
       "      <td>https://brasil.elpais.com/brasil/2019/03/30/po...</td>\n",
       "      <td>[Menos, 24, horas, juíza, federal, Ivani, Silv...</td>\n",
       "    </tr>\n",
       "    <tr>\n",
       "      <th>2</th>\n",
       "      <td>Governo Bolsonaro prega “negacionismo históric...</td>\n",
       "      <td>Marcos Napolitano  professor da USP  diz que o...</td>\n",
       "      <td>Regiane Oliveira</td>\n",
       "      <td>04/04/2019 22:37:48</td>\n",
       "      <td>Brasil</td>\n",
       "      <td>Quando  determinou que  de 31 de março 1964  u...</td>\n",
       "      <td>https://brasil.elpais.com/brasil/2019/04/05/po...</td>\n",
       "      <td>[determinou, 31, março, 1964, estratégia, polê...</td>\n",
       "    </tr>\n",
       "    <tr>\n",
       "      <th>3</th>\n",
       "      <td>Quando os pais de Gabo perceberam que tinham u...</td>\n",
       "      <td>Gustavo Tatis percorre o universo de García Má...</td>\n",
       "      <td>Jesús Ruiz Mantilla</td>\n",
       "      <td>07/03/2019 16:38:56</td>\n",
       "      <td>Cultura</td>\n",
       "      <td>Quando  era pequeno   Luisa e  Gabriel se preo...</td>\n",
       "      <td>https://brasil.elpais.com/brasil/2019/03/06/cu...</td>\n",
       "      <td>[pequeno, Luisa, Gabriel, preocupavam, menino,...</td>\n",
       "    </tr>\n",
       "    <tr>\n",
       "      <th>4</th>\n",
       "      <td>Rádios canadenses banem músicas de Michael Jac...</td>\n",
       "      <td>Quebec Cogeco Media toma a decisão após queixa...</td>\n",
       "      <td>Jaime Porras Ferreyra</td>\n",
       "      <td>07/03/2019 16:12:37</td>\n",
       "      <td>Cultura</td>\n",
       "      <td>Desde a manhã da última segunda-feira     e   ...</td>\n",
       "      <td>https://brasil.elpais.com/brasil/2019/03/06/cu...</td>\n",
       "      <td>[Desde, manhã, última, segunda-feira, sucessos...</td>\n",
       "    </tr>\n",
       "  </tbody>\n",
       "</table>\n",
       "</div>"
      ],
      "text/plain": [
       "                                               title  \\\n",
       "0  “A sociedade foi Rubens Paiva  não os facínora...   \n",
       "1  Justiça suspende decisão que proibia Forças Ar...   \n",
       "2  Governo Bolsonaro prega “negacionismo históric...   \n",
       "3  Quando os pais de Gabo perceberam que tinham u...   \n",
       "4  Rádios canadenses banem músicas de Michael Jac...   \n",
       "\n",
       "                                            subtitle                 author  \\\n",
       "0  A decisão da juíza que proíbe as Forças Armada...                  F. M.   \n",
       "1  Liminar havia sido concedida na sexta-feira a ...           Marina Rossi   \n",
       "2  Marcos Napolitano  professor da USP  diz que o...       Regiane Oliveira   \n",
       "3  Gustavo Tatis percorre o universo de García Má...    Jesús Ruiz Mantilla   \n",
       "4  Quebec Cogeco Media toma a decisão após queixa...  Jaime Porras Ferreyra   \n",
       "\n",
       "                  date  section  \\\n",
       "0  30/03/2019 00:11:08   Brasil   \n",
       "1  30/03/2019 16:17:59   Brasil   \n",
       "2  04/04/2019 22:37:48   Brasil   \n",
       "3  07/03/2019 16:38:56  Cultura   \n",
       "4  07/03/2019 16:12:37  Cultura   \n",
       "\n",
       "                                                text  \\\n",
       "0  A juíza federal Ivani Silva da Luz  de Brasíli...   \n",
       "1  Menos de 24 horas depois de a juíza federal Iv...   \n",
       "2  Quando  determinou que  de 31 de março 1964  u...   \n",
       "3  Quando  era pequeno   Luisa e  Gabriel se preo...   \n",
       "4  Desde a manhã da última segunda-feira     e   ...   \n",
       "\n",
       "                                                 url  \\\n",
       "0  https://brasil.elpais.com/brasil/2019/03/26/po...   \n",
       "1  https://brasil.elpais.com/brasil/2019/03/30/po...   \n",
       "2  https://brasil.elpais.com/brasil/2019/04/05/po...   \n",
       "3  https://brasil.elpais.com/brasil/2019/03/06/cu...   \n",
       "4  https://brasil.elpais.com/brasil/2019/03/06/cu...   \n",
       "\n",
       "                                               words  \n",
       "0  [juíza, federal, Ivani, Silva, Luz, Brasília, ...  \n",
       "1  [Menos, 24, horas, juíza, federal, Ivani, Silv...  \n",
       "2  [determinou, 31, março, 1964, estratégia, polê...  \n",
       "3  [pequeno, Luisa, Gabriel, preocupavam, menino,...  \n",
       "4  [Desde, manhã, última, segunda-feira, sucessos...  "
      ]
     },
     "execution_count": 329,
     "metadata": {},
     "output_type": "execute_result"
    }
   ],
   "source": [
    "data.head()"
   ]
  },
  {
   "cell_type": "markdown",
   "metadata": {},
   "source": [
    "## Inverted Index with Frequency"
   ]
  },
  {
   "cell_type": "code",
   "execution_count": 330,
   "metadata": {},
   "outputs": [],
   "source": [
    "inverted_index = {} \n",
    "for doc_id, text in enumerate(data[\"words\"]):\n",
    "    fdist = FreqDist(text)\n",
    "    for word in fdist:\n",
    "        freq = fdist[word]\n",
    "        if word not in inverted_index:\n",
    "            inverted_index[word] = []\n",
    "        \n",
    "        inverted_index[word].append((doc_id,freq))           "
   ]
  },
  {
   "cell_type": "code",
   "execution_count": 331,
   "metadata": {},
   "outputs": [
    {
     "data": {
      "text/markdown": [
       "***"
      ],
      "text/plain": [
       "<IPython.core.display.Markdown object>"
      ]
     },
     "metadata": {},
     "output_type": "display_data"
    },
    {
     "data": {
      "text/markdown": [
       "### Resulting Inverted Index"
      ],
      "text/plain": [
       "<IPython.core.display.Markdown object>"
      ]
     },
     "metadata": {},
     "output_type": "display_data"
    },
    {
     "data": {
      "text/html": [
       "<table border=\"1\" class=\"dataframe\">\n",
       "  <thead>\n",
       "    <tr style=\"text-align: right;\">\n",
       "      <th>word</th>\n",
       "      <th>doc_id:freq</th>\n",
       "    </tr>\n",
       "  </thead>\n",
       "  <tbody>\n",
       "    <tr>\n",
       "      <td>recrudesceu</td>\n",
       "      <td>[(150, 1)]</td>\n",
       "    </tr>\n",
       "    <tr>\n",
       "      <td>finalizá-lo</td>\n",
       "      <td>[(197, 1)]</td>\n",
       "    </tr>\n",
       "    <tr>\n",
       "      <td>acelerada</td>\n",
       "      <td>[(23, 1), (165, 1)]</td>\n",
       "    </tr>\n",
       "    <tr>\n",
       "      <td>massas</td>\n",
       "      <td>[(164, 1), (188, 1), (195, 1)]</td>\n",
       "    </tr>\n",
       "    <tr>\n",
       "      <td>exportação</td>\n",
       "      <td>[(86, 1), (95, 1), (126, 1)]</td>\n",
       "    </tr>\n",
       "    <tr>\n",
       "      <td>Rosangela</td>\n",
       "      <td>[(58, 1), (155, 1)]</td>\n",
       "    </tr>\n",
       "    <tr>\n",
       "      <td>dominaram</td>\n",
       "      <td>[(73, 1)]</td>\n",
       "    </tr>\n",
       "    <tr>\n",
       "      <td>garantir</td>\n",
       "      <td>[(6, 1), (18, 1), (21, 1), (35, 1), (75, 1), (...</td>\n",
       "    </tr>\n",
       "    <tr>\n",
       "      <td>elucidado</td>\n",
       "      <td>[(150, 1)]</td>\n",
       "    </tr>\n",
       "    <tr>\n",
       "      <td>Nación</td>\n",
       "      <td>[(132, 1)]</td>\n",
       "    </tr>\n",
       "    <tr>\n",
       "      <td>homem</td>\n",
       "      <td>[(3, 1), (7, 1), (8, 3), (13, 2), (17, 1), (18...</td>\n",
       "    </tr>\n",
       "    <tr>\n",
       "      <td>carro</td>\n",
       "      <td>[(124, 1), (135, 1), (149, 1), (163, 1), (195,...</td>\n",
       "    </tr>\n",
       "    <tr>\n",
       "      <td>reconhecido</td>\n",
       "      <td>[(87, 1), (97, 1), (104, 1), (150, 1), (165, 2...</td>\n",
       "    </tr>\n",
       "    <tr>\n",
       "      <td>financiado</td>\n",
       "      <td>[(28, 1)]</td>\n",
       "    </tr>\n",
       "    <tr>\n",
       "      <td>esculpidos</td>\n",
       "      <td>[(163, 1)]</td>\n",
       "    </tr>\n",
       "  </tbody>\n",
       "</table>"
      ],
      "text/plain": [
       "<IPython.core.display.HTML object>"
      ]
     },
     "metadata": {},
     "output_type": "display_data"
    },
    {
     "data": {
      "text/markdown": [
       "***"
      ],
      "text/plain": [
       "<IPython.core.display.Markdown object>"
      ]
     },
     "metadata": {},
     "output_type": "display_data"
    }
   ],
   "source": [
    "rows = []\n",
    "columns = [\"word\",\"doc_id:freq\"]\n",
    "for word in inverted_index:\n",
    "    row = [word, inverted_index[word]]\n",
    "    rows.append(row)\n",
    "\n",
    "index_df = pd.DataFrame(rows, columns=columns)\n",
    "display(Markdown(\"***\"))\n",
    "display(Markdown(\"### Resulting Inverted Index\"))\n",
    "display(HTML(index_df.sample(15).to_html(index=False)))\n",
    "display(Markdown(\"***\"))"
   ]
  },
  {
   "cell_type": "code",
   "execution_count": 8,
   "metadata": {},
   "outputs": [],
   "source": [
    "# index_df.to_csv(\"../output/inverted_index.csv\", index=False)"
   ]
  },
  {
   "cell_type": "markdown",
   "metadata": {},
   "source": [
    "# Retrieval Approaches"
   ]
  },
  {
   "cell_type": "markdown",
   "metadata": {},
   "source": [
    "## Implementation"
   ]
  },
  {
   "cell_type": "markdown",
   "metadata": {},
   "source": [
    "### Document At A Time Retrieval"
   ]
  },
  {
   "cell_type": "code",
   "execution_count": 347,
   "metadata": {},
   "outputs": [],
   "source": [
    "def retrieve_by_doc(index, query, k):\n",
    "    try:\n",
    "        import Queue as Q  # ver. < 3.0\n",
    "    except ImportError:\n",
    "        import queue as Q\n",
    "\n",
    "    result = []\n",
    "    q = Q.PriorityQueue()\n",
    "    L = index.loc[lambda df: df.word.isin(query)]\n",
    "\n",
    "    all_docs = set(index[\"doc_id:freq\"].\\\n",
    "                   apply(lambda pairs: list(doc_id for doc_id, freq in pairs)).sum())\n",
    "    \n",
    "    base_documents = L[\"doc_id:freq\"].sum()\n",
    "    \n",
    "    for doc in all_docs:\n",
    "        score = base_documents\n",
    "        \n",
    "        if score == 0:\n",
    "            pass\n",
    "        \n",
    "        elif score == []:\n",
    "            score = 0\n",
    "        else:\n",
    "            score = [fq for d_id, fq in score if d_id == doc]\n",
    "            if score != []:\n",
    "                score = reduce(lambda a,b : a+b,score)\n",
    "            else:\n",
    "                score = 0\n",
    "                \n",
    "        q.put(((-1) * score,doc))\n",
    "    \n",
    "    i = 0\n",
    "    while not q.empty() and i < k:\n",
    "        pair = q.get()\n",
    "        pair = ((-1) *pair[0],pair[1])\n",
    "        if pair[0] > 0:\n",
    "            result.append(pair)\n",
    "        i += 1\n",
    "        \n",
    "    return result"
   ]
  },
  {
   "cell_type": "markdown",
   "metadata": {},
   "source": [
    "### Term At A Time Retrieval"
   ]
  },
  {
   "cell_type": "code",
   "execution_count": 346,
   "metadata": {},
   "outputs": [],
   "source": [
    "def retrieve_by_term(index, query, k):\n",
    "    try:\n",
    "        import Queue as Q  # ver. < 3.0\n",
    "    except ImportError:\n",
    "        import queue as Q\n",
    "\n",
    "    A = {}\n",
    "    result = []\n",
    "    R = Q.PriorityQueue()\n",
    "    q = Q.PriorityQueue()\n",
    "    L = index.loc[lambda df: df.word.isin(query)]\n",
    "    \n",
    "    if not L.empty: \n",
    "        for doc_id, freq in L[\"doc_id:freq\"].sum():\n",
    "            if doc_id not in A:\n",
    "                A[doc_id] = 0\n",
    "\n",
    "            A[doc_id] += freq\n",
    "\n",
    "        for doc_id, score in A.items():\n",
    "            q.put(((-1) * score,doc_id))    \n",
    "\n",
    "        i = 0\n",
    "        while not q.empty() and i < k:\n",
    "            pair = q.get()\n",
    "            pair = ((-1) *pair[0],pair[1])\n",
    "            result.append(pair)\n",
    "            i += 1\n",
    "    \n",
    "    return result"
   ]
  },
  {
   "cell_type": "markdown",
   "metadata": {},
   "source": [
    "## Placing some queries"
   ]
  },
  {
   "cell_type": "markdown",
   "metadata": {},
   "source": [
    "Let's place 5 queries to each algorithm (with k = 10)"
   ]
  },
  {
   "cell_type": "code",
   "execution_count": 11,
   "metadata": {},
   "outputs": [],
   "source": [
    "k = 10"
   ]
  },
  {
   "cell_type": "code",
   "execution_count": 348,
   "metadata": {},
   "outputs": [],
   "source": [
    "queries_df = pd.DataFrame([\"criativo\",\"Instagram\",\"reprodução\",\"real\",\"hostil\"],columns=[\"word\"])\n",
    "queries_df[\"word\"] = queries_df[\"word\"].apply(lambda x: [x])\n",
    "queries_df[\"by_doc\"] = queries_df[\"word\"].apply(lambda w: retrieve_by_doc(index_df, w, k))\n",
    "queries_df[\"by_term\"] = queries_df[\"word\"].apply(lambda w: retrieve_by_term(index_df, w, k))"
   ]
  },
  {
   "cell_type": "code",
   "execution_count": 349,
   "metadata": {},
   "outputs": [
    {
     "data": {
      "text/markdown": [
       "***"
      ],
      "text/plain": [
       "<IPython.core.display.Markdown object>"
      ]
     },
     "metadata": {},
     "output_type": "display_data"
    },
    {
     "data": {
      "text/markdown": [
       "### Result by Algorithm"
      ],
      "text/plain": [
       "<IPython.core.display.Markdown object>"
      ]
     },
     "metadata": {},
     "output_type": "display_data"
    },
    {
     "data": {
      "text/html": [
       "<table border=\"1\" class=\"dataframe\">\n",
       "  <thead>\n",
       "    <tr style=\"text-align: right;\">\n",
       "      <th>word</th>\n",
       "      <th>by_doc</th>\n",
       "      <th>by_term</th>\n",
       "    </tr>\n",
       "  </thead>\n",
       "  <tbody>\n",
       "    <tr>\n",
       "      <td>[criativo]</td>\n",
       "      <td>[(2, 35), (1, 150)]</td>\n",
       "      <td>[(2, 35), (1, 150)]</td>\n",
       "    </tr>\n",
       "    <tr>\n",
       "      <td>[Instagram]</td>\n",
       "      <td>[(1, 85), (1, 110), (1, 151), (1, 229), (1, 242)]</td>\n",
       "      <td>[(1, 85), (1, 110), (1, 151), (1, 229), (1, 242)]</td>\n",
       "    </tr>\n",
       "    <tr>\n",
       "      <td>[reprodução]</td>\n",
       "      <td>[(2, 160), (1, 88), (1, 123), (1, 140), (1, 196)]</td>\n",
       "      <td>[(2, 160), (1, 88), (1, 123), (1, 140), (1, 196)]</td>\n",
       "    </tr>\n",
       "    <tr>\n",
       "      <td>[real]</td>\n",
       "      <td>[(3, 213), (2, 30), (2, 85), (2, 137), (2, 188)]</td>\n",
       "      <td>[(3, 213), (2, 30), (2, 85), (2, 137), (2, 188)]</td>\n",
       "    </tr>\n",
       "    <tr>\n",
       "      <td>[hostil]</td>\n",
       "      <td>[(1, 94), (1, 216)]</td>\n",
       "      <td>[(1, 94), (1, 216)]</td>\n",
       "    </tr>\n",
       "  </tbody>\n",
       "</table>"
      ],
      "text/plain": [
       "<IPython.core.display.HTML object>"
      ]
     },
     "metadata": {},
     "output_type": "display_data"
    },
    {
     "data": {
      "text/markdown": [
       "***"
      ],
      "text/plain": [
       "<IPython.core.display.Markdown object>"
      ]
     },
     "metadata": {},
     "output_type": "display_data"
    }
   ],
   "source": [
    "pd.set_option('max_colwidth', -1)\n",
    "display(Markdown(\"***\"))\n",
    "display(Markdown(\"### Result by Algorithm\"))\n",
    "display(HTML(queries_df.to_html(index=False)))\n",
    "display(Markdown(\"***\"))"
   ]
  },
  {
   "cell_type": "markdown",
   "metadata": {},
   "source": [
    "## Is the implementation correct?"
   ]
  },
  {
   "cell_type": "markdown",
   "metadata": {},
   "source": [
    "Comparing the results of both algorithms for each *single term query* side by side we can see that results are consistent regarding:\n",
    "* The results are the same for both algorithms, this at the very least shows that the results are consistent"
   ]
  },
  {
   "cell_type": "markdown",
   "metadata": {},
   "source": [
    "To further provide evidence let's manually check the score for the *single term query* **juíza**:"
   ]
  },
  {
   "cell_type": "code",
   "execution_count": 150,
   "metadata": {},
   "outputs": [
    {
     "data": {
      "text/html": [
       "<div>\n",
       "<style scoped>\n",
       "    .dataframe tbody tr th:only-of-type {\n",
       "        vertical-align: middle;\n",
       "    }\n",
       "\n",
       "    .dataframe tbody tr th {\n",
       "        vertical-align: top;\n",
       "    }\n",
       "\n",
       "    .dataframe thead th {\n",
       "        text-align: right;\n",
       "    }\n",
       "</style>\n",
       "<table border=\"1\" class=\"dataframe\">\n",
       "  <thead>\n",
       "    <tr style=\"text-align: right;\">\n",
       "      <th></th>\n",
       "      <th>word</th>\n",
       "      <th>doc_id:freq</th>\n",
       "    </tr>\n",
       "  </thead>\n",
       "  <tbody>\n",
       "    <tr>\n",
       "      <th>0</th>\n",
       "      <td>juíza</td>\n",
       "      <td>[(0, 2), (1, 1)]</td>\n",
       "    </tr>\n",
       "    <tr>\n",
       "      <th>2</th>\n",
       "      <td>Ivani</td>\n",
       "      <td>[(0, 1), (1, 1)]</td>\n",
       "    </tr>\n",
       "    <tr>\n",
       "      <th>4</th>\n",
       "      <td>Luz</td>\n",
       "      <td>[(0, 3), (1, 1), (124, 1)]</td>\n",
       "    </tr>\n",
       "  </tbody>\n",
       "</table>\n",
       "</div>"
      ],
      "text/plain": [
       "    word                 doc_id:freq\n",
       "0  juíza  [(0, 2), (1, 1)]          \n",
       "2  Ivani  [(0, 1), (1, 1)]          \n",
       "4  Luz    [(0, 3), (1, 1), (124, 1)]"
      ]
     },
     "execution_count": 150,
     "metadata": {},
     "output_type": "execute_result"
    }
   ],
   "source": [
    "index_df.loc[index_df['word'].isin(['juíza','Luz','Ivani'])]"
   ]
  },
  {
   "cell_type": "markdown",
   "metadata": {},
   "source": [
    "Looking at the dataframe we see that there are only two documents that contain the word \"criativo\":\n",
    "\n",
    "Taking the aforementioned in account this would give us the following (sorted by score):\n",
    "\n",
    "* retrieve by document: [(6,0), (3,1), (1,124)]\n",
    "       \n",
    "* retrieve by document: [(6,0), (3,1), (1,124)]"
   ]
  },
  {
   "cell_type": "code",
   "execution_count": 352,
   "metadata": {},
   "outputs": [
    {
     "data": {
      "text/markdown": [
       "##### So, for k = 2 we should have identical results:"
      ],
      "text/plain": [
       "<IPython.core.display.Markdown object>"
      ]
     },
     "metadata": {},
     "output_type": "display_data"
    },
    {
     "data": {
      "text/markdown": [
       "###### (we should see *[(6,0), (3,1)]* for both)"
      ],
      "text/plain": [
       "<IPython.core.display.Markdown object>"
      ]
     },
     "metadata": {},
     "output_type": "display_data"
    },
    {
     "name": "stdout",
     "output_type": "stream",
     "text": [
      "retrieve by term, k=2: [(6, 0), (3, 1)]\n",
      "retrieve by doc, k=2: [(6, 0), (3, 1)]\n"
     ]
    },
    {
     "data": {
      "text/markdown": [
       "##### So, for k = 3 we should have identical results:"
      ],
      "text/plain": [
       "<IPython.core.display.Markdown object>"
      ]
     },
     "metadata": {},
     "output_type": "display_data"
    },
    {
     "data": {
      "text/markdown": [
       "###### (we should see *[(6,0), (3,1), (1,124)]* for both)"
      ],
      "text/plain": [
       "<IPython.core.display.Markdown object>"
      ]
     },
     "metadata": {},
     "output_type": "display_data"
    },
    {
     "name": "stdout",
     "output_type": "stream",
     "text": [
      "retrieve by term, k=2: [(6, 0), (3, 1), (1, 124)]\n",
      "retrieve by doc, k=2: [(6, 0), (3, 1), (1, 124)]\n"
     ]
    }
   ],
   "source": [
    "display(Markdown(\"##### So, for k = 2 we should have identical results:\"))\n",
    "display(Markdown(\"###### (we should see *[(6,0), (3,1)]* for both)\"))\n",
    "print(\"retrieve by term, k=2: {}\".format(retrieve_by_term(index_df, ['juíza','Luz','Ivani'], 2)))\n",
    "print(\"retrieve by doc, k=2: {}\".format(retrieve_by_doc(index_df, ['juíza','Luz','Ivani'], 2)))\n",
    "\n",
    "display(Markdown(\"##### So, for k = 3 we should have identical results:\"))\n",
    "display(Markdown(\"###### (we should see *[(6,0), (3,1), (1,124)]* for both)\"))\n",
    "print(\"retrieve by term, k=2: {}\".format(retrieve_by_term(index_df, ['juíza','Luz','Ivani'], 3)))\n",
    "print(\"retrieve by doc, k=2: {}\".format(retrieve_by_doc(index_df, ['juíza','Luz','Ivani'], 3)))"
   ]
  },
  {
   "cell_type": "markdown",
   "metadata": {},
   "source": [
    "> The results match and thus we have some evidence that the implementation is correct."
   ]
  },
  {
   "cell_type": "markdown",
   "metadata": {},
   "source": [
    "## Comparison in terms of time and memory "
   ]
  },
  {
   "cell_type": "markdown",
   "metadata": {},
   "source": [
    "Let's pickle (serialize) the words that make up our index to easily use them in an experiment about performance"
   ]
  },
  {
   "cell_type": "code",
   "execution_count": 142,
   "metadata": {},
   "outputs": [],
   "source": [
    "df = pd.read_csv(\"../output/inverted_index.csv\")\n",
    "df[\"doc_id:freq\"] = df[\"doc_id:freq\"].apply(lambda x: list(literal_eval(x)))\n",
    "\n",
    "all_words = list(df[\"word\"].values)"
   ]
  },
  {
   "cell_type": "markdown",
   "metadata": {},
   "source": [
    "### Experiment Design"
   ]
  },
  {
   "cell_type": "markdown",
   "metadata": {},
   "source": [
    "Factors:\n",
    "* `k` = number of retrieved documents (at most)\n",
    "* `n_words` = number of words in the query\n",
    "\n",
    "Metrics:\n",
    "* `mem` = Average total (data+stack+text) memory use of the process, in Kilobytes.\n",
    "* `RSS` = Maximum resident set size of the process during its lifetime, in Kilobytes.\n",
    "* `elapsed` = Elapsed real (wall clock) time used by the process, in [hours:]minutes:seconds.\n",
    "* `cpu.sys` = Total number of CPU-seconds used by the system on behalf of the process (in kernel mode), in seconds.\n",
    "* `.user` = Total number of CPU-seconds that the process used directly (in user mode), in seconds."
   ]
  },
  {
   "cell_type": "code",
   "execution_count": 184,
   "metadata": {},
   "outputs": [],
   "source": [
    "def get_sec(time_str):\n",
    "    m, s = time_str.split(':')\n",
    "    return float(m) * 60 + float(s)"
   ]
  },
  {
   "cell_type": "code",
   "execution_count": 237,
   "metadata": {},
   "outputs": [
    {
     "data": {
      "text/html": [
       "<div>\n",
       "<style scoped>\n",
       "    .dataframe tbody tr th:only-of-type {\n",
       "        vertical-align: middle;\n",
       "    }\n",
       "\n",
       "    .dataframe tbody tr th {\n",
       "        vertical-align: top;\n",
       "    }\n",
       "\n",
       "    .dataframe thead th {\n",
       "        text-align: right;\n",
       "    }\n",
       "</style>\n",
       "<table border=\"1\" class=\"dataframe\">\n",
       "  <thead>\n",
       "    <tr style=\"text-align: right;\">\n",
       "      <th></th>\n",
       "      <th>mem</th>\n",
       "      <th>RSS</th>\n",
       "      <th>elapsed</th>\n",
       "      <th>cpu.sys</th>\n",
       "      <th>.user</th>\n",
       "      <th>k</th>\n",
       "      <th>n_words</th>\n",
       "      <th>approach</th>\n",
       "    </tr>\n",
       "  </thead>\n",
       "  <tbody>\n",
       "    <tr>\n",
       "      <th>148</th>\n",
       "      <td>0</td>\n",
       "      <td>84196</td>\n",
       "      <td>1.68</td>\n",
       "      <td>0.07</td>\n",
       "      <td>1.61</td>\n",
       "      <td>5</td>\n",
       "      <td>14</td>\n",
       "      <td>by_term</td>\n",
       "    </tr>\n",
       "    <tr>\n",
       "      <th>20</th>\n",
       "      <td>0</td>\n",
       "      <td>83908</td>\n",
       "      <td>3.22</td>\n",
       "      <td>0.25</td>\n",
       "      <td>2.56</td>\n",
       "      <td>1</td>\n",
       "      <td>6</td>\n",
       "      <td>by_term</td>\n",
       "    </tr>\n",
       "    <tr>\n",
       "      <th>161</th>\n",
       "      <td>0</td>\n",
       "      <td>88984</td>\n",
       "      <td>17.84</td>\n",
       "      <td>3.16</td>\n",
       "      <td>13.03</td>\n",
       "      <td>6</td>\n",
       "      <td>12</td>\n",
       "      <td>by_document</td>\n",
       "    </tr>\n",
       "    <tr>\n",
       "      <th>64</th>\n",
       "      <td>0</td>\n",
       "      <td>89276</td>\n",
       "      <td>14.15</td>\n",
       "      <td>2.39</td>\n",
       "      <td>11.11</td>\n",
       "      <td>3</td>\n",
       "      <td>5</td>\n",
       "      <td>by_document</td>\n",
       "    </tr>\n",
       "    <tr>\n",
       "      <th>11</th>\n",
       "      <td>0</td>\n",
       "      <td>89232</td>\n",
       "      <td>17.71</td>\n",
       "      <td>2.84</td>\n",
       "      <td>13.06</td>\n",
       "      <td>1</td>\n",
       "      <td>12</td>\n",
       "      <td>by_document</td>\n",
       "    </tr>\n",
       "  </tbody>\n",
       "</table>\n",
       "</div>"
      ],
      "text/plain": [
       "     mem    RSS  elapsed  cpu.sys  .user  k  n_words     approach\n",
       "148  0    84196  1.68     0.07     1.61   5  14       by_term    \n",
       "20   0    83908  3.22     0.25     2.56   1  6        by_term    \n",
       "161  0    88984  17.84    3.16     13.03  6  12       by_document\n",
       "64   0    89276  14.15    2.39     11.11  3  5        by_document\n",
       "11   0    89232  17.71    2.84     13.06  1  12       by_document"
      ]
     },
     "execution_count": 237,
     "metadata": {},
     "output_type": "execute_result"
    }
   ],
   "source": [
    "exp_results = pd.read_csv('./result.csv')\n",
    "exp_results[\"elapsed\"] = exp_results[\"elapsed\"].apply(lambda x: get_sec(x))\n",
    "exp_results.sample(5)"
   ]
  },
  {
   "cell_type": "code",
   "execution_count": 238,
   "metadata": {},
   "outputs": [
    {
     "data": {
      "text/html": [
       "<div>\n",
       "<style scoped>\n",
       "    .dataframe tbody tr th:only-of-type {\n",
       "        vertical-align: middle;\n",
       "    }\n",
       "\n",
       "    .dataframe tbody tr th {\n",
       "        vertical-align: top;\n",
       "    }\n",
       "\n",
       "    .dataframe thead th {\n",
       "        text-align: right;\n",
       "    }\n",
       "</style>\n",
       "<table border=\"1\" class=\"dataframe\">\n",
       "  <thead>\n",
       "    <tr style=\"text-align: right;\">\n",
       "      <th></th>\n",
       "      <th>k</th>\n",
       "      <th>n_words</th>\n",
       "      <th>approach</th>\n",
       "      <th>mem</th>\n",
       "      <th>RSS</th>\n",
       "      <th>elapsed</th>\n",
       "      <th>cpu.sys</th>\n",
       "      <th>.user</th>\n",
       "    </tr>\n",
       "  </thead>\n",
       "  <tbody>\n",
       "    <tr>\n",
       "      <th>0</th>\n",
       "      <td>1</td>\n",
       "      <td>1</td>\n",
       "      <td>by_document</td>\n",
       "      <td>0</td>\n",
       "      <td>89292</td>\n",
       "      <td>17.92</td>\n",
       "      <td>2.91</td>\n",
       "      <td>13.27</td>\n",
       "    </tr>\n",
       "    <tr>\n",
       "      <th>1</th>\n",
       "      <td>1</td>\n",
       "      <td>1</td>\n",
       "      <td>by_term</td>\n",
       "      <td>0</td>\n",
       "      <td>84268</td>\n",
       "      <td>2.40</td>\n",
       "      <td>0.07</td>\n",
       "      <td>2.24</td>\n",
       "    </tr>\n",
       "    <tr>\n",
       "      <th>2</th>\n",
       "      <td>1</td>\n",
       "      <td>2</td>\n",
       "      <td>by_document</td>\n",
       "      <td>0</td>\n",
       "      <td>89016</td>\n",
       "      <td>17.74</td>\n",
       "      <td>2.91</td>\n",
       "      <td>13.14</td>\n",
       "    </tr>\n",
       "    <tr>\n",
       "      <th>3</th>\n",
       "      <td>1</td>\n",
       "      <td>2</td>\n",
       "      <td>by_term</td>\n",
       "      <td>0</td>\n",
       "      <td>83816</td>\n",
       "      <td>2.37</td>\n",
       "      <td>0.10</td>\n",
       "      <td>2.17</td>\n",
       "    </tr>\n",
       "    <tr>\n",
       "      <th>4</th>\n",
       "      <td>1</td>\n",
       "      <td>3</td>\n",
       "      <td>by_document</td>\n",
       "      <td>0</td>\n",
       "      <td>88868</td>\n",
       "      <td>16.65</td>\n",
       "      <td>2.92</td>\n",
       "      <td>12.59</td>\n",
       "    </tr>\n",
       "  </tbody>\n",
       "</table>\n",
       "</div>"
      ],
      "text/plain": [
       "   k  n_words     approach  mem    RSS  elapsed  cpu.sys  .user\n",
       "0  1  1        by_document  0    89292  17.92    2.91     13.27\n",
       "1  1  1        by_term      0    84268  2.40     0.07     2.24 \n",
       "2  1  2        by_document  0    89016  17.74    2.91     13.14\n",
       "3  1  2        by_term      0    83816  2.37     0.10     2.17 \n",
       "4  1  3        by_document  0    88868  16.65    2.92     12.59"
      ]
     },
     "execution_count": 238,
     "metadata": {},
     "output_type": "execute_result"
    }
   ],
   "source": [
    "exp_results.groupby(by=[\"k\",\"n_words\",\"approach\"]).mean().reset_index().head()"
   ]
  },
  {
   "cell_type": "code",
   "execution_count": 260,
   "metadata": {},
   "outputs": [
    {
     "data": {
      "image/png": "[encoded data removed]",
      "text/plain": [
       "<Figure size 640x480 with 1 Axes>"
      ]
     },
     "metadata": {},
     "output_type": "display_data"
    },
    {
     "data": {
      "text/plain": [
       "<ggplot: (-9223363292359846375)>"
      ]
     },
     "execution_count": 260,
     "metadata": {},
     "output_type": "execute_result"
    }
   ],
   "source": [
    "(ggplot(exp_results)  \n",
    " + geom_point(aes('k', 'elapsed', color=\"approach\"))\n",
    ")"
   ]
  },
  {
   "cell_type": "markdown",
   "metadata": {},
   "source": [
    "## Conjunctive Retrieval Algorithm"
   ]
  },
  {
   "cell_type": "code",
   "execution_count": 292,
   "metadata": {},
   "outputs": [],
   "source": [
    "index = index_df \n",
    "query = ['juíza','Luz','Ivani']\n",
    "k = 5\n",
    "def conjunctive_retrieval_by_term(index, query, k):\n",
    "    try:\n",
    "        import Queue as Q  # ver. < 3.0\n",
    "    except ImportError:\n",
    "        import queue as Q\n",
    "\n",
    "    A = {}\n",
    "    result = []\n",
    "    R = Q.PriorityQueue()\n",
    "    q = Q.PriorityQueue()\n",
    "    L = index.loc[lambda df: df.word.isin(query)]\n",
    "\n",
    "    for idx, row in enumerate(L.itertuples()):\n",
    "\n",
    "        if idx == 0:\n",
    "            for doc_id, freq in getattr(row, \"_2\"):\n",
    "                A[doc_id] = freq        \n",
    "        else:\n",
    "            for doc_id, freq in getattr(row, \"_2\"):\n",
    "                if doc_id not in A:\n",
    "                    pass\n",
    "                else:\n",
    "                    A[doc_id] += freq        \n",
    "\n",
    "    for doc_id, score in A.items():\n",
    "        q.put(((-1) * score,doc_id))    \n",
    "\n",
    "    i = 0\n",
    "    while not q.empty() and i < k:\n",
    "        pair = q.get()\n",
    "        pair = ((-1) *pair[0],pair[1])\n",
    "        result.append(pair)\n",
    "        i += 1\n",
    "\n",
    "    return result"
   ]
  },
  {
   "cell_type": "markdown",
   "metadata": {},
   "source": [
    "## Placing some queries "
   ]
  },
  {
   "cell_type": "code",
   "execution_count": 342,
   "metadata": {},
   "outputs": [
    {
     "data": {
      "text/markdown": [
       "***"
      ],
      "text/plain": [
       "<IPython.core.display.Markdown object>"
      ]
     },
     "metadata": {},
     "output_type": "display_data"
    },
    {
     "data": {
      "text/markdown": [
       "#### Result of *conjunctive retrieve by term* algorithm"
      ],
      "text/plain": [
       "<IPython.core.display.Markdown object>"
      ]
     },
     "metadata": {},
     "output_type": "display_data"
    },
    {
     "data": {
      "text/html": [
       "<table border=\"1\" class=\"dataframe\">\n",
       "  <thead>\n",
       "    <tr style=\"text-align: right;\">\n",
       "      <th>query</th>\n",
       "      <th>conj_by_term</th>\n",
       "    </tr>\n",
       "  </thead>\n",
       "  <tbody>\n",
       "    <tr>\n",
       "      <td>[nesta, 55º]</td>\n",
       "      <td>[(3, 0), (3, 26), (3, 85), (3, 90), (3, 111)]</td>\n",
       "    </tr>\n",
       "    <tr>\n",
       "      <td>[1964, ditadura]</td>\n",
       "      <td>[(14, 24), (11, 165), (11, 215), (10, 164), (10, 171)]</td>\n",
       "    </tr>\n",
       "    <tr>\n",
       "      <td>[Humanos, Direitos]</td>\n",
       "      <td>[(2, 0), (2, 17), (2, 100), (2, 116), (2, 152)]</td>\n",
       "    </tr>\n",
       "    <tr>\n",
       "      <td>[Vladimir, Herzog]</td>\n",
       "      <td>[(4, 0), (2, 5), (2, 237), (1, 64), (1, 85)]</td>\n",
       "    </tr>\n",
       "    <tr>\n",
       "      <td>[Vladimir, Putin]</td>\n",
       "      <td>[(3, 165), (2, 0), (2, 85), (1, 5), (1, 64)]</td>\n",
       "    </tr>\n",
       "  </tbody>\n",
       "</table>"
      ],
      "text/plain": [
       "<IPython.core.display.HTML object>"
      ]
     },
     "metadata": {},
     "output_type": "display_data"
    },
    {
     "data": {
      "text/markdown": [
       "***"
      ],
      "text/plain": [
       "<IPython.core.display.Markdown object>"
      ]
     },
     "metadata": {},
     "output_type": "display_data"
    }
   ],
   "source": [
    "conj_queries = [\"['nesta','55º']\",\"['1964','ditadura']\",\"['Humanos','Direitos']\",\n",
    "                \"['Vladimir','Herzog']\",\"['Vladimir','Putin']\"]\n",
    "\n",
    "conj_df = pd.DataFrame(conj_queries, columns=[\"query\"])\n",
    "conj_df[\"query\"] = conj_df[\"query\"].apply(lambda x: list(literal_eval(x)))\n",
    "conj_df[\"conj_by_term\"] = conj_df[\"query\"].apply(lambda w: conjunctive_retrieval_by_term(index_df, w, k))\n",
    "\n",
    "display(Markdown(\"***\"))\n",
    "display(Markdown(\"#### Result of *conjunctive retrieve by term* algorithm\"))\n",
    "display(HTML(conj_df.to_html(index=False)))\n",
    "display(Markdown(\"***\"))"
   ]
  },
  {
   "cell_type": "markdown",
   "metadata": {},
   "source": [
    "## Is the implementation correct?"
   ]
  },
  {
   "cell_type": "markdown",
   "metadata": {},
   "source": [
    "In order to gather some evidence regarding whether the implementation is correct let's revisit the query *juíza,Luz,Ivani*"
   ]
  },
  {
   "cell_type": "code",
   "execution_count": 298,
   "metadata": {},
   "outputs": [
    {
     "data": {
      "text/html": [
       "<div>\n",
       "<style scoped>\n",
       "    .dataframe tbody tr th:only-of-type {\n",
       "        vertical-align: middle;\n",
       "    }\n",
       "\n",
       "    .dataframe tbody tr th {\n",
       "        vertical-align: top;\n",
       "    }\n",
       "\n",
       "    .dataframe thead th {\n",
       "        text-align: right;\n",
       "    }\n",
       "</style>\n",
       "<table border=\"1\" class=\"dataframe\">\n",
       "  <thead>\n",
       "    <tr style=\"text-align: right;\">\n",
       "      <th></th>\n",
       "      <th>word</th>\n",
       "      <th>doc_id:freq</th>\n",
       "    </tr>\n",
       "  </thead>\n",
       "  <tbody>\n",
       "    <tr>\n",
       "      <th>0</th>\n",
       "      <td>juíza</td>\n",
       "      <td>[(0, 2), (1, 1)]</td>\n",
       "    </tr>\n",
       "    <tr>\n",
       "      <th>2</th>\n",
       "      <td>Ivani</td>\n",
       "      <td>[(0, 1), (1, 1)]</td>\n",
       "    </tr>\n",
       "    <tr>\n",
       "      <th>4</th>\n",
       "      <td>Luz</td>\n",
       "      <td>[(0, 3), (1, 1), (124, 1)]</td>\n",
       "    </tr>\n",
       "  </tbody>\n",
       "</table>\n",
       "</div>"
      ],
      "text/plain": [
       "    word                 doc_id:freq\n",
       "0  juíza  [(0, 2), (1, 1)]          \n",
       "2  Ivani  [(0, 1), (1, 1)]          \n",
       "4  Luz    [(0, 3), (1, 1), (124, 1)]"
      ]
     },
     "execution_count": 298,
     "metadata": {},
     "output_type": "execute_result"
    }
   ],
   "source": [
    "index_df.loc[index_df['word'].isin(['juíza','Luz','Ivani'])]"
   ]
  },
  {
   "cell_type": "markdown",
   "metadata": {},
   "source": [
    "As we're now using a **conjunctive** implementation only the documents that contain all the query words will be included in the result.\n",
    "\n",
    "Consequently, the document of id=124 will be excluded as it doesn't contain neither \"juíza\" nor \"Ivani\". Finally the expected result of the *conjunctive retrieval by term* would be:\n",
    "\n",
    "for k >= 2:\n",
    "\n",
    "* [(6,0),(3,1)]\n",
    "\n",
    "for k = 1:\n",
    "\n",
    "* [(6,0)]\n"
   ]
  },
  {
   "cell_type": "code",
   "execution_count": 299,
   "metadata": {},
   "outputs": [
    {
     "data": {
      "text/markdown": [
       "##### The actual results:"
      ],
      "text/plain": [
       "<IPython.core.display.Markdown object>"
      ]
     },
     "metadata": {},
     "output_type": "display_data"
    },
    {
     "name": "stdout",
     "output_type": "stream",
     "text": [
      "k > 2 : [(6, 0), (3, 1)]\n",
      "k = 2 : [(6, 0), (3, 1)]\n",
      "k = 1 : [(6, 0)]\n"
     ]
    }
   ],
   "source": [
    "display(Markdown(\"##### The actual results:\"))\n",
    "print(\"k > 2 : {}\".format(conjunctive_retrieval_by_term(index_df, ['juíza','Luz','Ivani'], 10)))\n",
    "print(\"k = 2 : {}\".format(conjunctive_retrieval_by_term(index_df, ['juíza','Luz','Ivani'], 2)))\n",
    "print(\"k = 1 : {}\".format(conjunctive_retrieval_by_term(index_df, ['juíza','Luz','Ivani'], 1)))"
   ]
  },
  {
   "cell_type": "markdown",
   "metadata": {},
   "source": [
    "> The results match and thus we have some evidence that the implementation is correct."
   ]
  }
 ],
 "metadata": {
  "kernelspec": {
   "display_name": "Python 3",
   "language": "python",
   "name": "python3"
  },
  "language_info": {
   "codemirror_mode": {
    "name": "ipython",
    "version": 3
   },
   "file_extension": ".py",
   "mimetype": "text/x-python",
   "name": "python",
   "nbconvert_exporter": "python",
   "pygments_lexer": "ipython3",
   "version": "3.7.1"
  }
 },
 "nbformat": 4,
 "nbformat_minor": 2
}
